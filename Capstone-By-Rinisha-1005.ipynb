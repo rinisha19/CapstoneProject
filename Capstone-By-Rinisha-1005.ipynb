{
 "cells": [
  {
   "cell_type": "markdown",
   "id": "4a68f62e-9123-4f68-abbf-d2d9dc555d2f",
   "metadata": {},
   "source": [
    "<center><h1>Capstone Project - 1005 </h1></center>\n",
    "\n",
    "||||||\n",
    "|:--|:--|:--|:--|:--|\n",
    "|<span style=\"font-size: 24px;\">[**-Group Chat-**](https://chat.whatsapp.com/HaEu6RiXKkR2MSP2UZe6bb)</span>|<span style=\"font-size: 24px;\">[**-Meeting Link-**](meet.google.com/tin-rhdi-qpy)</span>|<span style=\"font-size: 24px;\">[**-Capstone Website-**](https://projects.accredian.com/capstone1/login.php)</span>|<span style=\"font-size: 24px;\">[**-Observations-**](https://docs.google.com/spreadsheets/d/1C1eAnW6pvy2OoVc_fUihWNbqMEqmpHBi/edit?usp=drivesdk&ouid=111512140113304157900&rtpof=true&sd=true)</span>|<span style=\"font-size: 24px;\">[**-Pending Tasks-**](https://docs.google.com/document/d/1C3J_FelJwN6gXLw86JW2SlZZOUWk7gel15dvbx_nYs0/edit?usp=drivesdk)\n",
    "\n",
    "---\n",
    "    \n",
    "<center><h3>Week 1 - ETL | Week 2 - EDA | Week 3 - ML | Week 4 - Dashboard</h3></center>"
   ]
  },
  {
   "cell_type": "markdown",
   "id": "62a81e74-2a3a-40c2-ab5d-e916a3ddb034",
   "metadata": {},
   "source": [
    "---\n",
    "# **Table of Contents**\n",
    "---\n",
    "\n",
    "1. [**Introduction**](#Section1)<br>\n",
    "2. [**Problem Statement**](#Section2)<br>\n",
    "    2.1 [**Project Details**](#Section21)<br>\n",
    "3. [**Installing & Importing Libraries**](#Section3)<br>\n",
    "    3.1 [**Installing Libraries**](#Section31)<br>\n",
    "    3.2 [**Upgrading Libraries**](#Section32)<br>\n",
    "    3.3 [**Importing Libraries**](#Section33)<br>\n",
    "4. [**Data Acquisition & Description**](#Section4)<br>\n",
    "    4.1 [**Data Description**](#Section41)<br>\n",
    "    4.2 [**Data Information**](#Section42)<br>\n",
    "5. [**Data Pre-Profiling**](#Section5)<br>\n",
    "6. [**Data Pre-Processing**](#Section6)<br>\n",
    "    6.1 [**Handling Missing Values**](#Section61)<br>\n",
    "    6.2 [**Handling Redundant Data & Outliers**](#Section62)<br>\n",
    "7. [**Data Post-Profiling**](#Section7)<br>\n",
    "8. [**Exploratory Data Analysis**](#Section8)<br>"
   ]
  },
  {
   "cell_type": "markdown",
   "id": "85acfbad-ea70-4184-a5af-91c2971dbeae",
   "metadata": {},
   "source": [
    "---\n",
    "<a name = Section1></a>\n",
    "# **1. Introduction**\n",
    "---\n",
    "\n",
    "**Company Introduction**\n",
    "\n",
    "Our client for this project is AccredianTelecom.\n",
    "\n",
    "- AccredianTelecom, one of the leading telecom players, understands that customizing offerings is very important for its business to stay competitive.\n",
    "- Currently, AccredianTelecom is seeking to leverage behavioural data from more than 60% of the 50 million mobile devices active daily in India\n",
    "- They are doing this to help their clients better understand and interact with their audiences.\n",
    "\n",
    "**Current Scenario**\n",
    "\n",
    "- In this consulting assignment, Accredianians are expected to build a dashboard.\n",
    "- This dashboard will help us to understand a user's demographic characteristics based on their mobile usage, geolocation, and mobile device properties\n",
    "- Doing so will help millions of developers and brand advertisers around the world pursue data-driven marketing efforts.\n",
    "- These efforts are relevant to their users and cater to their preferences."
   ]
  },
  {
   "cell_type": "markdown",
   "id": "5459876c-27c2-4d97-9717-e5d3ef8c335e",
   "metadata": {},
   "source": [
    "---\n",
    "<a name = Section2></a>\n",
    "# **2. Problem Statement**\n",
    "---\n",
    "\n",
    "- Fetch the Data onto your Python Notebook and ponder upon the challenges present in the Data."
   ]
  },
  {
   "cell_type": "markdown",
   "id": "c65dff20-66b4-4d64-abab-59e4d9f75af5",
   "metadata": {},
   "source": [
    "<a name = Section21></a>\n",
    "### **2.1 Project Details**"
   ]
  },
  {
   "cell_type": "markdown",
   "id": "8417020a-592d-4212-a957-193adef94105",
   "metadata": {},
   "source": [
    "Our Role\n",
    "\n",
    "- To help the customer the consultants are expected to have depth of clarity in the underlying data.\n",
    "- How much effort has been put into cleansing and purifying the data will decide how closely have you looked at the data..\n",
    "- How detailed is the observation stated in the submission report and finally, how well a group presents their consulting journey.\n",
    "- Please remember that this is an analytics consulting firm. Hence, your efforts in terms of finding user behaviour are going to directly impact the company's offerings.\n",
    "- Do help the company understand what is the right way forward and suggest actionable insights from marketing and product terms."
   ]
  },
  {
   "cell_type": "markdown",
   "id": "5e84d585-3bfb-4d6a-b932-bcae46ab66fe",
   "metadata": {},
   "source": [
    "---\n",
    "<a id = Section3></a>\n",
    "# **3. Installing & Importing Libraries**\n",
    "---"
   ]
  },
  {
   "cell_type": "markdown",
   "id": "75527530-f9ad-43e8-8202-97af77195131",
   "metadata": {},
   "source": [
    "<a name = Section31></a>\n",
    "### **3.1 Installing Libraries**"
   ]
  },
  {
   "cell_type": "code",
   "execution_count": 1,
   "id": "efe07b9a-4ffd-4e30-a514-253fcf440fea",
   "metadata": {},
   "outputs": [],
   "source": [
    "!pip install -q datascience                                         # Package that is required by pandas profiling\n",
    "!pip install -q pandas-profiling                                    # Library to generate basic statistics about data\n",
    "!pip install -q scikit-learn\n",
    "!pip install -q matplotlib seaborn\n",
    "!pip install -q category_encoders\n",
    "!pip install -q imbalanced-learn\n",
    "!pip install -q mysql-connector"
   ]
  },
  {
   "cell_type": "markdown",
   "id": "ed62aa26-3bcd-4c1d-8072-7706bad8f59b",
   "metadata": {},
   "source": [
    "<a name = Section31></a>\n",
    "### **3.2 Upgrading Libraries**"
   ]
  },
  {
   "cell_type": "code",
   "execution_count": 2,
   "id": "095b877c-c531-4fe4-ad3c-558e4080ad4c",
   "metadata": {},
   "outputs": [],
   "source": [
    "!pip install -q --upgrade pandas-profiling\n",
    "!pip install -q --upgrade scikit-learn"
   ]
  },
  {
   "cell_type": "code",
   "execution_count": 3,
   "id": "9c55188a-f683-4e58-a33c-ade420bfb258",
   "metadata": {},
   "outputs": [
    {
     "name": "stdout",
     "output_type": "stream",
     "text": [
      "\n",
      "Libraries Upgraded please restart runtime\n",
      "\n",
      "---------------------------------------------\n"
     ]
    }
   ],
   "source": [
    "# Runtime Restart Reminder\n",
    "\n",
    "print('\\n' + 'Libraries Upgraded please restart runtime')\n",
    "print('\\n' + '-'*45)"
   ]
  },
  {
   "cell_type": "markdown",
   "id": "6a3a422e-3a1f-49ca-b3e3-b12bf50404ae",
   "metadata": {},
   "source": [
    "<a name = Section31></a>\n",
    "### **3.3 Importing Libraries**"
   ]
  },
  {
   "cell_type": "code",
   "execution_count": 4,
   "id": "c5903b5b-1af5-495a-ae4b-533d8c638fbe",
   "metadata": {},
   "outputs": [],
   "source": [
    "import os\n",
    "import mysql.connector\n",
    "import re\n",
    "#-------------------------------------------------------------------------------------------------------------------------------\n",
    "import pandas as pd                                                 # Importing package pandas (For Panel Data Analysis)\n",
    "from pandas.api.types import CategoricalDtype\n",
    "#-------------------------------------------------------------------------------------------------------------------------------\n",
    "# Configure pandas display options for better readability\n",
    "pd.set_option('display.max_columns', None)                          # Unfolding hidden features if the cardinality is high\n",
    "pd.set_option('display.max_colwidth', None)                         # Unfolding the max feature width for better clarity\n",
    "pd.set_option('display.max_rows', None)                             # Unfolding hidden data points if the cardinality is high\n",
    "pd.set_option('mode.chained_assignment', None)                      # Removing restriction over chained assignments operations\n",
    "pd.set_option('display.float_format', lambda x: '%.2f' % x)         # To suppress scientific notation over exponential values\n",
    "#-------------------------------------------------------------------------------------------------------------------------------\n",
    "import numpy as np                                                  # Importing package numpy (For Numerical Python)\n",
    "np.set_printoptions(precision=2, suppress=True)\n",
    "#-------------------------------------------------------------------------------------------------------------------------------\n",
    "import matplotlib.pyplot as plt                                     # Importing pyplot interface to use matplotlib\n",
    "import seaborn as sns                                               # Importing seaborn library for interactive visualization\n",
    "%matplotlib inline\n",
    "#-------------------------------------------------------------------------------------------------------------------------------\n",
    "from sklearn.impute import SimpleImputer\n",
    "#-------------------------------------------------------------------------------------------------------------------------------\n",
    "from ipywidgets import interact                                     # Importing interact for creating UI controls\n",
    "import warnings                                                     # Importing warning to disable runtime warnings\n",
    "import multiprocessing\n",
    "warnings.filterwarnings(\"ignore\")                                   # Warnings will appear only once\n",
    "#-------------------------------------------------------------------------------------------------------------------------------\n",
    "from ydata_profiling import ProfileReport                           # Import Pandas Profiling (To generate Univariate Analysis)"
   ]
  },
  {
   "cell_type": "markdown",
   "id": "c9b75366-2966-43f0-a9c7-90325c381141",
   "metadata": {},
   "source": [
    "---\n",
    "<a name = Section4></a>\n",
    "# **4. Data Acquisition & Description**\n",
    "---\n",
    "\n",
    "- In this assignment, we are going to study the demographics of a user (gender and age) based on their app download and usage behaviours.\n",
    "- The Data is collected from mobile apps that use Inside Telecom services.\n",
    "- Full recognition and consent from an individual user of those apps have been obtained, and appropriate anonymization has been performed to protect privacy.\n",
    "- Due to confidentiality, we won't provide details on how the gender and age data were obtained.\n",
    "- Please treat them as accurate ground truth for prediction.\n",
    "- The data schema can be represented in the following table:\n",
    "\n",
    "    - gender_age_train - Devices and their respective user gender, age and age_group\n",
    "    - phone_brand_device_model - device ids, brand, and models phone_brand: note that few brands are in Chinese\n",
    "\n",
    "- Events_data:\n",
    "    \n",
    "    - When a user uses mobile on an Accredian Telecom network, the event gets logged in this data.\n",
    "    - Each event has an event id, location (lat/long), and the event corresponds to the frequency of mobile usage. timestamp: when the user is using the mobile.\n"
   ]
  },
  {
   "cell_type": "markdown",
   "id": "817fc89e-469f-48df-b977-aef1f1347927",
   "metadata": {},
   "source": [
    "### 4.1 Getting CWD & Listing contents"
   ]
  },
  {
   "cell_type": "code",
   "execution_count": 5,
   "id": "aa459a20-ff81-48af-a7cd-042462838a09",
   "metadata": {},
   "outputs": [
    {
     "name": "stdout",
     "output_type": "stream",
     "text": [
      "Current directory: /srv/scratch/Mihir's Approach\n",
      "Directory contents: ['Analytics.gif', 'phone_brand_device_model.csv', 'Capstone MIhir Approach.ipynb', 'events_data.csv', 'Scratch.ipynb', 'sample_profile.html', '.ipynb_checkpoints', 'gender_age_train.csv', 'population_profile.html']\n"
     ]
    }
   ],
   "source": [
    "# List directory contents\n",
    "directory = os.getcwd()  # Get the current working directory\n",
    "print(\"Current directory:\", directory)\n",
    "print(\"Directory contents:\", os.listdir(directory))"
   ]
  },
  {
   "cell_type": "markdown",
   "id": "ec6a9a9f-79de-4dec-935c-f847285af0a4",
   "metadata": {},
   "source": [
    "### 4.2 Extracting Files from remote SQL Server"
   ]
  },
  {
   "cell_type": "code",
   "execution_count": 6,
   "id": "c82b09ed-b7c3-45ed-8909-04d5b5566d94",
   "metadata": {},
   "outputs": [
    {
     "name": "stdout",
     "output_type": "stream",
     "text": [
      "('events_data',)\n",
      "('gender_age_train',)\n",
      "('phone_brand_device_model',)\n"
     ]
    }
   ],
   "source": [
    "# Connection details\n",
    "cnx = mysql.connector.connect(\n",
    "    host=\"cpanel.insaid.co\",\n",
    "    user=\"student\",\n",
    "    passwd=\"student\",\n",
    "    database=\"Capstone1\"\n",
    ")\n",
    "\n",
    "# Query to retrieve table names\n",
    "query = \"SELECT TABLE_NAME FROM INFORMATION_SCHEMA.TABLES WHERE table_schema = 'Capstone1'\"\n",
    "\n",
    "# Execute query and fetch results\n",
    "cursor = cnx.cursor()\n",
    "cursor.execute(query)\n",
    "result = cursor.fetchall()\n",
    "\n",
    "# Print table names\n",
    "for table in result:\n",
    "    print(table)\n",
    "\n",
    "# Query and retrieve data from gender_age_train table\n",
    "query_gender_age_train = \"SELECT * FROM gender_age_train\"\n",
    "cursor.execute(query_gender_age_train)\n",
    "table_rows = cursor.fetchall()\n",
    "df_gender_age_train = pd.DataFrame(table_rows, columns=['device_id', 'gender', 'age', 'group'])\n",
    "\n",
    "# Query and retrieve data from phone_brand_device_model table\n",
    "query_phone_brand_device_model = \"SELECT * FROM phone_brand_device_model\"\n",
    "cursor.execute(query_phone_brand_device_model)\n",
    "table_rows = cursor.fetchall()\n",
    "df_phone_brand_device_model = pd.DataFrame(table_rows, columns=['device_id', 'phone_brand', 'device_model'])\n",
    "\n",
    "# Close cursor and database connection\n",
    "cursor.close()\n",
    "cnx.close()"
   ]
  },
  {
   "cell_type": "code",
   "execution_count": 7,
   "id": "536764f5-9ab4-4fba-94eb-f93d040520ee",
   "metadata": {},
   "outputs": [],
   "source": [
    "# Export dataframes to CSV files\n",
    "df_gender_age_train.to_csv('gender_age_train.csv', index=False)\n",
    "df_phone_brand_device_model.to_csv('phone_brand_device_model.csv', index=False)\n",
    "\n",
    "# Pulling events_data from local resources\n",
    "df_events_data = pd.read_csv('events_data.csv')"
   ]
  },
  {
   "cell_type": "code",
   "execution_count": 8,
   "id": "3120a347-f455-48ce-849e-ec118cabf312",
   "metadata": {},
   "outputs": [
    {
     "name": "stdout",
     "output_type": "stream",
     "text": [
      "Demographics of User DF Shape: (74645, 4)\n",
      "Demographics of User - features: Index(['device_id', 'gender', 'age', 'group'], dtype='object')\n",
      "\n",
      "-------------------------\n",
      "\n",
      "Device ID to phone brand Dictionary Shape: (87726, 3)\n",
      "Device ID to phone brand Dictionary - features: Index(['device_id', 'phone_brand', 'device_model'], dtype='object')\n",
      "\n",
      "-------------------------\n",
      "\n",
      "App Download & Usage Data Shape: (3252950, 7)\n",
      "App Download & Usage Data - features Index(['event_id', 'device_id', 'timestamp', 'longitude', 'latitude', 'city',\n",
      "       'state'],\n",
      "      dtype='object')\n"
     ]
    }
   ],
   "source": [
    "print('Demographics of User DF Shape:', df_gender_age_train.shape)\n",
    "print('Demographics of User - features:', df_gender_age_train.columns)\n",
    "\n",
    "print('\\n' + '-'*25 + '\\n')\n",
    "\n",
    "print('Device ID to phone brand Dictionary Shape:', df_phone_brand_device_model.shape)\n",
    "print('Device ID to phone brand Dictionary - features:', df_phone_brand_device_model.columns)\n",
    "\n",
    "print('\\n' + '-'*25 + '\\n')\n",
    "\n",
    "print('App Download & Usage Data Shape:', df_events_data.shape)\n",
    "print('App Download & Usage Data - features', df_events_data.columns)"
   ]
  },
  {
   "cell_type": "markdown",
   "id": "b651c8b9-ab70-4f70-99b4-f33125e8885e",
   "metadata": {},
   "source": [
    "### 4.3 Transforming & Correcting Data"
   ]
  },
  {
   "cell_type": "markdown",
   "id": "b484bf3b-7e72-42d1-8630-a3a74a550e62",
   "metadata": {},
   "source": [
    "We know from the problem Statement that some Phone brands are in Chinese, so we can start cleaning by correcting 'phone_brand' & 'device_model; and finding connections with 'devide_id'"
   ]
  },
  {
   "cell_type": "code",
   "execution_count": 9,
   "id": "14ec30cb-1c9c-4824-a701-1d9433812fa5",
   "metadata": {},
   "outputs": [
    {
     "data": {
      "text/html": [
       "<div>\n",
       "<style scoped>\n",
       "    .dataframe tbody tr th:only-of-type {\n",
       "        vertical-align: middle;\n",
       "    }\n",
       "\n",
       "    .dataframe tbody tr th {\n",
       "        vertical-align: top;\n",
       "    }\n",
       "\n",
       "    .dataframe thead th {\n",
       "        text-align: right;\n",
       "    }\n",
       "</style>\n",
       "<table border=\"1\" class=\"dataframe\">\n",
       "  <thead>\n",
       "    <tr style=\"text-align: right;\">\n",
       "      <th></th>\n",
       "      <th>device_id</th>\n",
       "      <th>phone_brand</th>\n",
       "      <th>device_model</th>\n",
       "    </tr>\n",
       "  </thead>\n",
       "  <tbody>\n",
       "    <tr>\n",
       "      <th>0</th>\n",
       "      <td>1877775838486905855</td>\n",
       "      <td>vivo</td>\n",
       "      <td>Y13</td>\n",
       "    </tr>\n",
       "    <tr>\n",
       "      <th>1</th>\n",
       "      <td>-3766087376657242966</td>\n",
       "      <td>小米</td>\n",
       "      <td>V183</td>\n",
       "    </tr>\n",
       "    <tr>\n",
       "      <th>2</th>\n",
       "      <td>-6238937574958215831</td>\n",
       "      <td>OPPO</td>\n",
       "      <td>R7s</td>\n",
       "    </tr>\n",
       "    <tr>\n",
       "      <th>3</th>\n",
       "      <td>8973197758510677470</td>\n",
       "      <td>三星</td>\n",
       "      <td>A368t</td>\n",
       "    </tr>\n",
       "    <tr>\n",
       "      <th>4</th>\n",
       "      <td>-2015528097870762664</td>\n",
       "      <td>小米</td>\n",
       "      <td>红米Note2</td>\n",
       "    </tr>\n",
       "  </tbody>\n",
       "</table>\n",
       "</div>"
      ],
      "text/plain": [
       "             device_id phone_brand device_model\n",
       "0  1877775838486905855        vivo          Y13\n",
       "1 -3766087376657242966          小米         V183\n",
       "2 -6238937574958215831        OPPO          R7s\n",
       "3  8973197758510677470          三星        A368t\n",
       "4 -2015528097870762664          小米      红米Note2"
      ]
     },
     "execution_count": 9,
     "metadata": {},
     "output_type": "execute_result"
    }
   ],
   "source": [
    "df_phone_brand_device_model.head()"
   ]
  },
  {
   "cell_type": "code",
   "execution_count": 10,
   "id": "4f8cdbd1-f14f-4b4e-9eb5-d06b4b6c456b",
   "metadata": {},
   "outputs": [
    {
     "data": {
      "text/html": [
       "<div>\n",
       "<style scoped>\n",
       "    .dataframe tbody tr th:only-of-type {\n",
       "        vertical-align: middle;\n",
       "    }\n",
       "\n",
       "    .dataframe tbody tr th {\n",
       "        vertical-align: top;\n",
       "    }\n",
       "\n",
       "    .dataframe thead th {\n",
       "        text-align: right;\n",
       "    }\n",
       "</style>\n",
       "<table border=\"1\" class=\"dataframe\">\n",
       "  <thead>\n",
       "    <tr style=\"text-align: right;\">\n",
       "      <th></th>\n",
       "      <th>device_id</th>\n",
       "    </tr>\n",
       "  </thead>\n",
       "  <tbody>\n",
       "    <tr>\n",
       "      <th>count</th>\n",
       "      <td>87726.00</td>\n",
       "    </tr>\n",
       "    <tr>\n",
       "      <th>mean</th>\n",
       "      <td>-5212556568047386.00</td>\n",
       "    </tr>\n",
       "    <tr>\n",
       "      <th>std</th>\n",
       "      <td>5330156982713830400.00</td>\n",
       "    </tr>\n",
       "    <tr>\n",
       "      <th>min</th>\n",
       "      <td>-9223321966609553408.00</td>\n",
       "    </tr>\n",
       "    <tr>\n",
       "      <th>25%</th>\n",
       "      <td>-4623331173682123776.00</td>\n",
       "    </tr>\n",
       "    <tr>\n",
       "      <th>50%</th>\n",
       "      <td>-31098020763804488.00</td>\n",
       "    </tr>\n",
       "    <tr>\n",
       "      <th>75%</th>\n",
       "      <td>4635193992006549504.00</td>\n",
       "    </tr>\n",
       "    <tr>\n",
       "      <th>max</th>\n",
       "      <td>9222849349208140800.00</td>\n",
       "    </tr>\n",
       "  </tbody>\n",
       "</table>\n",
       "</div>"
      ],
      "text/plain": [
       "                    device_id\n",
       "count                87726.00\n",
       "mean     -5212556568047386.00\n",
       "std    5330156982713830400.00\n",
       "min   -9223321966609553408.00\n",
       "25%   -4623331173682123776.00\n",
       "50%     -31098020763804488.00\n",
       "75%    4635193992006549504.00\n",
       "max    9222849349208140800.00"
      ]
     },
     "execution_count": 10,
     "metadata": {},
     "output_type": "execute_result"
    }
   ],
   "source": [
    "df_phone_brand_device_model.describe()"
   ]
  },
  {
   "cell_type": "code",
   "execution_count": 11,
   "id": "39c9d7c5-690d-4c7d-b944-970724748975",
   "metadata": {},
   "outputs": [
    {
     "name": "stdout",
     "output_type": "stream",
     "text": [
      "<class 'pandas.core.frame.DataFrame'>\n",
      "RangeIndex: 87726 entries, 0 to 87725\n",
      "Data columns (total 3 columns):\n",
      " #   Column        Non-Null Count  Dtype \n",
      "---  ------        --------------  ----- \n",
      " 0   device_id     87726 non-null  int64 \n",
      " 1   phone_brand   87726 non-null  object\n",
      " 2   device_model  87726 non-null  object\n",
      "dtypes: int64(1), object(2)\n",
      "memory usage: 2.0+ MB\n"
     ]
    }
   ],
   "source": [
    "df_phone_brand_device_model.info()"
   ]
  },
  {
   "cell_type": "code",
   "execution_count": 12,
   "id": "e27fca08-a6e6-4ebc-b443-516146f6c758",
   "metadata": {},
   "outputs": [
    {
     "data": {
      "text/plain": [
       "array(['vivo', '小米', 'OPPO', '三星', '酷派', '联想 ', '华为', '奇酷', '魅族', '斐讯',\n",
       "       '中国移动', 'HTC', '天语', '至尊宝', 'LG', '欧博信', '优米', 'ZUK', '努比亚', '惠普',\n",
       "       '尼比鲁', '美图', '乡米', '摩托罗拉', '梦米', '锤子', '富可视', '乐视', '海信', '百立丰',\n",
       "       '一加', '语信', '海尔', '酷比', '纽曼', '波导', '朵唯', '聆韵', 'TCL', '酷珀', '爱派尔',\n",
       "       'LOGO', '青葱', '果米', '华硕', '昂达', '艾优尼', '康佳', '优购', '邦华', '赛博宇华',\n",
       "       '黑米', 'Lovme', '先锋', 'E派', '神舟', '诺基亚', '普耐尔', '糖葫芦', '亿通', '欧新',\n",
       "       '米奇', '酷比魔方', '蓝魔', '小杨树', '贝尔丰', '糯米', '米歌', 'E人E本', '西米', '大Q',\n",
       "       '台电', '飞利浦', '唯米', '大显', '长虹', '维图', '青橙', '本为', '虾米', '夏新', '帷幄',\n",
       "       '百加', 'SUGAR', '欧奇', '世纪星', '智镁', '欧比', '基伍', '飞秒', '德赛', '易派',\n",
       "       '谷歌', '金星数码', '广信', '诺亚信', 'MIL', '白米', '大可乐', '宝捷讯', '优语', '首云',\n",
       "       '瑞米', '瑞高', '沃普丰', '摩乐', '鲜米', '凯利通', '唯比', '欧沃', '丰米', '恒宇丰',\n",
       "       '奥克斯', '西门子', '欧乐迪', 'PPTV'], dtype=object)"
      ]
     },
     "execution_count": 12,
     "metadata": {},
     "output_type": "execute_result"
    }
   ],
   "source": [
    "df_phone_brand_device_model['phone_brand'].unique()"
   ]
  },
  {
   "cell_type": "code",
   "execution_count": 13,
   "id": "0d46c3e6-fffb-4d24-828f-eb925fcb5000",
   "metadata": {},
   "outputs": [],
   "source": [
    "df_phone_brand_device_model['phone_brand'] = df_phone_brand_device_model['phone_brand'].replace(to_replace = ['vivo', '小米', 'OPPO',\n",
    "        '三星', '酷派', '联想 ', '华为', '奇酷', '魅族', '斐讯',\n",
    "       '中国移动', 'HTC', '天语', '至尊宝', 'LG', '欧博信', '优米', 'ZUK', '努比亚', '惠普',\n",
    "       '尼比鲁', '美图', '乡米', '摩托罗拉', '梦米', '锤子', '富可视', '乐视', '海信', '百立丰',\n",
    "       '一加', '语信', '海尔', '酷比', '纽曼', '波导', '朵唯', '聆韵', 'TCL', '酷珀', '爱派尔',\n",
    "       'LOGO', '青葱', '果米', '华硕', '昂达', '艾优尼', '康佳', '优购', '邦华', '赛博宇华',\n",
    "       '黑米', 'Lovme', '先锋', 'E派', '神舟', '诺基亚', '普耐尔', '糖葫芦', '亿通', '欧新',\n",
    "       '米奇', '酷比魔方', '蓝魔', '小杨树', '贝尔丰', '糯米', '米歌', 'E人E本', '西米', '大Q',\n",
    "       '台电', '飞利浦', '唯米', '大显', '长虹', '维图', '青橙', '本为', '虾米', '夏新', '帷幄',\n",
    "       '百加', 'SUGAR', '欧奇', '世纪星', '智镁', '欧比', '基伍', '飞秒', '德赛', '易派',\n",
    "       '谷歌', '金星数码', '广信', '诺亚信', 'MIL', '白米', '大可乐', '宝捷讯', '优语', '首云',\n",
    "       '瑞米', '瑞高', '沃普丰', '摩乐', '鲜米', '凯利通', '唯比', '欧沃', '丰米', '恒宇丰',\n",
    "       '奥克斯', '西门子', '欧乐迪', 'PPTV'],\n",
    "        value= ['vivo', 'Xiaomi', 'OPPO', 'Samsung', 'Coolpad', 'Lenovo', 'Huawei', 'Qiku', 'Meizu', 'Phixun',\n",
    "       'China Mobile', 'HTC', 'Tianyu', 'Supreme treasure', 'LG', 'Oboxin', 'Youmi', 'ZUK', 'Nubia', 'HP',\n",
    "       'Nibiru', 'Meitu', 'Xiangmi', 'Motorola', 'Mengmi', 'Hammer', 'InFocus', 'LeTV', 'Hisense', 'Bailifeng',\n",
    "       'OnePlus', 'Yuxin', 'Haier', 'Cooby', 'Newman', 'Waveguide', 'Duowei', 'Ling Yun', 'TCL', 'Cooper', 'Aipel' ,\n",
    "       'LOGO', 'Scallion', 'Guomi', 'Asus', 'Onda', 'Aiuni', 'Konka', 'Yougo', 'Banghua', 'Cyber Yuhua',\n",
    "       'Black Rice', 'Lovme', 'Pioneer', 'E Pie', 'Shenzhou', 'Nokia', 'Pure', 'Candied Hulu', 'Yitong', 'Ouxin',\n",
    "       'Mickey', 'Cool Doo Cube', 'Blue Devil', 'Little Poplar', 'Belfeng', 'Glutinous Rice', 'Mi Song', 'Eren Eben', 'Simi', 'Big Q' ,\n",
    "       'Taipower', 'Philips', 'Weimi', 'Daxian', 'Changhong', 'Vitu', 'Qingcheng', 'Original', 'Shrimp', 'Xiaxin', 'Huang',\n",
    "       'Baika', 'SUGAR', 'Okey', 'Century Star', 'Chi-Mag', 'Obi', 'Kivu', 'Femtosecond', 'Desai', 'Epai',\n",
    "       'Google', 'Venus Digital', 'Guangxin', 'Noahs letter', 'MIL', 'White Rice', 'Big Cola', 'Baojixun', 'Youyu', 'Shouyun',\n",
    "       'Rimi', 'Rigao', 'Wopfeng', 'Mole', 'Xianmi', 'Kellytong', 'Vip', 'Owo', 'Fengmi', 'Hengyufeng',\n",
    "       'Ox', 'Siemens', 'Oraldi', 'PPTV'])"
   ]
  },
  {
   "cell_type": "code",
   "execution_count": 14,
   "id": "72467979-0fbd-46fe-9a34-ab9cad628499",
   "metadata": {},
   "outputs": [
    {
     "data": {
      "text/plain": [
       "array(['vivo', 'Xiaomi', 'OPPO', 'Samsung', 'Coolpad', 'Lenovo', 'Huawei',\n",
       "       'Qiku', 'Meizu', 'Phixun', 'China Mobile', 'HTC', 'Tianyu',\n",
       "       'Supreme treasure', 'LG', 'Oboxin', 'Youmi', 'ZUK', 'Nubia', 'HP',\n",
       "       'Nibiru', 'Meitu', 'Xiangmi', 'Motorola', 'Mengmi', 'Hammer',\n",
       "       'InFocus', 'LeTV', 'Hisense', 'Bailifeng', 'OnePlus', 'Yuxin',\n",
       "       'Haier', 'Cooby', 'Newman', 'Waveguide', 'Duowei', 'Ling Yun',\n",
       "       'TCL', 'Cooper', 'Aipel', 'LOGO', 'Scallion', 'Guomi', 'Asus',\n",
       "       'Onda', 'Aiuni', 'Konka', 'Yougo', 'Banghua', 'Cyber Yuhua',\n",
       "       'Black Rice', 'Lovme', 'Pioneer', 'E Pie', 'Shenzhou', 'Nokia',\n",
       "       'Pure', 'Candied Hulu', 'Yitong', 'Ouxin', 'Mickey',\n",
       "       'Cool Doo Cube', 'Blue Devil', 'Little Poplar', 'Belfeng',\n",
       "       'Glutinous Rice', 'Mi Song', 'Eren Eben', 'Simi', 'Big Q',\n",
       "       'Taipower', 'Philips', 'Weimi', 'Daxian', 'Changhong', 'Vitu',\n",
       "       'Qingcheng', 'Original', 'Shrimp', 'Xiaxin', 'Huang', 'Baika',\n",
       "       'SUGAR', 'Okey', 'Century Star', 'Chi-Mag', 'Obi', 'Kivu',\n",
       "       'Femtosecond', 'Desai', 'Epai', 'Google', 'Venus Digital',\n",
       "       'Guangxin', 'Noahs letter', 'MIL', 'White Rice', 'Big Cola',\n",
       "       'Baojixun', 'Youyu', 'Shouyun', 'Rimi', 'Rigao', 'Wopfeng', 'Mole',\n",
       "       'Xianmi', 'Kellytong', 'Vip', 'Owo', 'Fengmi', 'Hengyufeng', 'Ox',\n",
       "       'Siemens', 'Oraldi', 'PPTV'], dtype=object)"
      ]
     },
     "execution_count": 14,
     "metadata": {},
     "output_type": "execute_result"
    }
   ],
   "source": [
    "df_phone_brand_device_model['phone_brand'].unique()"
   ]
  },
  {
   "cell_type": "code",
   "execution_count": 15,
   "id": "e67de2ea-c2ab-40b7-9c08-81167c51dbfa",
   "metadata": {},
   "outputs": [
    {
     "name": "stdout",
     "output_type": "stream",
     "text": [
      "['红米Note2', '红米Note3', '大神F1Plus', 'note顶配版', '星星1号', '红米note', '青春版', '荣耀4A', '魅蓝Note2', '荣耀7i', '荣耀畅玩4C', '红米2A', '荣耀畅玩5', '荣耀7', '红米1S', '麦芒4', '荣耀6', '荣耀畅玩4X', '荣耀3X畅玩版', '荣耀X2', '魅蓝NOTE', '荣耀6Plus', '荣耀', '荣耀畅玩4', '黄金斗士A8', '小米note', '荣耀3C', '小米4C', '红米note增强版', '天鉴W900', '荣耀畅玩5X', '红米2', '大神F1', '魅蓝2', 'Mate7青春版', '乐檬K3Note', '火星一号', '乐檬K3', '联想黄金斗士S8', '大神F2', '魅蓝', '荣耀6plus', '大神F2全高清版', '灵感XL', '旗舰版', '坚果手机', '红米', '超级手机1Pro', '畅享5', '魅蓝metal', '超级手机1', '超级手机1s', '荣耀U8860', '纽扣', '荣耀畅玩平板T1', '红辣椒X1', '春雷HD', 'ivvi小i', '荣耀畅玩4C运动版', '麦芒3', '小鲜2', '大器2', '锋尚', '大神X7', '小苹果', '乐玩', '大神Note3', '么么哒3N', '锋尚Pro', '红辣椒', '荣耀3X', '三星bigfoot', '荣耀3C畅玩版', 'ivvi小骨Pro', '红辣椒XM', '远航3', 'My布拉格', 'metal标准版', '畅享5S', '红辣椒Note', '锋尚Max', '2016版GalaxyA9', '红牛V5', '2016版GalaxyA5', '锋尚2', '金钢', '野火S', '2016版GalaxyA7', '红米3', '小辣椒X3', '荣耀平板T1823L', '大神Note', '7295A青春版', '大QNote', '么么哒', '小辣椒M2', '黄金斗士Note8', '炫影S', '风华3', 'TALK7X四核', '2016版GalaxyJ7', '天鉴T1', '土星一号', '麦芒3S', '飞马', '联想VIBEX2', '威武3', '红辣椒任性版Plus', '小辣椒9', '大观4', '超级手机Max', '星星2号', '雷霆战机', '威武3C', '倾城L3', 'Z9mini精英版', '小辣椒S1', '小辣椒5', 'T03锋至版', '乐玩2C', '么么哒3S', '乐檬K31', '黄金斗士S8畅玩版', '时尚手机', '大神1s', '倾城L3C', '小辣椒4', 'XperiaZ1炫彩版', '微客', '黄金斗士青春版', '红辣椒NXPlus', '小鲜3', '小星星', '大器3', '小辣椒6', '金刚II', '中兴远航3', 'Axon天机', '青漾3', '小辣椒3', '旋影90w', '小辣椒7', '醉享', '渴望HD', '小辣椒M3', '飞马3', '领世旗舰3', '小辣椒X4', '红辣椒Note3', '天鉴W808', '天鉴W900S', '大观铂顿', '魅蓝Note3', 'RazrV锋芒', '火星一号探索版', 'MotoX极', '魔镜X5', '小章鱼', '乐檬3', '乐檬X3', '飞马2Plus']\n"
     ]
    }
   ],
   "source": [
    "# Function to check if a string contains non-English characters\n",
    "def contains_non_english(text):\n",
    "    return not all(char.isascii() for char in text)\n",
    "\n",
    "# Remove special characters and spaces from device_model column\n",
    "df_phone_brand_device_model['device_model_cleaned'] = df_phone_brand_device_model['device_model'].apply(\n",
    "    lambda x: re.sub(r'\\W+', '', x.replace(' ', '')))\n",
    "\n",
    "# Extract unique values with non-English characters to a list\n",
    "unique_device_models = df_phone_brand_device_model['device_model_cleaned'].unique()\n",
    "unique_device_models = [model for model in unique_device_models if contains_non_english(model)]\n",
    "\n",
    "# Display the list of unique device models\n",
    "print(unique_device_models)"
   ]
  },
  {
   "cell_type": "code",
   "execution_count": 16,
   "id": "70e99694-d426-4a2c-87ca-9e8a118a880c",
   "metadata": {},
   "outputs": [],
   "source": [
    "df_phone_brand_device_model['device_model'] = df_phone_brand_device_model['device_model'].replace(to_replace = ['红米Note2','红米Note3','大神F1Plus','note顶配版','星星1号','红米note', '青春版','荣耀4A','魅蓝Note 2',\n",
    "                        '荣耀7i','荣耀畅玩4C','红米2A','荣耀畅玩5','荣耀7',  '红米1S','麦芒4','荣耀6','荣耀畅玩4X','荣耀3X畅玩版','荣耀X2',\n",
    "                        '魅蓝NOTE','荣耀6 Plus','荣耀+','荣耀畅玩4','黄金斗士A8','小米note','荣耀3C','小米4C','红米note增强版','天鉴W900', '荣耀畅玩5X',\n",
    "                        '红米2','大神F1','魅蓝2','Mate 7 青春版','乐檬K3 Note','火星一号','乐檬K3', '联想黄金斗士S8','大神F2','魅蓝','荣耀6 plus','大神F2全高清版',\n",
    "                        '灵感XL','旗舰版','坚果手机','红米', '超级手机1 Pro','畅享5','魅蓝metal','超级手机1','超级手机1s','荣耀U8860','纽扣','荣耀畅玩平板T1', '红辣椒 X1',\n",
    "                        '春雷HD','ivvi 小i','荣耀畅玩4C运动版','麦芒3','小鲜2','大器2', '锋尚','大神X7','小苹果','乐玩','大神Note3','么么哒3N','锋尚Pro','红辣椒','荣耀3X',\n",
    "                        '三星big foot','荣耀3C畅玩版','ivvi 小骨Pro', '红辣椒XM', '远航3', 'My 布拉格', 'metal 标准版', '畅享5S', '红辣椒Note', '锋尚Max', '2016版 Galaxy', '红牛V5',\n",
    "                        '2016版 Galaxy', '锋尚2','金钢','野火S','2016版 Galaxy','红米3','小辣椒 X3','荣耀平板T1-','大神Note','7295A青春版','大Q Note','么么哒',\n",
    "                        '小辣椒 M2','黄金斗士Note8','炫影S+','风华3','TALK 7X四核','2016版 Galaxy', '天鉴T1','土星一号', '麦芒3S','飞马','联想VIBE X2', '威武3', '红辣椒任性版',\n",
    "                        '小辣椒 9', '大观4', '超级手机Max','星星2号','雷霆战机','威武3C', '倾城L3','Z9 mini 精英版','小辣椒S1', '小辣椒 5','T03锋至版','乐玩2C','么么哒3S','乐K31',\n",
    " '黄金斗士S8畅玩版','时尚手机'],\n",
    "                            value= ['Redmi Note2', 'Redmi Note3', 'Great God F1Plus', 'note top version', 'Star 1', 'Redmi note',  'Youth Edition','Honor 4A','Meizu Note 2','Honor 7i','Honor Play 4C','Redmi 2A','Honor Play 5','Honor 7', 'Redmi 1S', 'Maimang 4', 'Honor 6', 'Honor Play 4X', 'Honor 3X Play Edition', 'Honor X2', 'Mei Lan NOTE', 'Honor 6 Plus',\n",
    "                        'Honor+', 'Honor Play 4', 'Golden Fighter A8', 'Xiaomi Note', 'Honor 3C', 'Xiaomi 4C', 'Redmi Note Enhanced Edition', 'Tianjian W900',\n",
    "                        'Honor Play 5X','Red Rice 2','Great God F1','Meizu 2','Mate 7 Youth Edition','Lemeng K3 Note','Mars One','Lemeng K3',\n",
    "                        'Lenovo Gold Fighter S8', 'Dashen F2', 'Charm Blue', 'Honor 6 plus', 'Dashen F2 Full HD Version', 'Inspiration XL', 'Ultimate Edition', 'Nut Phone', 'Red Rice' ,\n",
    "                        'Super Phone 1 Pro', 'Enjoy 5', 'Meizu Metal', 'Super Phone 1', 'Super Phone 1s', 'Honor U8860', 'Button', 'Honor Play Tablet T1', 'Red Pepper X1', 'Chunlei HD', 'ivvi Xiaoi', 'Honor Play 4C Sports Edition', 'Maimang 3', 'Xiaoxian 2','Big 2','Feng Shang','Great God X7','Little Apple','Have fun','Great God Note3','Momoda 3N','Fengshang Pro','Red chilli','Honor 3X','Samsung big foot','Honor 3C Play Edition','ivvi Osicles Pro', 'Red Pepper XM','voyage 3','My Prague','metal Standard Edition','Enjoy 5S','Red Pepper Note','Feng Shang Max','2016 Edition Galaxy','Red Bull V5','2016 Edition Galaxy','Feng Shang 2','Golden Steel','Wildfire S','2016 Edition Galaxy','Red Rice 3','Pepper X3','Honor Tablet T1-','Great God Note','7295A Youth Edition','Big Q Note','mwah','Pepper M2','Golden Warrior Note8', 'Hyunying S+','Fenghua 3','TALK 7X Quad Core','2016 version of Galaxy','Tianjian T1','Saturn One','Maimang 3S','Pegasus','Lenovo VIBE X2','Mighty 3','Red pepper capricious version','Pepper 9','Grand View 4','Super Phone Max','Star 2','Thunder Fighter','Mighty 3C','Allure L3','Z9 mini Elite Edition','Chili S1','Pepper 5','T03 Frontier Edition','Fun 2C','Momada 3S','Lemeng K31','Golden Fighter S8 Play Edition','Fashionable phone'])\n"
   ]
  },
  {
   "cell_type": "code",
   "execution_count": 17,
   "id": "2fa03fa8-d47f-4dff-835a-862be8a7f194",
   "metadata": {},
   "outputs": [
    {
     "name": "stdout",
     "output_type": "stream",
     "text": [
      "['2016版GalaxyA9', '2016版GalaxyA5', '2016版GalaxyA7', '荣耀平板T1823L', '2016版GalaxyJ7', '红辣椒任性版Plus', '乐檬K31', '大神1s', '倾城L3C', '小辣椒4', 'XperiaZ1炫彩版', '微客', '黄金斗士青春版', '红辣椒NXPlus', '小鲜3', '小星星', '大器3', '小辣椒6', '金刚II', '中兴远航3', 'Axon天机', '青漾3', '小辣椒3', '旋影90w', '小辣椒7', '醉享', '渴望HD', '小辣椒M3', '飞马3', '领世旗舰3', '小辣椒X4', '红辣椒Note3', '天鉴W808', '天鉴W900S', '大观铂顿', '魅蓝Note3', 'RazrV锋芒', '火星一号探索版', 'MotoX极', '魔镜X5', '小章鱼', '乐檬3', '乐檬X3', '飞马2Plus']\n"
     ]
    }
   ],
   "source": [
    "# Function to check if a string contains non-English characters\n",
    "def contains_non_english(text):\n",
    "    return not all(char.isascii() for char in text)\n",
    "\n",
    "# Remove special characters and spaces from device_model column\n",
    "df_phone_brand_device_model['device_model_cleaned'] = df_phone_brand_device_model['device_model'].apply(\n",
    "    lambda x: re.sub(r'\\W+', '', x.replace(' ', '')))\n",
    "\n",
    "# Extract unique values with non-English characters to a list\n",
    "unique_device_models = df_phone_brand_device_model['device_model_cleaned'].unique()\n",
    "unique_device_models = [model for model in unique_device_models if contains_non_english(model)]\n",
    "\n",
    "# Display the list of unique device models\n",
    "print(unique_device_models)"
   ]
  },
  {
   "cell_type": "code",
   "execution_count": 18,
   "id": "4b4130ae-60f0-4bf3-986d-1f81a62f3d70",
   "metadata": {},
   "outputs": [],
   "source": [
    "# Replace device_model values with their corresponding replacements\n",
    "df_phone_brand_device_model['device_model'] = df_phone_brand_device_model['device_model'].replace(\n",
    "    to_replace=['2016版GalaxyA9', '2016版GalaxyA5', '2016版GalaxyA7', '荣耀平板T1823L', '2016版GalaxyJ7',\n",
    "                '红辣椒任性版Plus', '乐檬K31', '大神1s', '倾城L3C', '小辣椒4', 'XperiaZ1炫彩版', '微客', '黄金斗士青春版',\n",
    "                '红辣椒NXPlus', '小鲜3', '小星星', '大器3', '小辣椒6', '金刚II', '中兴远航3', 'Axon天机', '青漾3',\n",
    "                '小辣椒3', '旋影90w', '小辣椒7', '醉享', '渴望HD', '小辣椒M3', '飞马3', '领世旗舰3', '小辣椒X4',\n",
    "                '红辣椒Note3', '天鉴W808', '天鉴W900S', '大观铂顿', '魅蓝Note3', 'RazrV锋芒', '火星一号探索版',\n",
    "                'MotoX极', '魔镜X5', '小章鱼', '乐檬3', '乐檬X3', '飞马2Plus'],\n",
    "    value=['GalaxyA9 2016', 'GalaxyA5 2016', 'GalaxyA7 2016', 'Honor Tablet T1823L', 'GalaxyJ7 2016',\n",
    "           'Red Pepper Plus', 'Lemeng K31', 'Great God 1s', 'Qingcheng L3C', 'Little Pepper 4',\n",
    "           'Xperia Z1 Colorful Edition', 'Weike', 'Golden Fighter Youth Edition', 'Red Pepper NXPlus',\n",
    "           'Little Fresh 3', 'Little Star', 'Big Machine 3', 'Little Pepper 6', 'King Kong II',\n",
    "           'ZTE Yuanhang 3', 'Axon', 'Qingyang 3', 'Little Pepper 3', 'Swirl Shadow 90w',\n",
    "           'Little Pepper 7', 'Drunk Enjoy', 'Desire HD', 'Little Pepper M3', 'Pegasus 3',\n",
    "           'Leading Flagship 3', 'Little Pepper X4', 'Red Pepper Note3', 'Tianjian W808',\n",
    "           'Tianjian W900S', 'Grand View Platinum', 'Meizu Note3', 'RazrV Edge',\n",
    "           'Mars One Exploration Edition', 'MotoX Extreme', 'Magic Mirror X5', 'Little Octopus',\n",
    "           'Le Meng 3', 'Lemon X3', 'Pegasus 2Plus']\n",
    ")"
   ]
  },
  {
   "cell_type": "code",
   "execution_count": 19,
   "id": "9046fd47-d7c3-4a76-b02d-5150d4248a15",
   "metadata": {},
   "outputs": [
    {
     "name": "stdout",
     "output_type": "stream",
     "text": [
      "['2016版GalaxyA9', '2016版GalaxyA5', '2016版GalaxyA7', '荣耀平板T1823L', '2016版GalaxyJ7', '红辣椒任性版Plus', '小辣椒4', 'XperiaZ1炫彩版', '红辣椒NXPlus', '小辣椒6', '小辣椒3', '小辣椒7', '小辣椒M3', 'RazrV锋芒', 'MotoX极', '魔镜X5', '飞马2Plus']\n"
     ]
    }
   ],
   "source": [
    "# Remove special characters and spaces from device_model column\n",
    "df_phone_brand_device_model['device_model_cleaned'] = df_phone_brand_device_model['device_model'].apply(\n",
    "    lambda x: re.sub(r'\\W+', '', x.replace(' ', '')))\n",
    "\n",
    "# Extract unique values with non-English characters to a list\n",
    "unique_device_models = df_phone_brand_device_model['device_model_cleaned'].unique()\n",
    "unique_device_models = [model for model in unique_device_models if contains_non_english(model)]\n",
    "\n",
    "# Display the list of unique device models\n",
    "print(unique_device_models)"
   ]
  },
  {
   "cell_type": "code",
   "execution_count": 20,
   "id": "b9abb11a-6635-4f80-82bd-88414b7e8bd4",
   "metadata": {},
   "outputs": [],
   "source": [
    "df_phone_brand_device_model.drop('device_model_cleaned', axis=1, inplace=True)"
   ]
  },
  {
   "cell_type": "code",
   "execution_count": 21,
   "id": "e4c680e6-ec10-40d3-b41a-a09b0839fb8d",
   "metadata": {},
   "outputs": [
    {
     "name": "stdout",
     "output_type": "stream",
     "text": [
      "<class 'pandas.core.frame.DataFrame'>\n",
      "RangeIndex: 87726 entries, 0 to 87725\n",
      "Data columns (total 3 columns):\n",
      " #   Column        Non-Null Count  Dtype \n",
      "---  ------        --------------  ----- \n",
      " 0   device_id     87726 non-null  int64 \n",
      " 1   phone_brand   87726 non-null  object\n",
      " 2   device_model  87726 non-null  object\n",
      "dtypes: int64(1), object(2)\n",
      "memory usage: 2.0+ MB\n"
     ]
    }
   ],
   "source": [
    "df_phone_brand_device_model.info()"
   ]
  },
  {
   "cell_type": "markdown",
   "id": "ea08bc87-a8a4-4c2d-aa6c-27f0fc2d3492",
   "metadata": {},
   "source": [
    "### Further Cleaning of 'Device ID to phone brand Dictionary'can be resumed from here"
   ]
  },
  {
   "cell_type": "code",
   "execution_count": 22,
   "id": "76107c76-0b97-462f-9e33-e7cc87dd22c0",
   "metadata": {},
   "outputs": [
    {
     "data": {
      "text/html": [
       "<div>\n",
       "<style scoped>\n",
       "    .dataframe tbody tr th:only-of-type {\n",
       "        vertical-align: middle;\n",
       "    }\n",
       "\n",
       "    .dataframe tbody tr th {\n",
       "        vertical-align: top;\n",
       "    }\n",
       "\n",
       "    .dataframe thead th {\n",
       "        text-align: right;\n",
       "    }\n",
       "</style>\n",
       "<table border=\"1\" class=\"dataframe\">\n",
       "  <thead>\n",
       "    <tr style=\"text-align: right;\">\n",
       "      <th></th>\n",
       "      <th>device_id</th>\n",
       "      <th>age</th>\n",
       "    </tr>\n",
       "  </thead>\n",
       "  <tbody>\n",
       "    <tr>\n",
       "      <th>count</th>\n",
       "      <td>74645.00</td>\n",
       "      <td>74645.00</td>\n",
       "    </tr>\n",
       "    <tr>\n",
       "      <th>mean</th>\n",
       "      <td>-749135388419928.50</td>\n",
       "      <td>31.41</td>\n",
       "    </tr>\n",
       "    <tr>\n",
       "      <th>std</th>\n",
       "      <td>5327149733911419904.00</td>\n",
       "      <td>9.87</td>\n",
       "    </tr>\n",
       "    <tr>\n",
       "      <th>min</th>\n",
       "      <td>-9223067244542181376.00</td>\n",
       "      <td>1.00</td>\n",
       "    </tr>\n",
       "    <tr>\n",
       "      <th>25%</th>\n",
       "      <td>-4617366812584264704.00</td>\n",
       "      <td>25.00</td>\n",
       "    </tr>\n",
       "    <tr>\n",
       "      <th>50%</th>\n",
       "      <td>-18413620249632024.00</td>\n",
       "      <td>29.00</td>\n",
       "    </tr>\n",
       "    <tr>\n",
       "      <th>75%</th>\n",
       "      <td>4636655899093149696.00</td>\n",
       "      <td>36.00</td>\n",
       "    </tr>\n",
       "    <tr>\n",
       "      <th>max</th>\n",
       "      <td>9222849349208140800.00</td>\n",
       "      <td>96.00</td>\n",
       "    </tr>\n",
       "  </tbody>\n",
       "</table>\n",
       "</div>"
      ],
      "text/plain": [
       "                    device_id      age\n",
       "count                74645.00 74645.00\n",
       "mean      -749135388419928.50    31.41\n",
       "std    5327149733911419904.00     9.87\n",
       "min   -9223067244542181376.00     1.00\n",
       "25%   -4617366812584264704.00    25.00\n",
       "50%     -18413620249632024.00    29.00\n",
       "75%    4636655899093149696.00    36.00\n",
       "max    9222849349208140800.00    96.00"
      ]
     },
     "execution_count": 22,
     "metadata": {},
     "output_type": "execute_result"
    }
   ],
   "source": [
    "df_gender_age_train.describe()"
   ]
  },
  {
   "cell_type": "code",
   "execution_count": 23,
   "id": "aa4aa498-edd9-481c-baf8-0c1f1ff3b88c",
   "metadata": {},
   "outputs": [
    {
     "data": {
      "text/plain": [
       "device_id    0\n",
       "gender       0\n",
       "age          0\n",
       "group        0\n",
       "dtype: int64"
      ]
     },
     "execution_count": 23,
     "metadata": {},
     "output_type": "execute_result"
    }
   ],
   "source": [
    "df_gender_age_train.isnull().sum()"
   ]
  },
  {
   "cell_type": "code",
   "execution_count": 24,
   "id": "bde2a0ce-b773-4afa-afee-88c63b6959a0",
   "metadata": {},
   "outputs": [
    {
     "data": {
      "image/png": "[encoded data removed]",
      "text/plain": [
       "<Figure size 1500x700 with 1 Axes>"
      ]
     },
     "metadata": {},
     "output_type": "display_data"
    }
   ],
   "source": [
    "# Distribution of Gender in gender_age_train table\n",
    "fig, ax = plt.subplots(figsize = (15,7))\n",
    "\n",
    "sns.barplot(x =df_gender_age_train['gender'].value_counts().keys(), y=df_gender_age_train['gender'].value_counts())\n",
    "plt.xlabel('User by Gender')\n",
    "plt.ylabel('Counts')\n",
    "plt.title('Gender')\n",
    "plt.show()"
   ]
  },
  {
   "cell_type": "code",
   "execution_count": 25,
   "id": "d0bfdc0f-651b-4ed5-a829-b2857915f90f",
   "metadata": {},
   "outputs": [
    {
     "data": {
      "image/png": "[encoded data removed]",
      "text/plain": [
       "<Figure size 1500x700 with 1 Axes>"
      ]
     },
     "metadata": {},
     "output_type": "display_data"
    }
   ],
   "source": [
    "# Set font sizes\n",
    "plt.rcParams.update({'font.size': 14})\n",
    "sns.set(font_scale=1.2)\n",
    "\n",
    "# Create the figure and axis objects\n",
    "fig, ax = plt.subplots(figsize=(15, 7))\n",
    "\n",
    "# Plot the bar chart with viridis color map\n",
    "sns.barplot(x=df_gender_age_train['group'].value_counts().keys(),\n",
    "            y=df_gender_age_train['group'].value_counts(), ax=ax, palette='viridis')\n",
    "\n",
    "# Set the labels and title\n",
    "ax.set_xlabel('Group')\n",
    "ax.set_ylabel('Counts')\n",
    "ax.set_title('Age Group')\n",
    "\n",
    "# Display the plot\n",
    "plt.show()"
   ]
  },
  {
   "cell_type": "code",
   "execution_count": 26,
   "id": "924b7c81-7414-4579-9da5-b779be3f301f",
   "metadata": {},
   "outputs": [
    {
     "data": {
      "text/html": [
       "<div>\n",
       "<style scoped>\n",
       "    .dataframe tbody tr th:only-of-type {\n",
       "        vertical-align: middle;\n",
       "    }\n",
       "\n",
       "    .dataframe tbody tr th {\n",
       "        vertical-align: top;\n",
       "    }\n",
       "\n",
       "    .dataframe thead th {\n",
       "        text-align: right;\n",
       "    }\n",
       "</style>\n",
       "<table border=\"1\" class=\"dataframe\">\n",
       "  <thead>\n",
       "    <tr style=\"text-align: right;\">\n",
       "      <th>group</th>\n",
       "      <th>F23-</th>\n",
       "      <th>F24-26</th>\n",
       "      <th>F27-28</th>\n",
       "      <th>F29-32</th>\n",
       "      <th>F33-42</th>\n",
       "      <th>F43+</th>\n",
       "      <th>M22-</th>\n",
       "      <th>M23-26</th>\n",
       "      <th>M27-28</th>\n",
       "      <th>M29-31</th>\n",
       "      <th>M32-38</th>\n",
       "      <th>M39+</th>\n",
       "    </tr>\n",
       "    <tr>\n",
       "      <th>gender</th>\n",
       "      <th></th>\n",
       "      <th></th>\n",
       "      <th></th>\n",
       "      <th></th>\n",
       "      <th></th>\n",
       "      <th></th>\n",
       "      <th></th>\n",
       "      <th></th>\n",
       "      <th></th>\n",
       "      <th></th>\n",
       "      <th></th>\n",
       "      <th></th>\n",
       "    </tr>\n",
       "  </thead>\n",
       "  <tbody>\n",
       "    <tr>\n",
       "      <th>F</th>\n",
       "      <td>5050</td>\n",
       "      <td>4190</td>\n",
       "      <td>3118</td>\n",
       "      <td>4628</td>\n",
       "      <td>5561</td>\n",
       "      <td>4194</td>\n",
       "      <td>0</td>\n",
       "      <td>0</td>\n",
       "      <td>0</td>\n",
       "      <td>0</td>\n",
       "      <td>0</td>\n",
       "      <td>0</td>\n",
       "    </tr>\n",
       "    <tr>\n",
       "      <th>M</th>\n",
       "      <td>0</td>\n",
       "      <td>0</td>\n",
       "      <td>0</td>\n",
       "      <td>0</td>\n",
       "      <td>0</td>\n",
       "      <td>0</td>\n",
       "      <td>7488</td>\n",
       "      <td>9605</td>\n",
       "      <td>5445</td>\n",
       "      <td>7309</td>\n",
       "      <td>9476</td>\n",
       "      <td>8581</td>\n",
       "    </tr>\n",
       "  </tbody>\n",
       "</table>\n",
       "</div>"
      ],
      "text/plain": [
       "group   F23-  F24-26  F27-28  F29-32  F33-42  F43+  M22-  M23-26  M27-28  \\\n",
       "gender                                                                     \n",
       "F       5050    4190    3118    4628    5561  4194     0       0       0   \n",
       "M          0       0       0       0       0     0  7488    9605    5445   \n",
       "\n",
       "group   M29-31  M32-38  M39+  \n",
       "gender                        \n",
       "F            0       0     0  \n",
       "M         7309    9476  8581  "
      ]
     },
     "execution_count": 26,
     "metadata": {},
     "output_type": "execute_result"
    }
   ],
   "source": [
    "# Generate the crosstab\n",
    "crosstab = pd.crosstab(df_gender_age_train['gender'], df_gender_age_train['group'])\n",
    "\n",
    "crosstab"
   ]
  },
  {
   "cell_type": "markdown",
   "id": "35be1b18-93b6-4acf-b4b7-25f16457b08b",
   "metadata": {},
   "source": [
    "### Observations\n",
    "\n",
    "- Among the female population in the dataset, the most represented age group is 'F33-42' with a count of 5561, indicating a relatively higher number of females in their thirties and forties. This is followed by the age group 'F43+' with a count of 4194, suggesting a significant presence of older females.\n",
    "\n",
    "- Among the male population in the dataset, the most represented age group is 'M23-26' with a count of 9605, indicating a higher number of males in their early to mid-twenties. The second most represented age group is 'M29-31' with a count of 9476, suggesting a considerable presence of males in their late twenties to early thirties.\n",
    "\n",
    "- It is interesting to note that there are no individuals in the dataset falling under the age group categories 'M22-' or 'M27-28' for males. This absence is evident from the counts of 0 in the crosstab, indicating that there are no males in the dataset belonging to these age groups."
   ]
  },
  {
   "cell_type": "code",
   "execution_count": 27,
   "id": "58cebbae-c7f6-464b-8835-466217b43ce0",
   "metadata": {},
   "outputs": [
    {
     "data": {
      "text/html": [
       "<div>\n",
       "<style scoped>\n",
       "    .dataframe tbody tr th:only-of-type {\n",
       "        vertical-align: middle;\n",
       "    }\n",
       "\n",
       "    .dataframe tbody tr th {\n",
       "        vertical-align: top;\n",
       "    }\n",
       "\n",
       "    .dataframe thead th {\n",
       "        text-align: right;\n",
       "    }\n",
       "</style>\n",
       "<table border=\"1\" class=\"dataframe\">\n",
       "  <thead>\n",
       "    <tr style=\"text-align: right;\">\n",
       "      <th></th>\n",
       "      <th>event_id</th>\n",
       "      <th>device_id</th>\n",
       "      <th>timestamp</th>\n",
       "      <th>longitude</th>\n",
       "      <th>latitude</th>\n",
       "      <th>city</th>\n",
       "      <th>state</th>\n",
       "    </tr>\n",
       "  </thead>\n",
       "  <tbody>\n",
       "    <tr>\n",
       "      <th>0</th>\n",
       "      <td>2765368</td>\n",
       "      <td>2973347786994914304.00</td>\n",
       "      <td>2016-05-07 22:52:05</td>\n",
       "      <td>77.23</td>\n",
       "      <td>28.73</td>\n",
       "      <td>Delhi</td>\n",
       "      <td>Delhi</td>\n",
       "    </tr>\n",
       "    <tr>\n",
       "      <th>1</th>\n",
       "      <td>2955066</td>\n",
       "      <td>4734221357723754496.00</td>\n",
       "      <td>2016-05-01 20:44:16</td>\n",
       "      <td>88.39</td>\n",
       "      <td>22.66</td>\n",
       "      <td>Calcutta</td>\n",
       "      <td>WestBengal</td>\n",
       "    </tr>\n",
       "    <tr>\n",
       "      <th>2</th>\n",
       "      <td>605968</td>\n",
       "      <td>-3264499652692492800.00</td>\n",
       "      <td>2016-05-02 14:23:04</td>\n",
       "      <td>77.26</td>\n",
       "      <td>28.76</td>\n",
       "      <td>Delhi</td>\n",
       "      <td>Delhi</td>\n",
       "    </tr>\n",
       "    <tr>\n",
       "      <th>3</th>\n",
       "      <td>448114</td>\n",
       "      <td>5731369272434022400.00</td>\n",
       "      <td>2016-05-03 13:21:16</td>\n",
       "      <td>80.34</td>\n",
       "      <td>13.15</td>\n",
       "      <td>Chennai</td>\n",
       "      <td>TamilNadu</td>\n",
       "    </tr>\n",
       "    <tr>\n",
       "      <th>4</th>\n",
       "      <td>665740</td>\n",
       "      <td>338888002570799936.00</td>\n",
       "      <td>2016-05-06 03:51:05</td>\n",
       "      <td>86.00</td>\n",
       "      <td>23.84</td>\n",
       "      <td>Bokaro</td>\n",
       "      <td>Jharkhand</td>\n",
       "    </tr>\n",
       "  </tbody>\n",
       "</table>\n",
       "</div>"
      ],
      "text/plain": [
       "   event_id               device_id            timestamp  longitude  latitude  \\\n",
       "0   2765368  2973347786994914304.00  2016-05-07 22:52:05      77.23     28.73   \n",
       "1   2955066  4734221357723754496.00  2016-05-01 20:44:16      88.39     22.66   \n",
       "2    605968 -3264499652692492800.00  2016-05-02 14:23:04      77.26     28.76   \n",
       "3    448114  5731369272434022400.00  2016-05-03 13:21:16      80.34     13.15   \n",
       "4    665740   338888002570799936.00  2016-05-06 03:51:05      86.00     23.84   \n",
       "\n",
       "       city       state  \n",
       "0     Delhi       Delhi  \n",
       "1  Calcutta  WestBengal  \n",
       "2     Delhi       Delhi  \n",
       "3   Chennai   TamilNadu  \n",
       "4    Bokaro   Jharkhand  "
      ]
     },
     "execution_count": 27,
     "metadata": {},
     "output_type": "execute_result"
    }
   ],
   "source": [
    "df_events_data.head()"
   ]
  },
  {
   "cell_type": "code",
   "execution_count": 28,
   "id": "4d76ea57-c415-45a5-99cc-1f3a18dc5254",
   "metadata": {},
   "outputs": [
    {
     "data": {
      "text/html": [
       "<div>\n",
       "<style scoped>\n",
       "    .dataframe tbody tr th:only-of-type {\n",
       "        vertical-align: middle;\n",
       "    }\n",
       "\n",
       "    .dataframe tbody tr th {\n",
       "        vertical-align: top;\n",
       "    }\n",
       "\n",
       "    .dataframe thead th {\n",
       "        text-align: right;\n",
       "    }\n",
       "</style>\n",
       "<table border=\"1\" class=\"dataframe\">\n",
       "  <thead>\n",
       "    <tr style=\"text-align: right;\">\n",
       "      <th></th>\n",
       "      <th>event_id</th>\n",
       "      <th>device_id</th>\n",
       "      <th>longitude</th>\n",
       "      <th>latitude</th>\n",
       "    </tr>\n",
       "  </thead>\n",
       "  <tbody>\n",
       "    <tr>\n",
       "      <th>count</th>\n",
       "      <td>3252950.00</td>\n",
       "      <td>3252497.00</td>\n",
       "      <td>3252527.00</td>\n",
       "      <td>3252527.00</td>\n",
       "    </tr>\n",
       "    <tr>\n",
       "      <th>mean</th>\n",
       "      <td>1626475.50</td>\n",
       "      <td>101220009585530976.00</td>\n",
       "      <td>78.16</td>\n",
       "      <td>21.69</td>\n",
       "    </tr>\n",
       "    <tr>\n",
       "      <th>std</th>\n",
       "      <td>939045.92</td>\n",
       "      <td>5316758188197361664.00</td>\n",
       "      <td>4.24</td>\n",
       "      <td>5.79</td>\n",
       "    </tr>\n",
       "    <tr>\n",
       "      <th>min</th>\n",
       "      <td>1.00</td>\n",
       "      <td>-9222956879900150784.00</td>\n",
       "      <td>12.57</td>\n",
       "      <td>8.19</td>\n",
       "    </tr>\n",
       "    <tr>\n",
       "      <th>25%</th>\n",
       "      <td>813238.25</td>\n",
       "      <td>-4540611333857475072.00</td>\n",
       "      <td>75.84</td>\n",
       "      <td>17.80</td>\n",
       "    </tr>\n",
       "    <tr>\n",
       "      <th>50%</th>\n",
       "      <td>1626475.50</td>\n",
       "      <td>172682011159278816.00</td>\n",
       "      <td>77.27</td>\n",
       "      <td>22.16</td>\n",
       "    </tr>\n",
       "    <tr>\n",
       "      <th>75%</th>\n",
       "      <td>2439712.75</td>\n",
       "      <td>4861813234983622656.00</td>\n",
       "      <td>80.32</td>\n",
       "      <td>28.68</td>\n",
       "    </tr>\n",
       "    <tr>\n",
       "      <th>max</th>\n",
       "      <td>3252950.00</td>\n",
       "      <td>9222849349208140800.00</td>\n",
       "      <td>95.46</td>\n",
       "      <td>41.87</td>\n",
       "    </tr>\n",
       "  </tbody>\n",
       "</table>\n",
       "</div>"
      ],
      "text/plain": [
       "        event_id               device_id  longitude   latitude\n",
       "count 3252950.00              3252497.00 3252527.00 3252527.00\n",
       "mean  1626475.50   101220009585530976.00      78.16      21.69\n",
       "std    939045.92  5316758188197361664.00       4.24       5.79\n",
       "min         1.00 -9222956879900150784.00      12.57       8.19\n",
       "25%    813238.25 -4540611333857475072.00      75.84      17.80\n",
       "50%   1626475.50   172682011159278816.00      77.27      22.16\n",
       "75%   2439712.75  4861813234983622656.00      80.32      28.68\n",
       "max   3252950.00  9222849349208140800.00      95.46      41.87"
      ]
     },
     "execution_count": 28,
     "metadata": {},
     "output_type": "execute_result"
    }
   ],
   "source": [
    "df_events_data.describe()"
   ]
  },
  {
   "cell_type": "code",
   "execution_count": 29,
   "id": "a8aafddf-3a03-491b-be57-d031a1a4f4a0",
   "metadata": {},
   "outputs": [
    {
     "name": "stdout",
     "output_type": "stream",
     "text": [
      "<class 'pandas.core.frame.DataFrame'>\n",
      "RangeIndex: 3252950 entries, 0 to 3252949\n",
      "Data columns (total 7 columns):\n",
      " #   Column     Dtype  \n",
      "---  ------     -----  \n",
      " 0   event_id   int64  \n",
      " 1   device_id  float64\n",
      " 2   timestamp  object \n",
      " 3   longitude  float64\n",
      " 4   latitude   float64\n",
      " 5   city       object \n",
      " 6   state      object \n",
      "dtypes: float64(3), int64(1), object(3)\n",
      "memory usage: 173.7+ MB\n"
     ]
    }
   ],
   "source": [
    "df_events_data.info()"
   ]
  },
  {
   "cell_type": "code",
   "execution_count": 30,
   "id": "82ec3cd8-77f2-43cf-921b-33104d65bc81",
   "metadata": {},
   "outputs": [],
   "source": [
    "#Converting the timestamp datatype to Datetime format.\n",
    "\n",
    "df_events_data[\"timestamp\"] = pd.to_datetime(df_events_data[\"timestamp\"])"
   ]
  },
  {
   "cell_type": "code",
   "execution_count": 31,
   "id": "9be348a4-cdb9-42ea-85ad-d239bbba362d",
   "metadata": {},
   "outputs": [],
   "source": [
    "#Converting the negative device id to positive value\n",
    "\n",
    "df_events_data[\"device_id\"] = abs(df_events_data[\"device_id\"])\n",
    "df_gender_age_train['device_id'] = abs(df_gender_age_train['device_id'])\n",
    "df_phone_brand_device_model['device_id'] = abs(df_phone_brand_device_model['device_id'])"
   ]
  },
  {
   "cell_type": "code",
   "execution_count": 32,
   "id": "1feb9dd5-f61c-4de5-8333-34557732daa5",
   "metadata": {},
   "outputs": [
    {
     "data": {
      "text/plain": [
       "event_id       0\n",
       "device_id    453\n",
       "timestamp      0\n",
       "longitude    423\n",
       "latitude     423\n",
       "city           0\n",
       "state        377\n",
       "dtype: int64"
      ]
     },
     "execution_count": 32,
     "metadata": {},
     "output_type": "execute_result"
    }
   ],
   "source": [
    "df_events_data.isnull().sum()"
   ]
  },
  {
   "cell_type": "markdown",
   "id": "cd55c8e6-a8d6-4004-8368-43f66167157e",
   "metadata": {},
   "source": [
    "### Imputing missing Values in State using City Details"
   ]
  },
  {
   "cell_type": "code",
   "execution_count": 33,
   "id": "d5347b65-ddd4-4022-9917-c4b49784d085",
   "metadata": {},
   "outputs": [
    {
     "name": "stdout",
     "output_type": "stream",
     "text": [
      "CPU times: user 20.1 s, sys: 470 ms, total: 20.6 s\n",
      "Wall time: 20.6 s\n",
      "Null Counts after imputation:\n",
      "event_id       0\n",
      "device_id    453\n",
      "timestamp      0\n",
      "longitude    423\n",
      "latitude     423\n",
      "city           0\n",
      "state          0\n",
      "dtype: int64\n"
     ]
    }
   ],
   "source": [
    "# Create a dictionary using the existing 'state' and 'city' values\n",
    "state_city_dict = df_events_data.dropna(subset=['state']).set_index('city')['state'].to_dict()\n",
    "\n",
    "# Start timing the operation\n",
    "%time df_events_data['state'] = df_events_data.apply(lambda row: state_city_dict[row['city']] if pd.isnull(row['state']) else row['state'], axis=1)\n",
    "\n",
    "# Check for null values in 'state' after imputation\n",
    "print(\"Null Counts after imputation:\")\n",
    "print(df_events_data.isnull().sum())"
   ]
  },
  {
   "cell_type": "markdown",
   "id": "2860fdd5-7902-4bd2-a496-44e111064cc5",
   "metadata": {},
   "source": [
    "### Imputing other missing values with KNN Inputer"
   ]
  },
  {
   "cell_type": "code",
   "execution_count": 34,
   "id": "d8b7b80c-cd5f-48dd-a510-0a02ab506cda",
   "metadata": {},
   "outputs": [
    {
     "data": {
      "image/png": "[encoded data removed]",
      "text/plain": [
       "<Figure size 1500x700 with 1 Axes>"
      ]
     },
     "metadata": {},
     "output_type": "display_data"
    }
   ],
   "source": [
    "# Filling missing 'device_id'\n",
    "device_id_null = df_events_data[df_events_data['device_id'].isna()]\n",
    "\n",
    "# Plotting the count of missing 'device_id' by city\n",
    "fig, ax = plt.subplots(figsize=(15, 7))\n",
    "sns.barplot(x=device_id_null['city'].value_counts().keys(), y=device_id_null['city'].value_counts(), color='b')\n",
    "plt.xlabel('City Name')\n",
    "plt.ylabel('Counts')\n",
    "plt.xticks(rotation=90)\n",
    "plt.title('Device ID Missing')\n",
    "plt.show()"
   ]
  },
  {
   "cell_type": "code",
   "execution_count": 35,
   "id": "4f3a92a8-8a16-4e6e-84b0-404d7ab02241",
   "metadata": {},
   "outputs": [
    {
     "data": {
      "text/plain": [
       "event_id     0\n",
       "timestamp    0\n",
       "city         0\n",
       "state        0\n",
       "device_id    0\n",
       "longitude    0\n",
       "latitude     0\n",
       "dtype: int64"
      ]
     },
     "execution_count": 35,
     "metadata": {},
     "output_type": "execute_result"
    }
   ],
   "source": [
    "# Imputing missing values using SimpleImputer\n",
    "imputer = SimpleImputer(missing_values=np.nan, strategy='most_frequent')\n",
    "imputed_data = imputer.fit_transform(df_events_data[['event_id', 'device_id', 'longitude', 'latitude']])\n",
    "\n",
    "# Creating a new DataFrame with imputed values\n",
    "events_data_imputed = pd.DataFrame(data=imputed_data, columns=[\"event_id\", \"device_id\", \"longitude\", \"latitude\"])\n",
    "\n",
    "# Merging the imputed DataFrame with the original DataFrame\n",
    "df_events_data = pd.merge(df_events_data, events_data_imputed, on='event_id')\n",
    "df_events_data.drop(['device_id_x', 'latitude_x', 'longitude_x'], axis=1, inplace=True)\n",
    "df_events_data.rename(columns={'device_id_y': 'device_id', 'longitude_y': 'longitude', 'latitude_y': 'latitude'}, inplace=True)\n",
    "\n",
    "# Checking for missing values\n",
    "df_events_data.isna().sum()"
   ]
  },
  {
   "cell_type": "markdown",
   "id": "93c59248-ec48-4600-ba38-b4265d66aaf8",
   "metadata": {},
   "source": [
    "### Further Cleaning of 'App Download & Usage Data' can be resumed form here"
   ]
  },
  {
   "cell_type": "markdown",
   "id": "9a1652ed-5a42-4b1a-853f-a480c814b5c5",
   "metadata": {},
   "source": [
    "### Merging all Dataframes"
   ]
  },
  {
   "cell_type": "code",
   "execution_count": 36,
   "id": "9229d564-3d4c-41ea-b586-ccf832f9ed8b",
   "metadata": {},
   "outputs": [
    {
     "name": "stdout",
     "output_type": "stream",
     "text": [
      "Merged events data Shape: (3252950, 12)\n"
     ]
    }
   ],
   "source": [
    "# Merge phone_brand_device_model with events_data\n",
    "merged_df = df_events_data.merge(df_phone_brand_device_model, on='device_id', how='left')\n",
    "\n",
    "# Merge gender_age_train with merged_df\n",
    "final_df = merged_df.merge(df_gender_age_train, on='device_id', how='left')\n",
    "\n",
    "# Display the final merged dataframe\n",
    "print('Merged events data Shape:', final_df.shape)"
   ]
  },
  {
   "cell_type": "code",
   "execution_count": 37,
   "id": "9ea9e3d0-1077-4f6e-b72d-55dfcb1dc0ee",
   "metadata": {},
   "outputs": [],
   "source": [
    "# Making a copy of the Dataset incase it needs to be reffered back to\n",
    "data = final_df.copy(deep=True)"
   ]
  },
  {
   "cell_type": "code",
   "execution_count": 38,
   "id": "ae8dc312-195a-41e3-b66b-e1abc8169e18",
   "metadata": {},
   "outputs": [
    {
     "name": "stdout",
     "output_type": "stream",
     "text": [
      "Number of duplicates dropped: 0\n"
     ]
    }
   ],
   "source": [
    "num_duplicates = data.duplicated().sum()\n",
    "data = data.drop_duplicates()\n",
    "print(f\"Number of duplicates dropped: {num_duplicates}\")"
   ]
  },
  {
   "cell_type": "code",
   "execution_count": 39,
   "id": "3c72d943-badb-491c-aa8c-86e96566367e",
   "metadata": {},
   "outputs": [
    {
     "data": {
      "text/html": [
       "<div>\n",
       "<style scoped>\n",
       "    .dataframe tbody tr th:only-of-type {\n",
       "        vertical-align: middle;\n",
       "    }\n",
       "\n",
       "    .dataframe tbody tr th {\n",
       "        vertical-align: top;\n",
       "    }\n",
       "\n",
       "    .dataframe thead th {\n",
       "        text-align: right;\n",
       "    }\n",
       "</style>\n",
       "<table border=\"1\" class=\"dataframe\">\n",
       "  <thead>\n",
       "    <tr style=\"text-align: right;\">\n",
       "      <th></th>\n",
       "      <th>event_id</th>\n",
       "      <th>timestamp</th>\n",
       "      <th>city</th>\n",
       "      <th>state</th>\n",
       "      <th>device_id</th>\n",
       "      <th>longitude</th>\n",
       "      <th>latitude</th>\n",
       "      <th>phone_brand</th>\n",
       "      <th>device_model</th>\n",
       "      <th>gender</th>\n",
       "      <th>age</th>\n",
       "      <th>group</th>\n",
       "    </tr>\n",
       "  </thead>\n",
       "  <tbody>\n",
       "    <tr>\n",
       "      <th>0</th>\n",
       "      <td>2765368</td>\n",
       "      <td>2016-05-07 22:52:05</td>\n",
       "      <td>Delhi</td>\n",
       "      <td>Delhi</td>\n",
       "      <td>2973347786994914304.00</td>\n",
       "      <td>77.23</td>\n",
       "      <td>28.73</td>\n",
       "      <td>Youmi</td>\n",
       "      <td>UIMI3</td>\n",
       "      <td>M</td>\n",
       "      <td>35.00</td>\n",
       "      <td>M32-38</td>\n",
       "    </tr>\n",
       "    <tr>\n",
       "      <th>1</th>\n",
       "      <td>2955066</td>\n",
       "      <td>2016-05-01 20:44:16</td>\n",
       "      <td>Calcutta</td>\n",
       "      <td>WestBengal</td>\n",
       "      <td>4734221357723754496.00</td>\n",
       "      <td>88.39</td>\n",
       "      <td>22.66</td>\n",
       "      <td>NaN</td>\n",
       "      <td>NaN</td>\n",
       "      <td>NaN</td>\n",
       "      <td>NaN</td>\n",
       "      <td>NaN</td>\n",
       "    </tr>\n",
       "    <tr>\n",
       "      <th>2</th>\n",
       "      <td>605968</td>\n",
       "      <td>2016-05-02 14:23:04</td>\n",
       "      <td>Delhi</td>\n",
       "      <td>Delhi</td>\n",
       "      <td>3264499652692492800.00</td>\n",
       "      <td>77.26</td>\n",
       "      <td>28.76</td>\n",
       "      <td>NaN</td>\n",
       "      <td>NaN</td>\n",
       "      <td>NaN</td>\n",
       "      <td>NaN</td>\n",
       "      <td>NaN</td>\n",
       "    </tr>\n",
       "    <tr>\n",
       "      <th>3</th>\n",
       "      <td>448114</td>\n",
       "      <td>2016-05-03 13:21:16</td>\n",
       "      <td>Chennai</td>\n",
       "      <td>TamilNadu</td>\n",
       "      <td>5731369272434022400.00</td>\n",
       "      <td>80.34</td>\n",
       "      <td>13.15</td>\n",
       "      <td>NaN</td>\n",
       "      <td>NaN</td>\n",
       "      <td>NaN</td>\n",
       "      <td>NaN</td>\n",
       "      <td>NaN</td>\n",
       "    </tr>\n",
       "    <tr>\n",
       "      <th>4</th>\n",
       "      <td>665740</td>\n",
       "      <td>2016-05-06 03:51:05</td>\n",
       "      <td>Bokaro</td>\n",
       "      <td>Jharkhand</td>\n",
       "      <td>338888002570799936.00</td>\n",
       "      <td>86.00</td>\n",
       "      <td>23.84</td>\n",
       "      <td>NaN</td>\n",
       "      <td>NaN</td>\n",
       "      <td>NaN</td>\n",
       "      <td>NaN</td>\n",
       "      <td>NaN</td>\n",
       "    </tr>\n",
       "  </tbody>\n",
       "</table>\n",
       "</div>"
      ],
      "text/plain": [
       "   event_id           timestamp      city       state              device_id  \\\n",
       "0   2765368 2016-05-07 22:52:05     Delhi       Delhi 2973347786994914304.00   \n",
       "1   2955066 2016-05-01 20:44:16  Calcutta  WestBengal 4734221357723754496.00   \n",
       "2    605968 2016-05-02 14:23:04     Delhi       Delhi 3264499652692492800.00   \n",
       "3    448114 2016-05-03 13:21:16   Chennai   TamilNadu 5731369272434022400.00   \n",
       "4    665740 2016-05-06 03:51:05    Bokaro   Jharkhand  338888002570799936.00   \n",
       "\n",
       "   longitude  latitude phone_brand device_model gender   age   group  \n",
       "0      77.23     28.73       Youmi        UIMI3      M 35.00  M32-38  \n",
       "1      88.39     22.66         NaN          NaN    NaN   NaN     NaN  \n",
       "2      77.26     28.76         NaN          NaN    NaN   NaN     NaN  \n",
       "3      80.34     13.15         NaN          NaN    NaN   NaN     NaN  \n",
       "4      86.00     23.84         NaN          NaN    NaN   NaN     NaN  "
      ]
     },
     "execution_count": 39,
     "metadata": {},
     "output_type": "execute_result"
    }
   ],
   "source": [
    "data.head()"
   ]
  },
  {
   "cell_type": "markdown",
   "id": "de2f3d73-389f-405a-be09-708ffe0ee489",
   "metadata": {},
   "source": [
    "<a name = Section42></a>\n",
    "### **4.1 Data Description**"
   ]
  },
  {
   "cell_type": "code",
   "execution_count": 40,
   "id": "4560fe81-1c63-413a-b151-6d2d17b3473b",
   "metadata": {},
   "outputs": [
    {
     "data": {
      "text/html": [
       "<div>\n",
       "<style scoped>\n",
       "    .dataframe tbody tr th:only-of-type {\n",
       "        vertical-align: middle;\n",
       "    }\n",
       "\n",
       "    .dataframe tbody tr th {\n",
       "        vertical-align: top;\n",
       "    }\n",
       "\n",
       "    .dataframe thead th {\n",
       "        text-align: right;\n",
       "    }\n",
       "</style>\n",
       "<table border=\"1\" class=\"dataframe\">\n",
       "  <thead>\n",
       "    <tr style=\"text-align: right;\">\n",
       "      <th></th>\n",
       "      <th>event_id</th>\n",
       "      <th>device_id</th>\n",
       "      <th>longitude</th>\n",
       "      <th>latitude</th>\n",
       "      <th>age</th>\n",
       "    </tr>\n",
       "  </thead>\n",
       "  <tbody>\n",
       "    <tr>\n",
       "      <th>count</th>\n",
       "      <td>3252950.00</td>\n",
       "      <td>3252950.00</td>\n",
       "      <td>3252950.00</td>\n",
       "      <td>3252950.00</td>\n",
       "      <td>16982.00</td>\n",
       "    </tr>\n",
       "    <tr>\n",
       "      <th>mean</th>\n",
       "      <td>1626475.50</td>\n",
       "      <td>4618037363952840704.00</td>\n",
       "      <td>78.16</td>\n",
       "      <td>21.69</td>\n",
       "      <td>32.43</td>\n",
       "    </tr>\n",
       "    <tr>\n",
       "      <th>std</th>\n",
       "      <td>939045.92</td>\n",
       "      <td>2636705934955177472.00</td>\n",
       "      <td>4.24</td>\n",
       "      <td>5.79</td>\n",
       "      <td>9.16</td>\n",
       "    </tr>\n",
       "    <tr>\n",
       "      <th>min</th>\n",
       "      <td>1.00</td>\n",
       "      <td>50366114458478.00</td>\n",
       "      <td>12.57</td>\n",
       "      <td>8.19</td>\n",
       "      <td>10.00</td>\n",
       "    </tr>\n",
       "    <tr>\n",
       "      <th>25%</th>\n",
       "      <td>813238.25</td>\n",
       "      <td>2351760739866812928.00</td>\n",
       "      <td>75.84</td>\n",
       "      <td>17.80</td>\n",
       "      <td>26.00</td>\n",
       "    </tr>\n",
       "    <tr>\n",
       "      <th>50%</th>\n",
       "      <td>1626475.50</td>\n",
       "      <td>4715122614813775872.00</td>\n",
       "      <td>77.27</td>\n",
       "      <td>22.16</td>\n",
       "      <td>30.00</td>\n",
       "    </tr>\n",
       "    <tr>\n",
       "      <th>75%</th>\n",
       "      <td>2439712.75</td>\n",
       "      <td>6843267178917308416.00</td>\n",
       "      <td>80.32</td>\n",
       "      <td>28.68</td>\n",
       "      <td>36.00</td>\n",
       "    </tr>\n",
       "    <tr>\n",
       "      <th>max</th>\n",
       "      <td>3252950.00</td>\n",
       "      <td>9222956879900150784.00</td>\n",
       "      <td>95.46</td>\n",
       "      <td>41.87</td>\n",
       "      <td>79.00</td>\n",
       "    </tr>\n",
       "  </tbody>\n",
       "</table>\n",
       "</div>"
      ],
      "text/plain": [
       "        event_id              device_id  longitude   latitude      age\n",
       "count 3252950.00             3252950.00 3252950.00 3252950.00 16982.00\n",
       "mean  1626475.50 4618037363952840704.00      78.16      21.69    32.43\n",
       "std    939045.92 2636705934955177472.00       4.24       5.79     9.16\n",
       "min         1.00      50366114458478.00      12.57       8.19    10.00\n",
       "25%    813238.25 2351760739866812928.00      75.84      17.80    26.00\n",
       "50%   1626475.50 4715122614813775872.00      77.27      22.16    30.00\n",
       "75%   2439712.75 6843267178917308416.00      80.32      28.68    36.00\n",
       "max   3252950.00 9222956879900150784.00      95.46      41.87    79.00"
      ]
     },
     "execution_count": 40,
     "metadata": {},
     "output_type": "execute_result"
    }
   ],
   "source": [
    "data.describe()"
   ]
  },
  {
   "cell_type": "markdown",
   "id": "f7dce989-f534-462a-8786-bef5e596a9ac",
   "metadata": {},
   "source": [
    "<a name = Section42></a>\n",
    "### **4.2 Data Information**"
   ]
  },
  {
   "cell_type": "code",
   "execution_count": 41,
   "id": "0a2587db-07d2-453e-a828-cf9ef517618f",
   "metadata": {},
   "outputs": [
    {
     "name": "stdout",
     "output_type": "stream",
     "text": [
      "<class 'pandas.core.frame.DataFrame'>\n",
      "Int64Index: 3252950 entries, 0 to 3252949\n",
      "Data columns (total 12 columns):\n",
      " #   Column        Dtype         \n",
      "---  ------        -----         \n",
      " 0   event_id      int64         \n",
      " 1   timestamp     datetime64[ns]\n",
      " 2   city          object        \n",
      " 3   state         object        \n",
      " 4   device_id     float64       \n",
      " 5   longitude     float64       \n",
      " 6   latitude      float64       \n",
      " 7   phone_brand   object        \n",
      " 8   device_model  object        \n",
      " 9   gender        object        \n",
      " 10  age           float64       \n",
      " 11  group         object        \n",
      "dtypes: datetime64[ns](1), float64(4), int64(1), object(6)\n",
      "memory usage: 322.6+ MB\n"
     ]
    }
   ],
   "source": [
    "data.info()"
   ]
  },
  {
   "cell_type": "code",
   "execution_count": 42,
   "id": "a1050984-609f-439e-87c5-49af9812ff49",
   "metadata": {},
   "outputs": [
    {
     "data": {
      "text/plain": [
       "event_id              0\n",
       "timestamp             0\n",
       "city                  0\n",
       "state                 0\n",
       "device_id             0\n",
       "longitude             0\n",
       "latitude              0\n",
       "phone_brand     3235968\n",
       "device_model    3235968\n",
       "gender          3235968\n",
       "age             3235968\n",
       "group           3235968\n",
       "dtype: int64"
      ]
     },
     "execution_count": 42,
     "metadata": {},
     "output_type": "execute_result"
    }
   ],
   "source": [
    "data.isnull().sum()"
   ]
  },
  {
   "cell_type": "code",
   "execution_count": 43,
   "id": "bdf6c174-20e0-4049-b55c-02a0e288daeb",
   "metadata": {},
   "outputs": [],
   "source": [
    "data = data.drop('device_id', axis=1)"
   ]
  },
  {
   "cell_type": "code",
   "execution_count": 44,
   "id": "ae796ef5-2058-49b9-96ef-231a72124054",
   "metadata": {},
   "outputs": [
    {
     "name": "stdout",
     "output_type": "stream",
     "text": [
      "\n",
      "Having a look at unique values and null counts in each column\n",
      "\n",
      "--------------------------------------------------\n",
      "\n",
      "Column Name: event_id\n",
      "\n",
      "Data Type: Numerical | Unique Values: 3252950 | Null Count: 0\n",
      "\n",
      "[1190573  684228  749461 2880819  887723 1812971  441599  278368 2724300\n",
      " 1322477]\n",
      "\n",
      "----------------------------------------------------------------------\n",
      "\n",
      "Column Name: timestamp\n",
      "\n",
      "Data Type: Numerical | Unique Values: 588126 | Null Count: 0\n",
      "\n",
      "['2016-05-05T11:12:08.000000000' '2016-05-01T10:06:13.000000000'\n",
      " '2016-05-06T08:40:01.000000000' '2016-05-01T06:44:57.000000000'\n",
      " '2016-05-03T15:00:49.000000000' '2016-05-04T06:49:15.000000000'\n",
      " '2016-05-02T05:14:38.000000000' '2016-05-02T21:07:03.000000000'\n",
      " '2016-05-07T15:02:44.000000000' '2016-05-04T13:48:43.000000000']\n",
      "\n",
      "----------------------------------------------------------------------\n",
      "\n",
      "Column Name: city\n",
      "\n",
      "Data Type: Categorical | Unique Values: 933 | Null Count: 0\n",
      "\n",
      "['Delhi' 'Calcutta' 'Chennai' 'Bokaro' 'Visakhapatnam' 'Wanparti' 'Mumbai'\n",
      " 'Pune' 'Gandhidham' 'Thalassery' 'Pusad' 'Anjangaon' 'Indore'\n",
      " 'Paramakkudi' 'ChikBallapur' 'Gopichettipalaiyam' 'Nashik' 'Basmat'\n",
      " 'Jaipur' 'Virappanchatram' 'Sunabeda' 'Fazilka' 'Aonla' 'Adoni' 'Kohima'\n",
      " 'Moga' 'Jagadhri' 'Kuniyamuthur' 'Virudhachalam' 'Thuthukkudi' 'Sendhwa'\n",
      " 'Bangalore' 'Hyderabad' 'Bodhan' 'Tilhar' 'Maheshtala' 'Akola'\n",
      " 'BallyCantonment' 'Mubarakpur' 'Khandwa' 'KanpurCantonment'\n",
      " 'JabalpurCantonment' 'Budaun' 'Lohardaga' 'Halisahar' 'Jangipur'\n",
      " 'Rajapalaiyam' 'Wardha' 'Beypur' 'Sattenapalle' 'Kavundampalaiyam'\n",
      " 'Salem' 'Chalisgaon' 'Navghar' 'Pilibhit' 'Aurangabad' 'Allahabad'\n",
      " 'Chomun' 'Raiganj' 'Jamshedpur' 'Vrindavan' 'Kottagudem' 'Jalaun'\n",
      " 'Dimapur' 'Karanja' 'Khammam' 'Wadhwan' 'Basavakalyan' 'Bari'\n",
      " 'Miryalaguda' 'Rajnandgaon' 'Machilipatnam' 'Abohar' 'Chittur' 'Kaithal'\n",
      " 'Jabalpur' 'Buxar' 'Godhra' 'Karnal' 'Bhimavaram' 'Farrukhabad' 'Botad'\n",
      " 'Kozhikkod' 'Jammu' 'Ramagundam' 'Udgir' 'Ambattur' 'Rishra' 'Jhargram'\n",
      " 'Latur' 'Bidar' 'Bhadreswar' 'Naihati' 'Basti' 'Amravati' 'Madhyamgram'\n",
      " 'Karsiyang' 'FirozpurCantonment' 'HugliChunchura' 'Kalna' 'Hapur'\n",
      " 'Kukatpalle' 'Sirsi' 'Panihati' 'Amreli' 'Dhaulpur' 'Pollachi' 'Baraut'\n",
      " 'Chandkheda' 'Namakkal' 'Balurghat' 'Dhone' 'Kataka' 'Baidyabati'\n",
      " 'SultanpurMajra' 'Bhongir' 'Harihar' 'Pannuratti' 'Biswan' 'Rajkot'\n",
      " 'Maisuru' 'Karur' 'Avaniapuram' 'Batala' 'Gadwal' 'Disa' 'Silchar'\n",
      " 'Kaliyaganj' 'Hospet' 'Kanpur' 'Thiruvananthapuram' 'Adilabad' 'Sherkot'\n",
      " 'Kishanganj' 'Amalner' 'Gorakhpur' 'Osmanabad' 'Dhoraji' 'Raghogarh'\n",
      " 'Ilkal' 'Badlapur' 'Bolpur' 'Sira' 'Kadi' 'Saunda' 'Navsari' 'Kadiri'\n",
      " 'Bagaha' 'Bansbaria' 'Bhabua' 'Ranibennur' 'Chirmiri' 'Hindaun'\n",
      " 'Samalkot' 'Beawar' 'SouthDumDum' 'Sikandarabad' 'Nagapattinam' 'Jamui'\n",
      " 'Najibabad' 'Mannargudi' 'Chhindwara' 'Ponnani' 'Jagtial' 'Ambala'\n",
      " 'Gudiyattam' 'NorthDumDum' 'Nellur' 'Patiala' 'Shimoga' 'Konnagar'\n",
      " 'Barnala' 'Dhrangadhra' 'Phusro' 'Vidisha' 'Gonda' 'Nuzvid' 'Banswara'\n",
      " 'Nirmal' 'Haveri' 'Challakere' 'Panaji' 'Madhipura' 'Sujangarh' 'Khagaul'\n",
      " 'Ghaziabad' 'Bhagalpur' 'Ramanathapuram' 'Dhule' 'Gangoh' 'Jahanabad'\n",
      " 'Contai' 'Kannauj' 'Kandi' 'Memari' 'Chopda' 'Mancheral' 'Malegaon'\n",
      " 'Daltenganj' 'AlipurDuar' 'Lunglei' 'Malappuram' 'Kamareddi' 'Agartala'\n",
      " 'Gaddiannaram' 'Hinganghat' 'Sahaswan' 'Guna' 'Bhusawal' 'Faridabad'\n",
      " 'Gondal' 'Basirhat' 'Ajmer' 'Dhenkanal' 'Lonavale' 'Jharsuguda'\n",
      " 'Vaniyambadi' 'Tumkur' 'Basoda' 'Bisalpur' 'Ongole' 'Nanded' 'Kuchaman'\n",
      " 'Moradabad' 'Darjiling' 'Azamgarh' 'Gudur' 'Virudunagar' 'Phulwari'\n",
      " 'Rajampet' 'Sillod' 'Shantipur' 'Siwan' 'Satara' 'Titagarh' 'RampurHat'\n",
      " 'Ahmadabad' 'Rayadrug' 'Bikaner' 'Baramula' 'Visnagar' 'Mayiladuthurai'\n",
      " 'Koyampattur' 'Varanasi' 'Manjeri' 'UppalKalan' 'Devghar' 'Nizamabad'\n",
      " 'Ranchi' 'Nawalgarh' 'Kanchrapara' 'Shajapur' 'Panchkula' 'Gohad' 'Betul'\n",
      " 'Harda' 'Shahpur' 'Bhatpara' 'Hazaribag' 'Kashipur' 'KosiKalan'\n",
      " 'Balangir' 'Tiptur' 'Chandrapur' 'Pandharpur' 'Baran' 'Anand' 'Nimbahera'\n",
      " 'Jagdalpur' 'Kalyani' 'Gobindgarh' 'KochBihar' 'Itarsi' 'Alwal'\n",
      " 'Kadayanallur' 'Laharpur' 'Vuyyuru' 'Diglur' 'Palghar' 'Supaul' 'Vasai'\n",
      " 'Bhadravati' 'Sambhal' 'Chandlodiya' 'Patan' 'Faizabad' 'Payyannur'\n",
      " 'Haora' 'Idappadi' 'Ballarpur' 'Bhavnagar' 'Junagadh' 'Tandur' 'Deoli'\n",
      " 'MiraBhayandar' 'Chikhli' 'Tadepalle' 'Kalamassery' 'Nagaon' 'Suratgarh'\n",
      " 'Hosur' 'Bhopal' 'Baramati' 'Lakhnau' 'Bareli' 'Firozpur' 'Ujjain'\n",
      " 'Muzaffarpur' 'Mormugao' 'Kumarapalaiyam' 'Surendranagar' 'Gohana'\n",
      " 'Thanesar' 'Kanchipuram' 'Arambagh' 'Jagraon' 'NiDilli' 'MiratCantonment'\n",
      " 'Barbil' 'Garulia' 'Kalyan' 'Kasganj' 'Patna' 'RoshanPura' 'Noida'\n",
      " 'Mawana' 'Shorapur' 'Sirsilla' 'Mettur' 'Bhilai' 'Ratangarh' 'Shahdol'\n",
      " 'Munger' 'Buldana' 'Jahangirabad' 'Alappuzha' 'Udagamandalam' 'Sihor'\n",
      " 'Gulbarga' 'Guntakal' 'Rayagada' 'Malkapur' 'Chittaurgarh' 'Bhuli' 'Loni'\n",
      " 'Ludhiana' 'Tiruchengode' 'Bijapur' 'Chaibasa' 'Bihar' 'Agra'\n",
      " 'Baharampur' 'Bhilwara' 'Jhansi' 'Sheopur' 'Narnaul' 'Kurichi' 'Puri'\n",
      " 'Bagbahra' 'Dabra' 'Patancheru' 'Malaut' 'Cuddapah' 'Champdani'\n",
      " 'Ahmadnagar' 'Bidhannagar' 'Habra' 'Kapra' 'AmbalaSadar' 'Bobbili'\n",
      " 'Bankra' 'Bettiah' 'Bundi' 'Dehri' 'Bilaspur' 'Bhind' 'Kharagpur'\n",
      " 'Sangareddi' 'Bahraich' 'Datia' 'Ayodhya' 'Neyveli' 'Piduguralla'\n",
      " 'Gangapur' 'Hanumangarh' 'Vijayawada' 'Ashoknagar' 'Mandidip'\n",
      " 'NaviMumbai' 'Dinapur' 'Madhubani' 'Tiruvannamalai' 'Jorhat' 'Rurki'\n",
      " 'Firozabad' 'Keshod' 'Modasa' 'Fatehpur' 'Bodinayakkanur' 'Gudalur'\n",
      " 'Gandhinagar' 'Ramgarh' 'Markapur' 'Jetpur' 'Ambajogai' 'Anantnag'\n",
      " 'Hisar' 'Jamalpur' 'Jamkhandi' 'Kota' 'Rajamahendri' 'Sidlaghatta'\n",
      " 'SawaiMadhopur' 'Valparai' 'Guwahati' 'Bhawanipatna' 'Tuni' 'Bela'\n",
      " 'Kolar' 'Churu' 'Balotra' 'Una' 'Mirzapur' 'Alwar' 'Channapatna' 'Upleta'\n",
      " 'Dabhoi' 'Shegaon' 'Shahada' 'Bardoli' 'Kottayam' 'Ghatal' 'Nandurbar'\n",
      " 'Udupi' 'BhalswaJahangirpur' 'Rewari' 'Navadwip' 'Ichalkaranji'\n",
      " 'LalbahadurNagar' 'Arrah' 'Punamalli' 'Rabkavi' 'Mirat' 'Madhavaram'\n",
      " 'AmbalaCantonment' 'Ratlam' 'Mangalagiri' 'Karauli' 'Puliyankudi'\n",
      " 'TarnTaran' 'Jorapokhar' 'SangliMiraj' 'Mangrol' 'Kishangarh' 'Unjha'\n",
      " 'Gurdaspur' 'Palwal' 'Barpeta' 'Shirpur' 'Tonk' 'Mauranipur' 'Gangawati'\n",
      " 'Yamunanagar' 'Obra' 'Anakapalle' 'UranIslampur' 'Kendujhar' 'Damoh'\n",
      " 'Kalol' 'Nagpur' 'Kumbakonam' 'Shivapuri' 'Raipur' 'Neyyattinkara'\n",
      " 'Kagaznagar' 'Koratla' 'Modinagar' 'Shrirampur' 'Suriapet' 'Nawabganj'\n",
      " 'Sitapur' 'Lakhimpur' 'Chitradurga' 'Pujali' 'Jharia' 'Kavali' 'Rath'\n",
      " 'Srikakulam' 'Pudukkottai' 'Qutubullapur' 'Sagar' 'Veraval' 'Dewas'\n",
      " 'Bijnor' 'Tikamgarh' 'Baheri' 'Binnaguri' 'Kundla' 'Nagda' 'Jamnagar'\n",
      " 'Ladnun' 'Sitamarhi' 'ChinnaChawk' 'Palakollu' 'Khatauli' 'Hoshiarpur'\n",
      " 'Hardoi' 'Tundla' 'Pathankot' 'Aligarh' 'Makrana' 'Sindari' 'Kamarhati'\n",
      " 'Sonipat' 'Karimganj' 'Barddhaman' 'Tanda' 'Arakonam' 'Palasa'\n",
      " 'Dharmapuri' 'Kanakapura' 'Khopoli' 'Kolhapur' 'Himatnagar' 'Warud'\n",
      " 'Lalitpur' 'JhumriTilaiya' 'IngrajBazar' 'Paradwip' 'Karaikal'\n",
      " 'Muradnagar' 'Faridkot' 'Ghazipur' 'Gokak' 'Murwara' 'Bankura' 'Barmer'\n",
      " 'Krishnagiri' 'Dibrugarh' 'Bharuch' 'Belgaum' 'Thanjavur' 'Koyilandi'\n",
      " 'DodBallapur' 'Mohali' 'Mangaluru' 'Malkajgiri' 'MalerKotla' 'Proddatur'\n",
      " 'Bhuj' 'Surat' 'Ballia' 'Bhadohi' 'Nagina' 'Kollam' 'Jaora' 'Asansol'\n",
      " 'Gaya' 'Arani' 'Kannangad' 'Gopalganj' 'Midnapur' 'Sidhi' 'Bapatla'\n",
      " 'Tezpur' 'Jhalawar' 'Kallur' 'Avadi' 'Bhiwani' 'Viluppuram' 'Haldwani'\n",
      " 'Dabwali' 'Aizawl' 'Panipat' 'Khurja' 'Purnia' 'Pallavaram'\n",
      " 'Aruppukkottai' 'Mahbubnagar' 'Dholka' 'Sholapur' 'CharkhiDadri'\n",
      " 'Yavatmal' 'Satna' 'Haridwar' 'Edathala' 'Samastipur' 'Chintamani'\n",
      " 'Nalasopara' 'Karwar' 'Bulandshahr' 'BajBaj' 'Shikohabad' 'Dharapuram'\n",
      " 'Palitana' 'Ghatlodiya' 'Ratnagiri' 'Hassan' 'Ganganagar' 'Mathura'\n",
      " 'Ranip' 'Kakinada' 'Singrauli' 'Tiruvottiyur' 'Banda' 'Rewa' 'Lakhisarai'\n",
      " 'Chirala' 'Tenkasi' 'Manmad' 'Anantapur' 'Siddipet' 'Kathua' 'Dinhata'\n",
      " 'UttarparaKotrung' 'Dhuburi' 'Wokha' 'Thiruvarur' 'Udaipur' 'Kochi'\n",
      " 'Chiplun' 'Khardaha' 'Shahjahanpur' 'Sahibganj' 'Bishnupur' 'Sultanpur'\n",
      " 'Baleshwar' 'Yelahanka' 'Chhatarpur' 'Robertsonpet' 'Jalgaon'\n",
      " 'Tindivanam' 'Wani' 'Gokalpur' 'Valsad' 'Ramachandrapuram' 'Sambalpur'\n",
      " 'Korba' 'Gwalior' 'Phulia' 'Vinukonda' 'Pimpri' 'Phagwara' 'Siuri'\n",
      " 'Shahabad' 'Hingoli' 'Udumalaipettai' 'Raigarh' 'Sehore' 'Rayachoti'\n",
      " 'Khanna' 'Bhubaneswar' 'Tirupati' 'Kannur' 'Dumraon' 'Nalgonda' 'Nagaur'\n",
      " 'Jamuria' 'Gayespur' 'Khambhat' 'Chandausi' 'Gangarampur' 'Dhuri'\n",
      " 'ChitrakutDham' 'Nandyal' 'Bommanahalli' 'Gajuwaka' 'Deolali' 'Katras'\n",
      " 'Motihari' 'Anjar' 'Saharsa' 'Phaltan' 'Puttur' 'Alandur' 'Dhanbad'\n",
      " 'Imphal' 'Sikar' 'Tohana' 'Hathras' 'Shillong' 'Yadgir' 'NiBarakpur'\n",
      " 'Jalor' 'Thana' 'Mandamarri' 'Tanuku' 'Jalna' 'Bongaigaon' 'Tadpatri'\n",
      " 'Mango' 'Krishnarajapura' 'Mau' 'Kapurthala' 'Thrissur' 'Bahadurgarh'\n",
      " 'Gadag' 'Tenali' 'Guntur' 'Chengalpattu' 'Renukut' 'Nimach' 'Dahod'\n",
      " 'Kodar' 'Orai' 'Akot' 'Sirsa' 'Srivilliputtur' 'Talipparamba' 'Itanagar'\n",
      " 'Ulubaria' 'Tirur' 'DehraDun' 'Diphu' 'Rajendranagar' 'Etawah' 'Bangaon'\n",
      " 'Bellary' 'Madurai' 'Rupnagar' 'Yemmiganur' 'Tinsukia' 'Shamli'\n",
      " 'Narasapur' 'Didwana' 'NorthBarakpur' 'Achalpur' 'Hubli' 'Jind'\n",
      " 'Davanagere' 'Chas' 'Tambaram' 'Mahoba' 'Dahanu' 'GolaGokarannath'\n",
      " 'Barsi' 'Chilakalurupet' 'Narasaraopet' 'Nadiad' 'Bhadrak' 'Thiruthangal'\n",
      " 'Muzaffarnagar' 'Vizianagaram' 'Shimla' 'Jodhpur' 'Rampur' 'Sangrur'\n",
      " 'Koppal' 'Nagercoil' 'Bhiwandi' 'Charoda' 'DumDum' 'Khargone'\n",
      " 'Karimnagar' 'Jhunjhunun' 'Ranaghat' 'Kiratpur' 'Dhar' 'Chandigarh'\n",
      " 'Araria' 'Dadri' 'Pondicherry' 'Bhandara' 'Cheruvannur' 'Mahuva'\n",
      " 'Baranagar' 'Burhanpur' 'Sankarankoil' 'Pammal' 'Parbhani' 'Nawada'\n",
      " 'Deoria' 'Narwana' 'Sopur' 'Saharanpur' 'Chhibramau' 'Hiriyur'\n",
      " 'Kunnamkulam' 'Rohtak' 'Deoband' 'Pali' 'Sunam' 'Borsad' 'Katwa'\n",
      " 'Belampalli' 'KotKapura' 'Ulhasnagar' 'Mainpuri' 'Kulti' 'Udhampur'\n",
      " 'GangaGhat' 'Dhulian' 'Khadki' 'Raurkela' 'Bargarh' 'Jaisalmer' 'Samana'\n",
      " 'Bagalkot' 'Tura' 'Bid' 'Baripada' 'Thrippunithura' 'Chhapra' 'Kollegal'\n",
      " 'Sasaram' 'Islampur' 'Khamgaon' 'Tiruchchirappalli' 'Ujhani' 'Vadodara'\n",
      " 'Tigri' 'Faridpur' 'Auraiya' 'Kondukur' 'AshoknagarKalyangarh'\n",
      " 'Rajsamand' 'Rishikesh' 'Sivakasi' 'Ramanagaram' 'Tirunelveli' 'Chakdaha'\n",
      " 'Pattukkottai' 'Unnao' 'Rajpura' 'MughalSarai' 'Raniganj' 'Ponnur'\n",
      " 'Chandannagar' 'Hoshangabad' 'Durgapur' 'Ambur' 'Durg' 'Katihar'\n",
      " 'Palakkad' 'Morvi' 'Ullal' 'Jaypur' 'Sardarshahr' 'Sarni'\n",
      " 'LakhnauCantonment' 'Raxaul' 'Mandsaur' 'Nipani' 'PortBlair' 'Rajpur'\n",
      " 'Madgaon' 'Masaurhi' 'Seoni' 'Mansa' 'Dasarahalli' 'Mokama' 'Mandya'\n",
      " 'Chamrajnagar' 'Gondiya' 'Bathinda' 'Tiruppur' 'DilliCantonment' 'Karnul'\n",
      " 'Serilungampalle' 'Palwancha' 'Dindigul' 'Gadchiroli' 'Begusarai'\n",
      " 'Pithoragarh' 'Sirhind' 'Pilkhuwa' 'Daosa' 'Etah' 'Hasanpur' 'Balaghat'\n",
      " 'Adityapur' 'DehraDunCantonment' 'Ambikapur' 'Bally' 'BinaEtawa'\n",
      " 'Sibsagar' 'Puruliya' 'Eluru' 'Ozhukarai' 'Kambam' 'Sandila' 'Virar'\n",
      " 'Attur' 'Tiruvalla' 'Chandpur' 'Jalandhar' 'Kairana' 'Jalpaiguri'\n",
      " 'Jaunpur' 'Vadakara' 'Dharmavaram' 'Gajraula' 'Srikalahasti' 'Velluru'\n",
      " 'Nokha' 'Nerkunram' 'Brahmapur' 'Kovilpatti' 'Raichur' 'Shiliguri'\n",
      " 'Amroha' 'Vapi' 'Srinagar' 'Bharatpur' 'Nedumangad' 'Balrampur'\n",
      " 'Krishnanagar' 'Amritsar' 'Dhamtari' 'Washim' 'RaeBareli'\n",
      " 'KharagpurRailwaySettlement' 'Tirupathur' 'Siddhapur' 'Lanka'\n",
      " 'PuneCantonment' 'Darbhanga' 'Kamthi' 'Khagaria' 'Mettupalayam'\n",
      " 'Warangal' 'Kayankulam' 'Hindupur' 'Morena' 'Erode' 'Brajrajnagar'\n",
      " 'Gudivada' 'NangloiJat' 'TheniAllinagaram' 'Tadepallegudem' 'Kopargaon'\n",
      " 'Chikmagalur' 'Porbandar']\n",
      "\n",
      "----------------------------------------------------------------------\n",
      "\n",
      "Column Name: state\n",
      "\n",
      "Data Type: Categorical | Unique Values: 32 | Null Count: 0\n",
      "\n",
      "['Delhi' 'WestBengal' 'TamilNadu' 'Jharkhand' 'AndhraPradesh'\n",
      " 'Maharashtra' 'Gujarat' 'Kerala' 'MadhyaPradesh' 'Karnataka' 'Rajasthan'\n",
      " 'Orissa' 'Punjab' 'UttarPradesh' 'Nagaland' 'Haryana' 'Telangana'\n",
      " 'Chhattisgarh' 'Bihar' 'JammuandKashmir' 'Assam' 'Goa' 'Mizoram'\n",
      " 'Tripura' 'Uttaranchal' 'Pondicherry' 'Manipur' 'Meghalaya'\n",
      " 'ArunachalPradesh' 'HimachalPradesh' 'Chandigarh'\n",
      " 'AndamanandNicobarIslands']\n",
      "\n",
      "----------------------------------------------------------------------\n",
      "\n",
      "Column Name: longitude\n",
      "\n",
      "Data Type: Numerical | Unique Values: 60095 | Null Count: 0\n",
      "\n",
      "[72.88 77.24 80.33 72.83 78.09 83.36 78.77 80.36 77.25 80.31]\n",
      "\n",
      "----------------------------------------------------------------------\n",
      "\n",
      "Column Name: latitude\n",
      "\n",
      "Data Type: Numerical | Unique Values: 60177 | Null Count: 0\n",
      "\n",
      "[28.51 28.68 28.69 18.55 18.57 17.74 22.8  28.72 22.81 19.01]\n",
      "\n",
      "----------------------------------------------------------------------\n",
      "\n",
      "Column Name: phone_brand\n",
      "\n",
      "Data Type: Categorical | Unique Values: 27 | Null Count: 3235968\n",
      "\n",
      "['Youmi' nan 'Huawei' 'Coolpad' 'Samsung' 'Xiaomi' 'vivo' 'OPPO' 'Meizu'\n",
      " 'HTC' 'LeTV' 'Cool Doo Cube' 'Tianyu' 'Nubia' 'Pure' 'Waveguide'\n",
      " 'OnePlus' 'Meitu' 'Baojixun' 'China Mobile' 'Yitong' 'Lenovo' 'LG'\n",
      " 'Hammer' 'Mi Song' 'Cooby' 'Duowei']\n",
      "\n",
      "----------------------------------------------------------------------\n",
      "\n",
      "Column Name: device_model\n",
      "\n",
      "Data Type: Categorical | Unique Values: 192 | Null Count: 3235968\n",
      "\n",
      "['UIMI3' nan 'Honor 7' '8702' 'K860i' 'Galaxy Grand 2' 'MI 3' 'Galaxy S6'\n",
      " 'Galaxy Ace 2' 'Red Rice' 'X5Max+' 'MI 2' 'Galaxy A5' 'U707T' 'Y11IT'\n",
      " 'Galaxy A7' 'Y913' 'Mate 7' 'R821T' 'PRO5' '7295C' 'One' 'Dashen F2'\n",
      " 'Super Phone 1 Pro' 'E3' 'Honor Play 5X' 'Y13L' 'Mate 8' 'G3818'\n",
      " 'Redmi note' 'Galaxy Grand DUOS' 'Meizu Note 2' 'R7' 'Galaxy Note 2'\n",
      " 'TALK 7X Quad Core' 'Redmi Note2' 'Y22L' '8730L' 'Honor 3C' 'MX5' 'Y23L'\n",
      " 'Honor 6' 'Galaxy Note 3' 'Touch 2' 'Galaxy Trend 3' 'Honor 6 Plus'\n",
      " 'Ascend P8' 'A53' 'Galaxy Win' 'S7I' 'R3' 'Galaxy S4' 'Super Phone 1'\n",
      " 'Honor Play 4' 'MX4 Pro' 'R811' 'Honor Play 4X' 'Desire HD'\n",
      " 'Galaxy Note 4' 'Red Rice 2' 'Galaxy S5' 'Desire 816' 'MX4' 'X5Pro'\n",
      " 'S960' 'G7 Plus' 'Redmi 1S' 'C8813Q' 'Galaxy Core Prime' 'X5SL'\n",
      " 'Galaxy S2' 'Lemeng K3 Note' 'Z5S Mini' 'Red Rice 3' 'A33' 'Meizu Metal'\n",
      " 'Sensation Z710E' 'Redmi Note Enhanced Edition' 'R2010' 'Mei Lan NOTE'\n",
      " 'Galaxy Trend DUOS' 'MOMO9' 'S6' 'MI 4' 'Ascend P6' 'R7s' 'Xplay3S'\n",
      " 'Honor 3X Play Edition' 'A500' 'Galaxy Ace 3' 'R2017' 'Xperia Z2' 'MX2'\n",
      " 'Y628' 'S60t' 'A788t' 'Honor 4A' 'R7 Plus' 'L9' 'E7' '9190l'\n",
      " 'Galaxy S4 Zoom' 'Galaxy Core Lite' 'Ascend G7' 'Y928' 'note top version'\n",
      " 'Galaxy S3 Neo+' 'Super Phone 1s' 'R6007' 'X3T' 'R1S'\n",
      " 'Galaxy Grand Prime' 'MI One Plus' 'MI 2S' 'Galaxy S3' 'Galaxy S6 Edge+'\n",
      " 'Galaxy Win Pro' 'Find 7' 'B199' '8721' 'M4' 'Y27' 'Great God F1' 'S7568'\n",
      " 'MI pad' 'ELIFE S5.5' 'K80' 'Galaxy Mega Plus' 'Y13iL' 'X5M' 'Ascend P7'\n",
      " 'MI 1S' 'JX8166' 'Lemeng K3' 'Galaxy Grand Neo Plus' 'F2' 'A708t' 'R831S'\n",
      " 'Y600-U00' 'Galaxy Core Max' 'G610T' 'A320t' 'A678t' 'Redmi 2A' 'MX3'\n",
      " 'A31' 'One M8' 'N1T' 'A1' 'N1 Mini' 'X5Max' 'Z9 mini' 'P2' 'Charm Blue'\n",
      " 'Galaxy S6 Edge' 'X6 D' 'W2014' 'Y11' 'Z7 Mini' 'Y33' 'Redmi Note3'\n",
      " 'Y29L' 'A880' 'Meizu 2' 'R1' 'R5' 'Samsung big foot' 'Xperia Z Ultra'\n",
      " 'Maimang 4' 'Nexus 5' '9180' 'Xiaomi Note' 'C8816'\n",
      " 'Honor 3C Play Edition' 'X5L' 'T328t' 'T1' '201' 'S1' 'Galaxy Note'\n",
      " '8720L' 'D350' 'R1C' 'MI 2A' 'Galaxy Note Edge' 'Desire 626' 'H2'\n",
      " 'voyage 3' 'X3L' 'H6' 'Z9' 'E5']\n",
      "\n",
      "----------------------------------------------------------------------\n",
      "\n",
      "Column Name: gender\n",
      "\n",
      "Data Type: Categorical | Unique Values: 3 | Null Count: 3235968\n",
      "\n",
      "['M' nan 'F']\n",
      "\n",
      "----------------------------------------------------------------------\n",
      "\n",
      "Column Name: age\n",
      "\n",
      "Data Type: Numerical | Unique Values: 52 | Null Count: 3235968\n",
      "\n",
      "[nan 25. 32.]\n",
      "\n",
      "----------------------------------------------------------------------\n",
      "\n",
      "Column Name: group\n",
      "\n",
      "Data Type: Categorical | Unique Values: 13 | Null Count: 3235968\n",
      "\n",
      "['M32-38' nan 'F33-42' 'M22-' 'M29-31' 'F29-32' 'F23-' 'M23-26' 'F24-26'\n",
      " 'M39+' 'F43+' 'F27-28' 'M27-28']\n",
      "\n",
      "----------------------------------------------------------------------\n",
      "\n"
     ]
    }
   ],
   "source": [
    "# Extracting Categorical & Numerical columns to perform further analysis & cleaning\n",
    "categorical_cols = data.select_dtypes('object').columns\n",
    "numerical_cols = data.select_dtypes(['int', 'float']).columns\n",
    "\n",
    "# Checking Unique Values and Null Counts in Dataset by taking a sample and displaying a few unique values\n",
    "print('\\n' + 'Having a look at unique values and null counts in each column')\n",
    "print('\\n' + '-'*50 + '\\n')\n",
    "\n",
    "for col in data.columns:\n",
    "    unique_vals = data[col].unique()\n",
    "    num_unique = len(unique_vals)\n",
    "    null_count = data[col].isnull().sum()\n",
    "\n",
    "    print(\"Column Name: {}\\n\".format(col))\n",
    "    if col in categorical_cols:\n",
    "        print(\"Data Type: Categorical | Unique Values: {} | Null Count: {}\\n\".format(num_unique, null_count))\n",
    "        print(unique_vals[:])\n",
    "    else:\n",
    "        print(\"Data Type: Numerical | Unique Values: {} | Null Count: {}\\n\".format(num_unique, null_count))\n",
    "        print(data[col].sample(300).unique()[:10])\n",
    "\n",
    "    print('\\n' + '-'*70 + '\\n')"
   ]
  },
  {
   "cell_type": "markdown",
   "id": "a97d7138-3d7b-4516-9a4a-fe86547c880a",
   "metadata": {},
   "source": [
    "### Observation\n",
    "\n",
    "1. Missing Values: The data contains a significant number of missing values, particularly in columns such as 'phone_brand', 'device_model', 'gender', 'age', and 'group'. These missing values need to be addressed to ensure the integrity of the data and to facilitate further analysis.\n",
    "\n",
    "2. Data Imbalance: The distribution of gender and age groups in the dataset is likely to be imbalanced, as indicated by the count of non-null values for 'gender' and 'age' being much lower than the total number of entries. This imbalance can impact the performance and accuracy of any models or analyses conducted on the data.\n",
    "\n",
    "### Resolution Approach:\n",
    "\n",
    "1. Handling Missing Values: The missing values in the dataset can be resolved through various imputation techniques. For categorical variables like 'phone_brand', 'device_model', 'gender', and 'group', missing values can be replaced with an appropriate category or labeled as 'Unknown'. For numerical variables like 'age', missing values can be imputed using techniques such as mean, median, or regression-based imputation.\n",
    "\n",
    "2. Addressing Data Imbalance: To address data imbalance, techniques like oversampling (e.g., SMOTE) or undersampling can be applied to balance the distribution of gender and age groups. \n",
    "\n",
    "3. Exploratory Data Analysis (EDA): By conducting exploratory data analysis, patterns, trends, and relationships within the available data can be explored. EDA techniques such as visualizations, summary statistics, and hypothesis testing can provide insights into the relationships between gender, age, and app download/usage behaviors."
   ]
  },
  {
   "cell_type": "markdown",
   "id": "cef6c312-8af8-4f35-8259-0b7264e2c0e1",
   "metadata": {},
   "source": [
    "---\n",
    "<a name = Section5></a>\n",
    "# **5. Population Profiling**\n",
    "---"
   ]
  },
  {
   "cell_type": "code",
   "execution_count": 45,
   "id": "1a3bf3e6-fe4f-4bd7-abe4-491335952d80",
   "metadata": {},
   "outputs": [
    {
     "name": "stdout",
     "output_type": "stream",
     "text": [
      "\n",
      "----------------------------------------\n",
      "\n",
      "Population profile Report Generated\n",
      "\n",
      "----------------------------------------\n",
      "\n"
     ]
    }
   ],
   "source": [
    "# Detailed Profile Report of Population Data for univariate analysis & training model\n",
    "\n",
    "profile = ProfileReport(df=data)\n",
    "\n",
    "print('\\n' + '-'*40 + '\\n')\n",
    "print('Population profile Report Generated')\n",
    "print('\\n' + '-'*40 + '\\n')"
   ]
  },
  {
   "cell_type": "code",
   "execution_count": 46,
   "id": "241e6945-c333-4468-b58f-d9f12dfe0688",
   "metadata": {},
   "outputs": [
    {
     "data": {
      "application/vnd.jupyter.widget-view+json": {
       "model_id": "0525788f09194b99a745cc32be9b777d",
       "version_major": 2,
       "version_minor": 0
      },
      "text/plain": [
       "Summarize dataset:   0%|          | 0/5 [00:00<?, ?it/s]"
      ]
     },
     "metadata": {},
     "output_type": "display_data"
    },
    {
     "data": {
      "application/vnd.jupyter.widget-view+json": {
       "model_id": "d4eff53334f8490db7adfe1943892ffc",
       "version_major": 2,
       "version_minor": 0
      },
      "text/plain": [
       "Generate report structure:   0%|          | 0/1 [00:00<?, ?it/s]"
      ]
     },
     "metadata": {},
     "output_type": "display_data"
    },
    {
     "data": {
      "application/vnd.jupyter.widget-view+json": {
       "model_id": "b3c017de75d14f7bb3261874ebc66a79",
       "version_major": 2,
       "version_minor": 0
      },
      "text/plain": [
       "Render HTML:   0%|          | 0/1 [00:00<?, ?it/s]"
      ]
     },
     "metadata": {},
     "output_type": "display_data"
    },
    {
     "data": {
      "application/vnd.jupyter.widget-view+json": {
       "model_id": "499be76364f54539933be447cc1b68f0",
       "version_major": 2,
       "version_minor": 0
      },
      "text/plain": [
       "Export report to file:   0%|          | 0/1 [00:00<?, ?it/s]"
      ]
     },
     "metadata": {},
     "output_type": "display_data"
    }
   ],
   "source": [
    "# Loading profile report to file for record keeping\n",
    "\n",
    "profile.to_file(\"population_profile.html\")"
   ]
  },
  {
   "cell_type": "markdown",
   "id": "c5980699-bc09-4331-bcf6-c5fd2b5f344b",
   "metadata": {},
   "source": [
    "### States assigned to our team for the Project\n",
    "\n",
    "- Madhya Pradesh\n",
    "- Chhattisgarh\n",
    "- Uttaranchal\n",
    "- Jammu & Kashmir\n",
    "- Goa\n",
    "- Nagaland"
   ]
  },
  {
   "cell_type": "code",
   "execution_count": 47,
   "id": "e3ea779e-135b-4866-9c61-6e49031204ba",
   "metadata": {},
   "outputs": [
    {
     "name": "stdout",
     "output_type": "stream",
     "text": [
      "Original Data Shape: (3252950, 11)\n",
      "Filtered Data Shape: (261148, 11)\n",
      "Entries Deleted: 2991802\n"
     ]
    }
   ],
   "source": [
    "# Create a list of states to focus on\n",
    "states_to_focus = ['MadhyaPradesh', 'Chhattisgarh', 'Uttaranchal', 'JammuandKashmir', 'Goa', 'Nagaland']\n",
    "\n",
    "# Filter the dataframe based on the 'state' column\n",
    "sample_df = data[data['state'].isin(states_to_focus)]\n",
    "\n",
    "# Print the shape of the original dataframe\n",
    "print('Original Data Shape:', data.shape)\n",
    "\n",
    "# Print the shape of the filtered dataframe\n",
    "print('Filtered Data Shape:', sample_df.shape)\n",
    "\n",
    "# Calculate the count of entries deleted from the dataset\n",
    "entries_deleted = data.shape[0] - sample_df.shape[0]\n",
    "\n",
    "# Print the count of entries deleted\n",
    "print('Entries Deleted:', entries_deleted)"
   ]
  },
  {
   "cell_type": "markdown",
   "id": "5783fd2e-315a-46c5-892e-1acd3e4a80cb",
   "metadata": {},
   "source": [
    "---\n",
    "<a name = Section6></a>\n",
    "# **6. Sample Profiling**\n",
    "---"
   ]
  },
  {
   "cell_type": "code",
   "execution_count": 48,
   "id": "efb0c769-a770-4339-9b6b-26b5fbf3cffa",
   "metadata": {},
   "outputs": [
    {
     "name": "stdout",
     "output_type": "stream",
     "text": [
      "\n",
      "----------------------------------------\n",
      "\n",
      "Sample profile Report Generated\n",
      "\n",
      "----------------------------------------\n",
      "\n"
     ]
    }
   ],
   "source": [
    "# Profile Report of Sample Dataset\n",
    "\n",
    "profile = ProfileReport(df=sample_df)\n",
    "\n",
    "print('\\n' + '-'*40 + '\\n')\n",
    "print('Sample profile Report Generated')\n",
    "print('\\n' + '-'*40 + '\\n')"
   ]
  },
  {
   "cell_type": "code",
   "execution_count": 49,
   "id": "5f208cae-1a2f-45f9-92f6-31fafe8db278",
   "metadata": {},
   "outputs": [
    {
     "data": {
      "application/vnd.jupyter.widget-view+json": {
       "model_id": "770bdbcec5644372827286637d6e4e8f",
       "version_major": 2,
       "version_minor": 0
      },
      "text/plain": [
       "Summarize dataset:   0%|          | 0/5 [00:00<?, ?it/s]"
      ]
     },
     "metadata": {},
     "output_type": "display_data"
    },
    {
     "data": {
      "application/vnd.jupyter.widget-view+json": {
       "model_id": "7a4c59ccdec54740a1289766aaa31b44",
       "version_major": 2,
       "version_minor": 0
      },
      "text/plain": [
       "Generate report structure:   0%|          | 0/1 [00:00<?, ?it/s]"
      ]
     },
     "metadata": {},
     "output_type": "display_data"
    },
    {
     "data": {
      "application/vnd.jupyter.widget-view+json": {
       "model_id": "20f0fd8b14904c8f954a2faa39cfaf68",
       "version_major": 2,
       "version_minor": 0
      },
      "text/plain": [
       "Render HTML:   0%|          | 0/1 [00:00<?, ?it/s]"
      ]
     },
     "metadata": {},
     "output_type": "display_data"
    },
    {
     "data": {
      "application/vnd.jupyter.widget-view+json": {
       "model_id": "2e0f71fe696f43ae81b4e97147172ddc",
       "version_major": 2,
       "version_minor": 0
      },
      "text/plain": [
       "Export report to file:   0%|          | 0/1 [00:00<?, ?it/s]"
      ]
     },
     "metadata": {},
     "output_type": "display_data"
    }
   ],
   "source": [
    "# Loading profile report to file for record keeping\n",
    "\n",
    "profile.to_file(\"sample_profile.html\")"
   ]
  },
  {
   "cell_type": "markdown",
   "id": "bcc50a57-dddd-4b21-a8d6-19a1dd2edf4c",
   "metadata": {},
   "source": [
    "### Observations:\n",
    "\n",
    "1. Missing Values: The dataset has a significant number of missing values, particularly in columns such as 'phone_brand', 'device_model', 'gender', 'age', and 'group'. These missing values need to be addressed to ensure data integrity.\n",
    "\n",
    "2. Data Imbalance: The distribution of 'city' and 'state' variables is highly imbalanced, with some values dominating the dataset. This could impact the analysis and modeling.\n",
    "\n",
    "3. High Cardinality: The 'city' column has a high cardinality with 85 distinct values. This could potentially affect certain analysis or modeling techniques.\n",
    "\n",
    "4. High Correlations: Several variables, such as 'longitude', 'latitude', 'age', 'phone_brand', 'device_model', 'gender', and 'group', exhibit high correlations with other variables. This indicates potential multicollinearity and could influence the performance of certain models.\n",
    "\n",
    "### Resolution Approaches:\n",
    "\n",
    "1. Handling Missing Values: Since 'phone_brand', 'device_model', 'gender', 'age', and 'group' have a high percentage of missing values, appropriate imputation techniques need to be applied. For categorical variables ('phone_brand', 'device_model', 'gender', 'group'), missing values can be replaced with a category such as 'Unknown'. For numerical variables ('age'), techniques like mean, median, or regression-based imputation can be used.\n",
    "\n",
    "2. Addressing Data Imbalance: The imbalanced distribution of 'city' and 'state' variables can be addressed using techniques like oversampling (e.g., SMOTE) or undersampling to balance the dataset. This will help prevent bias and improve model performance.\n",
    "\n",
    "3. Handling High Cardinality: When dealing with high cardinality in the 'city' column, it may be necessary to apply dimensionality reduction techniques or consider aggregating the data based on higher-level geographical categories.\n",
    "\n",
    "4. Addressing High Correlations: High correlations among variables like 'longitude', 'latitude', 'age', 'phone_brand', 'device_model', 'gender', and 'group' could lead to multicollinearity issues. Feature selection techniques, such as using correlation matrices, variance inflation factor (VIF), or dimensionality reduction methods like principal component analysis (PCA), can help identify and handle highly correlated variables.\n",
    "\n",
    "By implementing these resolution approaches, the data can be prepared for further analysis, modeling, and visualization, while ensuring the integrity and quality of the insights obtained."
   ]
  },
  {
   "cell_type": "markdown",
   "id": "1cd5f81d-3ed9-4e2f-98a2-04aad9b6d5aa",
   "metadata": {},
   "source": [
    "---\n",
    "<a name = Section7></a>\n",
    "# **7. Exploratory Data Analysis**\n",
    "---"
   ]
  },
  {
   "cell_type": "markdown",
   "id": "08a170eb-685a-43cc-80a6-c22d69306614",
   "metadata": {},
   "source": [
    "<a name = Section71></a>\n",
    "### **7.1 How many Events occured in each City?**"
   ]
  },
  {
   "cell_type": "markdown",
   "id": "b06ed5c4-378a-46eb-b96c-9f4be2070222",
   "metadata": {},
   "source": [
    "<a name = Section82></a>\n",
    "### **8.2 How many events (Date-wise)?**"
   ]
  },
  {
   "cell_type": "markdown",
   "id": "c4e0c33d-d9fd-4622-ad79-053d628d4498",
   "metadata": {},
   "source": [
    "### 7.3 How many Models/ Brand of Phone?"
   ]
  },
  {
   "cell_type": "code",
   "execution_count": 52,
   "id": "2c396a56-f943-486e-b7d9-4026759488b1",
   "metadata": {},
   "outputs": [
    {
     "name": "stdout",
     "output_type": "stream",
     "text": [
      "Phone Brand: Aipel\n",
      "\n",
      "['IPH8' 'iPh-800']\n",
      "\n",
      "----------------------------------------------------------------------\n",
      "\n",
      "Phone Brand: Aiuni\n",
      "\n",
      "['U3' 'U2' 'i1']\n",
      "\n",
      "----------------------------------------------------------------------\n",
      "\n",
      "Phone Brand: Asus\n",
      "\n",
      "['ZenFone Max' 'ZenFone 2' 'ZenFone 5' 'ME371MG' 'Pegasus' 'Pegasus 3'\n",
      " 'K012' 'T00G' 'ME7510KG' 'ZenFone Selfie' '飞马2 Plus']\n",
      "\n",
      "----------------------------------------------------------------------\n",
      "\n",
      "Phone Brand: Baika\n",
      "\n",
      "['V6']\n",
      "\n",
      "----------------------------------------------------------------------\n",
      "\n",
      "Phone Brand: Bailifeng\n",
      "\n",
      "['T708' 'T2']\n",
      "\n",
      "----------------------------------------------------------------------\n",
      "\n",
      "Phone Brand: Banghua\n",
      "\n",
      "['U11' 'U7' 'TL1000' 'V9' 'V95' 'TL500' 'V70' 'U1' 'I6']\n",
      "\n",
      "----------------------------------------------------------------------\n",
      "\n",
      "Phone Brand: Baojixun\n",
      "\n",
      "['JX8166']\n",
      "\n",
      "----------------------------------------------------------------------\n",
      "\n",
      "Phone Brand: Belfeng\n",
      "\n",
      "['BF T18' 'T12' 'BF A500' 'T13']\n",
      "\n",
      "----------------------------------------------------------------------\n",
      "\n",
      "Phone Brand: Big Cola\n",
      "\n",
      "['MC002']\n",
      "\n",
      "----------------------------------------------------------------------\n",
      "\n",
      "Phone Brand: Big Q\n",
      "\n",
      "['Thunder Fighter']\n",
      "\n",
      "----------------------------------------------------------------------\n",
      "\n",
      "Phone Brand: Black Rice\n",
      "\n",
      "['A1' 'A5']\n",
      "\n",
      "----------------------------------------------------------------------\n",
      "\n",
      "Phone Brand: Blue Devil\n",
      "\n",
      "['i9' 'R9' 'Mos1']\n",
      "\n",
      "----------------------------------------------------------------------\n",
      "\n",
      "Phone Brand: Candied Hulu\n",
      "\n",
      "['T3']\n",
      "\n",
      "----------------------------------------------------------------------\n",
      "\n",
      "Phone Brand: Century Star\n",
      "\n",
      "['T5']\n",
      "\n",
      "----------------------------------------------------------------------\n",
      "\n",
      "Phone Brand: Changhong\n",
      "\n",
      "['T03 Frontier Edition' 'C03' 'Z9' 'A100' 'N1']\n",
      "\n",
      "----------------------------------------------------------------------\n",
      "\n",
      "Phone Brand: Chi-Mag\n",
      "\n",
      "['EV5']\n",
      "\n",
      "----------------------------------------------------------------------\n",
      "\n",
      "Phone Brand: China Mobile\n",
      "\n",
      "['A1' 'N1' 'N1 max' 'M811' 'M701' 'M812C' 'M601']\n",
      "\n",
      "----------------------------------------------------------------------\n",
      "\n",
      "Phone Brand: Cooby\n",
      "\n",
      "['H1' 'S1' 'H1S' 'H5' 'H7' 'M100' 'M1' 'S2' 'S5' 'S6' 'S3' 'A690' 'H2'\n",
      " 'M1L' 'H3' 'MAX3' 'S7' 'H6']\n",
      "\n",
      "----------------------------------------------------------------------\n",
      "\n",
      "Phone Brand: Cool Doo Cube\n",
      "\n",
      "['TALK 7X Quad Core' 'U51GT-W' 'TALK 9X' 'U55GT' 'U25GT' 'U59GT']\n",
      "\n",
      "----------------------------------------------------------------------\n",
      "\n",
      "Phone Brand: Coolpad\n",
      "\n",
      "['Great God F1Plus' '8720L' 'F2' '5891' 'Great God F1' 'Dashen F2'\n",
      " 'Y60-C1' 'Dashen F2 Full HD Version' '8185' '8105' '7270-W00' '5890'\n",
      " '8190Q' '8702D' '5951' '8056' 'Chunlei HD' 'ivvi Xiaoi' '5950'\n",
      " 'Feng Shang' '8085q' 'Great God X7' 'Great God Note3' '8750' 'T1' '8730L'\n",
      " 'Fengshang Pro' '9190l' '7296' '7105' '5263' 'ivvi Osicles Pro'\n",
      " 'Feng Shang Max' '7270' '7295' 'Feng Shang 2' '5263S' '7298D' '8729'\n",
      " '5200S' '8029' '8122' '5891Q' '5956' '7269' 'Great God Note' '7295C'\n",
      " '7295A Youth Edition' '5219' '8190' '7231' '7372' '8195' '8720' '7620l'\n",
      " '8702' '8705' 'S6' '7295+' '7320' 'Hyunying S+' '7235' '8085n' 'K1'\n",
      " '7268' '5892' '7236' '7230' '8012' '9976A' '8295M' '8198T' '5860A' 'Y80D'\n",
      " '5217' '8079' '8295' 'ivvi K1 mini' '7296S' 'Grand View 4' '5360' '8021'\n",
      " '8085' '8721' '7260' '8712S' 'Y1' '8295c' '5872' '8732' '8070' '7251'\n",
      " '8089' '5832' 'Great God 1s' '5860S' '8076D' '8017' '7019' '8707'\n",
      " '8017-T00' '8713' '5218S' '5216D' '5261' '5316' '5930' '8717' '9976D'\n",
      " '8150' '8712' 'S6-NT1' '7060' '8076' '5311' '5876' '7605' 'Y70-C'\n",
      " 'Swirl Shadow 90w' '8736' '5216s' '5879' '5310' '7275' '7061' '5313S'\n",
      " '5200' '8715' '8722' 'Grand View Platinum']\n",
      "\n",
      "----------------------------------------------------------------------\n",
      "\n",
      "Phone Brand: Cooper\n",
      "\n",
      "['L128' 'L7' 'L8' 'L168']\n",
      "\n",
      "----------------------------------------------------------------------\n",
      "\n",
      "Phone Brand: Cyber Yuhua\n",
      "\n",
      "['SOP M3']\n",
      "\n",
      "----------------------------------------------------------------------\n",
      "\n",
      "Phone Brand: Daxian\n",
      "\n",
      "['7i']\n",
      "\n",
      "----------------------------------------------------------------------\n",
      "\n",
      "Phone Brand: Desai\n",
      "\n",
      "['TS1018' '魔镜 X5']\n",
      "\n",
      "----------------------------------------------------------------------\n",
      "\n",
      "Phone Brand: Duowei\n",
      "\n",
      "['L5Pro' 'L1 mini' 'S2y' 'D800' 'T20L' 'S2L' 'D500' 'D350' 'iSuper S2'\n",
      " 'iSuper S1' 'L1' 'L5 Plus' 'Allure L3' 'D330' 'T60' 'S3' 'T20' 'T35'\n",
      " 'Qingcheng L3C' 'T21' 'T90' 'D360' 'L5 mini']\n",
      "\n",
      "----------------------------------------------------------------------\n",
      "\n",
      "Phone Brand: E Pie\n",
      "\n",
      "['Big Q Note' 'T7' 'U5482']\n",
      "\n",
      "----------------------------------------------------------------------\n",
      "\n",
      "Phone Brand: Epai\n",
      "\n",
      "['A3' 'Z4' 'S300']\n",
      "\n",
      "----------------------------------------------------------------------\n",
      "\n",
      "Phone Brand: Eren Eben\n",
      "\n",
      "['T9']\n",
      "\n",
      "----------------------------------------------------------------------\n",
      "\n",
      "Phone Brand: Femtosecond\n",
      "\n",
      "['T9']\n",
      "\n",
      "----------------------------------------------------------------------\n",
      "\n",
      "Phone Brand: Fengmi\n",
      "\n",
      "['P8']\n",
      "\n",
      "----------------------------------------------------------------------\n",
      "\n",
      "Phone Brand: Glutinous Rice\n",
      "\n",
      "['3S']\n",
      "\n",
      "----------------------------------------------------------------------\n",
      "\n",
      "Phone Brand: Google\n",
      "\n",
      "['Nexus 7']\n",
      "\n",
      "----------------------------------------------------------------------\n",
      "\n",
      "Phone Brand: Guangxin\n",
      "\n",
      "['S5Q' 'F1' 'S5']\n",
      "\n",
      "----------------------------------------------------------------------\n",
      "\n",
      "Phone Brand: Guomi\n",
      "\n",
      "['A7' 'M6']\n",
      "\n",
      "----------------------------------------------------------------------\n",
      "\n",
      "Phone Brand: HP\n",
      "\n",
      "['Compaq 7']\n",
      "\n",
      "----------------------------------------------------------------------\n",
      "\n",
      "Phone Brand: HTC\n",
      "\n",
      "['One' 'One M8' 'M8' 'Sensation XE with Beats Audio Z715e' 'One X'\n",
      " 'Inspiration XL' 'Butterfly' 'T528t' 'M8St' 'Desire 820' 'EVO 3D X515m'\n",
      " 'Desire 820 Mini' '603e' 'G11' 'T528w' 'Desire 826' 'Desire 7088'\n",
      " 'Desire 610t' 'Desire 816' 'T329t' 'Wildfire S' 'T328w' 'One S' '802w'\n",
      " 'T329d' 'T328t' 'One E8' 'Desire 626' 'One max' 'One M9+' 'Desire 616'\n",
      " 'One E9' '7060' 'Desire S' 'T528d' 'Desire 310' 'Butterfly s' '608t'\n",
      " 'One M8 Eye' 'Desire 5088' 'M8x' 'T327w' '606w' 'Desire 609d'\n",
      " 'Desire D516d' 'One ME' 'X920e' 'Weike' 'One M9' '802d' 'Sensation Z710E'\n",
      " 'Desire D516t' 'T327t' 'Desire D316d' 'Desire HD' 'D516w' 'Desire V'\n",
      " 'Desire 816x' 'One A9' 'One X9' 'T328d']\n",
      "\n",
      "----------------------------------------------------------------------\n",
      "\n",
      "Phone Brand: Haier\n",
      "\n",
      "['L700T' 'HT-I860' 'HT-I717' 'HT-I857']\n",
      "\n",
      "----------------------------------------------------------------------\n",
      "\n",
      "Phone Brand: Hammer\n",
      "\n",
      "['Nut Phone' 'T1' 'T2']\n",
      "\n",
      "----------------------------------------------------------------------\n",
      "\n",
      "Phone Brand: Hengyufeng\n",
      "\n",
      "['9300-M9']\n",
      "\n",
      "----------------------------------------------------------------------\n",
      "\n",
      "Phone Brand: Hisense\n",
      "\n",
      "['E602T' 'E620M' 'X8T' 'E601M' 'D2-M' 'HS-U978' 'EG939' 'EG978' 'X68T'\n",
      " 'T958' 'E912S' 'U966' 'E70-T' 'U980' 'EG970' 'M20-T' 'E613M' 'E75T'\n",
      " 'T967' 'EG966' 'M10-M' 'U939' 'E600M' 'I630T' 'E621T' 'T820' 'EG971'\n",
      " 'EG936D' 'T929' 'E602M' 'U8' 'M20-M' 'King Kong II' 'EG980' 'I630M'\n",
      " 'I639T' 'E913' 'I635T' 'E260-T' 'E968' 'EG929' 'E956Q' 'E50-T' 'T928'\n",
      " 'U970' 'E820' 'G610M' 'U936' 'E622M' 'Little Octopus']\n",
      "\n",
      "----------------------------------------------------------------------\n",
      "\n",
      "Phone Brand: Huang\n",
      "\n",
      "['X5']\n",
      "\n",
      "----------------------------------------------------------------------\n",
      "\n",
      "Phone Brand: Huawei\n",
      "\n",
      "['C8816' 'G520-5000' 'Honor 4A' 'Y560-CL00' 'Honor 7i' 'Honor Play 4C'\n",
      " 'Honor Play 5' 'Honor 7' 'Maimang 4' 'Ascend G7' 'Honor 6'\n",
      " 'Honor Play 4X' 'Ascend P7' 'Honor 3X Play Edition' 'Honor X2'\n",
      " 'Ascend P8' 'Mate 2' 'Honor 6 Plus' 'P8 Lite' 'Honor+' 'Honor Play 4'\n",
      " 'Y635-TL00' 'Honor 3C' 'Mate 7' 'Ascend G700T' 'Honor Play 5X'\n",
      " 'MediaPad M2-801W' 'Ascend GX1' 'G628' 'B199' 'C8818'\n",
      " 'Mate 7 Youth Edition' 'Ascend P1' 'U9508' 'Honor 6 plus' 'G610S'\n",
      " 'X1 7.0' 'G620-L75' 'Enjoy 5' 'G610T' 'Honor U8860' 'Y635'\n",
      " 'Honor Play Tablet T1' 'G7 Plus' 'Honor Play 4C Sports Edition'\n",
      " 'Maimang 3' 'Ascend G700' 'G520-0000' 'Ascend P6' 'Y511-T00' 'Y321C'\n",
      " 'G730-C00' 'G520-T10' 'Mate 8' 'G750-T20' 'Honor 3X' 'HN3-U01'\n",
      " 'Honor 3C Play Edition' 'G606' 'Enjoy 5S' 'MediaPad M2-803L' 'G510'\n",
      " 'C8817E' 'C8815' 'G660-L075' 'Mate S' '荣耀平板T1-823L' 'Y600D' 'Y518-T00'\n",
      " 'Y516' 'C8816D' 'C8813' 'A199' 'MT1-U06' 'Y600-U00' 'Y320' 'C8813Q'\n",
      " 'Ascend G6' 'G730-T00' 'Y618-T00' 'G730-U00' 'Y330' 'Mate' 'Y300'\n",
      " 'MT2-C00' 'G521' 'Y500' 'C8817L' 'G615-U10' 'Y511-U00' 'G716'\n",
      " 'Maimang 3S' 'G6-U00' 'T8620' 'P8max' 'P9' 'C8650' 'C8812' 'G610C'\n",
      " 'Y3100' 'G730-L075' 'C8813DQ' 'G6-C00' 'Ascend D2' 'Y320T' 'G630' 'Y325'\n",
      " 'G525' 'G616-L076' 'S8-701u' 'T8830Pro' 'U8825D' 'Y220T' 'Y610-U00'\n",
      " 'S8-701w' 'T1-821w' 'MediaPad 10 Link' 'Y310-T10' 'Y310-5000' 'C8813D'\n",
      " 'C8812+' 'G629' 'Sonic+' 'Nexus 6P' 'Ascend G330C' 'Y523-L176'\n",
      " 'MediaPad M1' 'P9 Plus' 'Hol-U10' 'S8-303L' 'G730-U30' 'G309T'\n",
      " 'Ascend D1' 'G620-L72' 'Y320C' 'm310']\n",
      "\n",
      "----------------------------------------------------------------------\n",
      "\n",
      "Phone Brand: InFocus\n",
      "\n",
      "['M210' 'M2' 'M512' 'M310' 'M535']\n",
      "\n",
      "----------------------------------------------------------------------\n",
      "\n",
      "Phone Brand: Kellytong\n",
      "\n",
      "['T9']\n",
      "\n",
      "----------------------------------------------------------------------\n",
      "\n",
      "Phone Brand: Kivu\n",
      "\n",
      "['A800' 'BM002-G5' 'G9']\n",
      "\n",
      "----------------------------------------------------------------------\n",
      "\n",
      "Phone Brand: Konka\n",
      "\n",
      "['R1' 'V987' 'L810' 'D557' 'R2' 'K23' 'V931' 'V981' 'L823' 'V923' 'V983']\n",
      "\n",
      "----------------------------------------------------------------------\n",
      "\n",
      "Phone Brand: LG\n",
      "\n",
      "['G3' 'Nexus 5' 'P970' 'Nexus 4' 'G2' 'Optimus G' 'G4' 'L22' 'P880'\n",
      " 'Optimus LTE' 'VS980' 'P705' 'Optimus G Pro' 'L70' 'V10'\n",
      " 'Optimus G Pro 2' 'F320L' 'F240S']\n",
      "\n",
      "----------------------------------------------------------------------\n",
      "\n",
      "Phone Brand: LOGO\n",
      "\n",
      "['M2']\n",
      "\n",
      "----------------------------------------------------------------------\n",
      "\n",
      "Phone Brand: LeTV\n",
      "\n",
      "['Super Phone 1 Pro' 'Super Phone 1' 'Super Phone 1s' 'Super Phone Max']\n",
      "\n",
      "----------------------------------------------------------------------\n",
      "\n",
      "Phone Brand: Lenovo\n",
      "\n",
      "['Star 1' 'Q507T' 'V5 Max' 'U960E' 'Grand X' 'Xiaoxian 2' 'Q519T'\n",
      " 'Grand X Quad' 'Q505T' 'Grand Memo 2' 'U956' 'G718C' 'V5S' 'voyage 3'\n",
      " 'Blade S6 Lux' 'U879' 'U930HD' 'Blade A1' 'Red Bull V5' 'Grand S 2'\n",
      " 'U880F1' '795+' 'Q705U' 'U817' 'U809' 'U930' 'U969' 'A880' 'N798+'\n",
      " 'Grand Memo' 'V889D' 'U960S3' 'U9815' 'V818' 'U960S' '9180' 'U795+'\n",
      " 'Q802T' 'Q501U' 'G717C' 'Mighty 3' 'Q503U' 'V955' 'U950' 'Star 2'\n",
      " 'Blade S6' 'V956' 'Mighty 3C' 'N909' 'AxonMini' 'U807' 'Grand Era'\n",
      " 'Q201T' 'V967S' 'U880' 'Q7' 'N986' 'Blade C' 'Q301C' 'Q701C' 'N818'\n",
      " 'memo 5S' 'Q302C' 'Little Fresh 3' 'Little Star' 'N880F' 'N881F' 'U819'\n",
      " 'Q801L' 'ZTE Yuanhang 3' 'Axon' 'N880E' 'Q501T' 'Qingyang 3' 'DM' 'U968'\n",
      " 'U808' 'Drunk Enjoy' 'N919D' 'U818' 'U880S' 'V880' 'U889' 'Q805T' 'U880E'\n",
      " 'V889M' 'N919' 'U793' 'Q509T' 'U960']\n",
      "\n",
      "----------------------------------------------------------------------\n",
      "\n",
      "Phone Brand: Ling Yun\n",
      "\n",
      "['Little Apple']\n",
      "\n",
      "----------------------------------------------------------------------\n",
      "\n",
      "Phone Brand: Little Poplar\n",
      "\n",
      "['MM1101' 'MM1103' 'MM1104']\n",
      "\n",
      "----------------------------------------------------------------------\n",
      "\n",
      "Phone Brand: Lovme\n",
      "\n",
      "['T9' 'T5' 'X18' 'T6']\n",
      "\n",
      "----------------------------------------------------------------------\n",
      "\n",
      "Phone Brand: MIL\n",
      "\n",
      "['T004']\n",
      "\n",
      "----------------------------------------------------------------------\n",
      "\n",
      "Phone Brand: Meitu\n",
      "\n",
      "['2' 'M4' 'V4' 'MK260' 'M2']\n",
      "\n",
      "----------------------------------------------------------------------\n",
      "\n",
      "Phone Brand: Meizu\n",
      "\n",
      "['MX3' 'Meizu Note 2' 'MX2' 'Mei Lan NOTE' 'MX5' 'MX4' 'Meizu 2' 'M9'\n",
      " 'Charm Blue' 'MX4 Pro' 'Meizu Metal' 'PRO5' 'M032' 'M031' 'M030'\n",
      " 'Meizu Note3']\n",
      "\n",
      "----------------------------------------------------------------------\n",
      "\n",
      "Phone Brand: Mengmi\n",
      "\n",
      "['P6']\n",
      "\n",
      "----------------------------------------------------------------------\n",
      "\n",
      "Phone Brand: Mi Song\n",
      "\n",
      "['201' 'M201S' '210R']\n",
      "\n",
      "----------------------------------------------------------------------\n",
      "\n",
      "Phone Brand: Mickey\n",
      "\n",
      "['M6-M7' 'M228-M51']\n",
      "\n",
      "----------------------------------------------------------------------\n",
      "\n",
      "Phone Brand: Mole\n",
      "\n",
      "['S9']\n",
      "\n",
      "----------------------------------------------------------------------\n",
      "\n",
      "Phone Brand: Motorola\n",
      "\n",
      "['Moto X Style' 'Moto X' 'Moto X Pro' 'Moto G' 'XT615' 'Droid Ultra'\n",
      " 'XT1060' 'XT910' 'DROID RAZR' 'Defy+' 'XT1033' 'Moto X 3' 'XT928'\n",
      " 'Razr V锋芒' 'DROID RAZR M' 'Moto X极' 'Moto Turbo']\n",
      "\n",
      "----------------------------------------------------------------------\n",
      "\n",
      "Phone Brand: Newman\n",
      "\n",
      "['Button']\n",
      "\n",
      "----------------------------------------------------------------------\n",
      "\n",
      "Phone Brand: Nibiru\n",
      "\n",
      "['Mars One' 'Saturn One' 'Mars One Exploration Edition']\n",
      "\n",
      "----------------------------------------------------------------------\n",
      "\n",
      "Phone Brand: Noahs letter\n",
      "\n",
      "['M8' 'M15' 'T918']\n",
      "\n",
      "----------------------------------------------------------------------\n",
      "\n",
      "Phone Brand: Nokia\n",
      "\n",
      "['XL' 'X' 'X2' 'N1']\n",
      "\n",
      "----------------------------------------------------------------------\n",
      "\n",
      "Phone Brand: Nubia\n",
      "\n",
      "['Z7 Mini' 'Z9 mini' 'Z9 Max' 'Z5S' 'My Prague' 'Z5S Mini' 'Z9' 'Z7 Max'\n",
      " 'Z9 mini Elite Edition' 'Z5 Mini' 'X6' 'Z7']\n",
      "\n",
      "----------------------------------------------------------------------\n",
      "\n",
      "Phone Brand: OPPO\n",
      "\n",
      "['R7s' 'R1C' 'Find 7' '3000' 'R3' 'R2017' 'R7' 'A31' 'R7 Plus' 'R807'\n",
      " 'R6007' 'R823T' 'N1 Mini' 'Find 5' 'A11' 'R1' 'R817' '1107' 'R831T' 'R1S'\n",
      " 'R809T' 'N1T' 'R831S' 'R815T' 'R819T' 'A51' 'X907' 'N3' 'R827T' 'R821T'\n",
      " 'A33' '6607' 'R830' 'R5' 'R8205' '1100' 'Find' 'A53' '3007' 'U701'\n",
      " 'R833T' '1105' 'R820' 'Ulike2' 'U707T' 'U705T' 'R813T' 'R811' 'T29' 'N1W'\n",
      " 'R9' 'R830S' 'R8000' 'R9 Plus' '3005' 'R805' 'R801' 'R817T' 'R2010'\n",
      " 'R850' 'U701T' 'A51kc' 'A30' 'T703' 'Find 3']\n",
      "\n",
      "----------------------------------------------------------------------\n",
      "\n",
      "Phone Brand: Obi\n",
      "\n",
      "['V10']\n",
      "\n",
      "----------------------------------------------------------------------\n",
      "\n",
      "Phone Brand: Oboxin\n",
      "\n",
      "['IVO 6655' 'IVO 6622' 'IVO 6600' 'IVO 6688' 'D1' 'Q3C' 'IVO 6666'\n",
      " 'IVO 8800']\n",
      "\n",
      "----------------------------------------------------------------------\n",
      "\n",
      "Phone Brand: Okey\n",
      "\n",
      "['OKU3' 'G5' 'OKA51' 'T89-2']\n",
      "\n",
      "----------------------------------------------------------------------\n",
      "\n",
      "Phone Brand: Onda\n",
      "\n",
      "['V819 3G' 'V719' 'V975s Core4' 'V919' 'V701s Core4']\n",
      "\n",
      "----------------------------------------------------------------------\n",
      "\n",
      "Phone Brand: OnePlus\n",
      "\n",
      "['X' 'One' 'Two']\n",
      "\n",
      "----------------------------------------------------------------------\n",
      "\n",
      "Phone Brand: Oraldi\n",
      "\n",
      "['Z1988']\n",
      "\n",
      "----------------------------------------------------------------------\n",
      "\n",
      "Phone Brand: Original\n",
      "\n",
      "['V5']\n",
      "\n",
      "----------------------------------------------------------------------\n",
      "\n",
      "Phone Brand: Ouxin\n",
      "\n",
      "['V70' 'T80']\n",
      "\n",
      "----------------------------------------------------------------------\n",
      "\n",
      "Phone Brand: Owo\n",
      "\n",
      "['Q7']\n",
      "\n",
      "----------------------------------------------------------------------\n",
      "\n",
      "Phone Brand: Ox\n",
      "\n",
      "['V965T']\n",
      "\n",
      "----------------------------------------------------------------------\n",
      "\n",
      "Phone Brand: PPTV\n",
      "\n",
      "['King 7' 'King 7s']\n",
      "\n",
      "----------------------------------------------------------------------\n",
      "\n",
      "Phone Brand: Philips\n",
      "\n",
      "['V526' 'W6618']\n",
      "\n",
      "----------------------------------------------------------------------\n",
      "\n",
      "Phone Brand: Phixun\n",
      "\n",
      "['C730Lw' 'C630Lw' 'C230w']\n",
      "\n",
      "----------------------------------------------------------------------\n",
      "\n",
      "Phone Brand: Pioneer\n",
      "\n",
      "['K68w' 'K88L']\n",
      "\n",
      "----------------------------------------------------------------------\n",
      "\n",
      "Phone Brand: Pure\n",
      "\n",
      "['MOMO9']\n",
      "\n",
      "----------------------------------------------------------------------\n",
      "\n",
      "Phone Brand: Qiku\n",
      "\n",
      "['Youth Edition' 'Ultimate Edition']\n",
      "\n",
      "----------------------------------------------------------------------\n",
      "\n",
      "Phone Brand: Qingcheng\n",
      "\n",
      "['N1-Y' 'voga v1' 'N2']\n",
      "\n",
      "----------------------------------------------------------------------\n",
      "\n",
      "Phone Brand: Rigao\n",
      "\n",
      "['78P01']\n",
      "\n",
      "----------------------------------------------------------------------\n",
      "\n",
      "Phone Brand: Rimi\n",
      "\n",
      "['X7']\n",
      "\n",
      "----------------------------------------------------------------------\n",
      "\n",
      "Phone Brand: SUGAR\n",
      "\n",
      "['Fashionable phone' '2C']\n",
      "\n",
      "----------------------------------------------------------------------\n",
      "\n",
      "Phone Brand: Samsung\n",
      "\n",
      "['A368t' 'Galaxy Grand Prime' 'Galaxy Note 2' 'Galaxy Mega 2' 'Galaxy S4'\n",
      " 'Galaxy Win' 'Galaxy J7' 'Galaxy S6 Edge' 'A3800d' 'P780'\n",
      " 'Galaxy Grand 2' 'A890e' 'Galaxy Mega 5.8' 'Galaxy J5' 'Galaxy Note 4'\n",
      " 'A880' 'Galaxy S3' 'Golden Fighter A8' 'Galaxy S2 Plus' 'Galaxy S5'\n",
      " 'Galaxy Trend DUOS 2' 'Galaxy Note 3' 'Galaxy R' 'Galaxy Note 5'\n",
      " 'Galaxy Grand Neo Plus' 'Galaxy E7' 'A680' 'Galaxy Trend 3' 'S7568I'\n",
      " 'Galaxy S2' 'Lemeng K3 Note' 'Galaxy S4 Zoom' 'Galaxy Ace Dear'\n",
      " 'Lemeng K3' 'Lenovo Gold Fighter S8' 'S60t' 'A788t' 'Galaxy A7'\n",
      " 'Galaxy Core Prime' 'Galaxy Style DUOS' 'Galaxy Note 3 Lite' 'Galaxy S6'\n",
      " 'Galaxy Grand DUOS' 'Galaxy S6 Edge+' 'G3588V' 'Galaxy A8' 'S90-t' 'A750'\n",
      " 'S898t' 'Galaxy Mega 6.3' 'Galaxy Grand' 'Galaxy Note' 'Galaxy A5' 'A820'\n",
      " 'G7200' 'Galaxy A3' 'Galaxy S2 HD LTE E120S' 'Big 2' 'Galaxy Tab P6800'\n",
      " 'A398t' 'A3900' 'A320t' 'Galaxy Core Advance' 'SHV-E210L' 'Galaxy Ace 3'\n",
      " 'I9118' 'K860i' 'A708t' 'A670t' 'S658t' 'Galaxy On7' 'Galaxy Ace' 'S7568'\n",
      " 'W2015' 'Galaxy Note Edge' 'Galaxy Trend DUOS' 'Galaxy On5'\n",
      " 'Galaxy S3 Neo+' 'VIBE X' 'A369' 'A688t' 'Samsung big foot'\n",
      " 'Galaxy Premier' 'S810t' 'S650' 'S5830I' 'B9388' 'A5800-D'\n",
      " 'Galaxy Core Lite' 'A360t' 'SM-T705C' 'Galaxy Core Max' 'I779'\n",
      " 'Galaxy Note 10.1' 'G3818' 'Galaxy Nexus' 'Galaxy S L' '2016版 Galaxy A9'\n",
      " 'Galaxy S3 Mini' 'VIBE X2' 'A516' 'S7898' '2016版 Galaxy A5' 'VIBE Z2'\n",
      " 'S820' 'Galaxy J3' 'W2014' 'Galaxy Mega Plus' 'A298t' 'Galaxy Tab 3 8.0'\n",
      " '2016版 Galaxy A7' 'A376' 'Galaxy Win Pro' 'I8268' 'Galaxy Tab 3 10.1'\n",
      " 'Galaxy Tab 2 P3100' 'A580' 'S720' 'Galaxy S7 Edge' 'A828t' 'A850' 'A390'\n",
      " 'Galaxy Tab P3108' 'A789' 'A2800d' 'A678t' 'Galaxy Note 8.0' 'A380t'\n",
      " 'A820t' 'S890' 'Galaxy Ace 2' 'S920' 'A356' 'A388t' 'S850t' 'P770'\n",
      " 'A798t' 'Galaxy S Advance' 'A390t' 'IdeaTab A5000-E' 'Galaxy Ace Plus'\n",
      " 'Galaxy Tab S T705C' 'Galaxy Tab 4 T231' 'VIBE Z' 'Galaxy Core Mini'\n",
      " 'Golden Warrior Note8' 'Galaxy Trend 2' 'A660' 'Galaxy Tab 7.0 Plus'\n",
      " 'A658t' 'P700i' 'Galaxy S4 Active' 'S720i' 'TAB 2 A7-30' 'S5300' 'P700'\n",
      " 'Galaxy S4 Mini' 'Galaxy Gio' 'A630t' 'Galaxy J1' 'Galaxy Fame' 'A800'\n",
      " 'A820e' 'A278t' 'A505e' 'K900' 'A520' 'A766' 'S696' 'S868t' 'A830'\n",
      " 'Galaxy Core 4G' '2016版 Galaxy J7' 'Galaxy W' 'A850+' 'Galaxy J' 'W999'\n",
      " 'Vibe Z2 Pro' 'W2013' 'N910C' 'A770e' 'SCH-I939' 'A698t' 'A765e'\n",
      " 'A3000-H' 'S5831I' 'Lenovo VIBE X2' 'A785e' 'Galaxy S2 Epic 4G Touch'\n",
      " 'Galaxy Alpha' 'S938t' 'A2580' 'S899t' 'S850' 'Vibe Shot' 'Galaxy Mini'\n",
      " 'A750e' 'S7566' 'Galaxy Core 2' 'A760' 'A399' 'Galaxy K Zoom' 'N910U'\n",
      " 'A858t' 'A560' 'Galaxy Golden' 'I9050' 'Galaxy S Plus' 'S686' 'S858t'\n",
      " 'G3609' 'Galaxy Tab 3 Lite T111' 'Nexus S' 'A7-30' 'S930' 'P70'\n",
      " 'Galaxy Tab 4 T331C' 'Lemeng K31' 'Golden Fighter S8 Play Edition'\n",
      " 'SM-T325' 'Galaxy Trend' 'IdeaTab A2207A-H' 'A318t' 'A706' 'A330e' 'K860'\n",
      " 'A8-50' 'SM-T2558' 'A630' 'S5000' 'YOGA Tablet B6000' 'G3819D'\n",
      " 'Galaxy Tab 2 P5110' 'A288t' 'A628t' 'I8258' 'Galaxy Tab 3 7.0'\n",
      " 'Galaxy Y' 'GT-I8160' 'A3300-T' 'Tab2 A7-10F' 'A308t'\n",
      " 'Galaxy Tab Pro T321' 'S90-u' 'A656' 'S660' 'Galaxy S' 'A378t' 'A889'\n",
      " 's820e' 'S880i' 'A208t' 'Galaxy Ace DUOS' 'A269i' 'A238t' 'A398t+'\n",
      " 'A6800' 'Galaxy Tab S T800' 'Galaxy Grand Max' 'Galaxy Infinite' 'S939'\n",
      " 'A860e' 'A2860' 'Golden Fighter Youth Edition'\n",
      " 'Galaxy Note 10.1 2014 Edition P601' 'Galaxy S DUOS' 'A355e' 'A68e'\n",
      " 'GT-N8000' 'I8250' 'A338t' 'S880' 'A300t' 'A805e' 'Big Machine 3' 'S960'\n",
      " 'A588t' 'SM-T2556' 'A3600d' 'A606' 'S860e' 'Galaxy Tab P7500' 'A768t'\n",
      " 'VIBE P1' 'A385e' 'Galaxy Tab 2 P5100' 'A690' 'Galaxy Grand 2 LTE'\n",
      " 'PHAB Plus' 'Galaxy Tab 3 Lite T110' 'Tab2A7-20F' 'S8-50' 'A358t'\n",
      " 'Galaxy Tab S T805C' 'A500' 'Leading Flagship 3' 'K80' 'Galaxy Ace 4'\n",
      " 'A375e' 'A590' 'a218t' 'A3500' 'A780' 'A360e' 'Galaxy S7' 'S668t'\n",
      " 'IdeaTab A1010-T' 'A396' 'S90-e' 'A328t' 'Galaxy Core' 'S560' 'A3890'\n",
      " 'A630e' 'A380e' 'A65' 'A366t' 'W2016' 'YOGA Tablet B8000'\n",
      " 'IdeaTab A1000-T' 'A780e' 'VIBE X2 Pro' 'A395e' 'Galaxy Tab P1000'\n",
      " 'I699I' 'B8080-F' 'A1020' 'S870e' 'Galaxy S DUOS 2' 'Le Meng 3'\n",
      " 'Lemon X3' 'Galaxy Tab S T705']\n",
      "\n",
      "----------------------------------------------------------------------\n",
      "\n",
      "Phone Brand: Scallion\n",
      "\n",
      "['metal Standard Edition']\n",
      "\n",
      "----------------------------------------------------------------------\n",
      "\n",
      "Phone Brand: Shenzhou\n",
      "\n",
      "['X50TS']\n",
      "\n",
      "----------------------------------------------------------------------\n",
      "\n",
      "Phone Brand: Shouyun\n",
      "\n",
      "['P1']\n",
      "\n",
      "----------------------------------------------------------------------\n",
      "\n",
      "Phone Brand: Shrimp\n",
      "\n",
      "['Z5' 'X6']\n",
      "\n",
      "----------------------------------------------------------------------\n",
      "\n",
      "Phone Brand: Siemens\n",
      "\n",
      "['Gigaset ME']\n",
      "\n",
      "----------------------------------------------------------------------\n",
      "\n",
      "Phone Brand: Simi\n",
      "\n",
      "['R5s plus']\n",
      "\n",
      "----------------------------------------------------------------------\n",
      "\n",
      "Phone Brand: Supreme treasure\n",
      "\n",
      "['L81' 'LT416' 'L82' 'LT988']\n",
      "\n",
      "----------------------------------------------------------------------\n",
      "\n",
      "Phone Brand: TCL\n",
      "\n",
      "['Have fun' 'Momoda 3N' 'ono' 'P335M' 'P316L' 'mwah' 'P308L' 'P331M'\n",
      " 'P520L' 'J738M' 'P306C' 'P332U' 'Fun 2C' 'Momada 3S' 'idol X' 'P301M'\n",
      " 'S720' 'idol3' 'J320T' 'P318L' 'P500M' 'P302C' 'P501M' 'P518L' 'P502U'\n",
      " 'P360W' '302U' 'J636D+' 'P596' 'S838M']\n",
      "\n",
      "----------------------------------------------------------------------\n",
      "\n",
      "Phone Brand: Taipower\n",
      "\n",
      "['X80HD' 'X98 3G' 'X80h' 'X98 Air 3G']\n",
      "\n",
      "----------------------------------------------------------------------\n",
      "\n",
      "Phone Brand: Tianyu\n",
      "\n",
      "['T87+' 'Touch 2C' 'Touch 2' 'L920' 'V8' 'T91' 'L810' 'Touch 3' 'E8' 'K1'\n",
      " 'T619+' 'Touch 3c' 'Touch V' 'C986t' 't789' 'L820' 'W619' 'T619' 'U86'\n",
      " 'L930i' 'L820c' 'U81t' 'W700' 'W88' 'E99' 'T60' 'C666t' 'W700+' 'T780+'\n",
      " 'V9' 'C986t+' 'T621']\n",
      "\n",
      "----------------------------------------------------------------------\n",
      "\n",
      "Phone Brand: Venus Digital\n",
      "\n",
      "['T9003']\n",
      "\n",
      "----------------------------------------------------------------------\n",
      "\n",
      "Phone Brand: Vip\n",
      "\n",
      "['X5']\n",
      "\n",
      "----------------------------------------------------------------------\n",
      "\n",
      "Phone Brand: Vitu\n",
      "\n",
      "['VT898' 'GT7' 'VT898S' 'VT868' 'VT888']\n",
      "\n",
      "----------------------------------------------------------------------\n",
      "\n",
      "Phone Brand: Waveguide\n",
      "\n",
      "['LT01' 'T9108' 'L9' 'T9508' 'LT02' 'T9600' 'L108' 'L100' 'Doeasy E700'\n",
      " 'I900' 'i600' 'T9608' 'T9500']\n",
      "\n",
      "----------------------------------------------------------------------\n",
      "\n",
      "Phone Brand: Weimi\n",
      "\n",
      "['P9' 'M3' 'P8']\n",
      "\n",
      "----------------------------------------------------------------------\n",
      "\n",
      "Phone Brand: White Rice\n",
      "\n",
      "['BM001' 'BM002' 'BM003']\n",
      "\n",
      "----------------------------------------------------------------------\n",
      "\n",
      "Phone Brand: Wopfeng\n",
      "\n",
      "['S2' 'S1']\n",
      "\n",
      "----------------------------------------------------------------------\n",
      "\n",
      "Phone Brand: Xiangmi\n",
      "\n",
      "['X8888' 'X6666' 'X6088']\n",
      "\n",
      "----------------------------------------------------------------------\n",
      "\n",
      "Phone Brand: Xianmi\n",
      "\n",
      "['s800']\n",
      "\n",
      "----------------------------------------------------------------------\n",
      "\n",
      "Phone Brand: Xiaomi\n",
      "\n",
      "['V183' 'Redmi Note2' 'Redmi Note3' 'S5.1' 'MI 2S' 'note top version'\n",
      " 'MI 3' 'Redmi note' 'Redmi 2A' 'MI 4' 'Redmi 1S' 'GN706L' 'Xiaomi Note'\n",
      " 'Xiaomi 4C' 'MI 2' 'Redmi Note Enhanced Edition' 'Tianjian W900' 'F301'\n",
      " 'Red Rice 2' 'MI pad' 'X817' 'GN700W' 'S7' 'Red Rice' 'MI One Plus'\n",
      " 'GN150' 'GN128' 'F103S' 'ELIFE E3T' 'MI One C1' 'V188S' 'F103' 'MI 2A'\n",
      " 'ELIFE S5.5' 'MI 1S' 'MI pad 2' 'GN715' 'GN152' 'S6' 'M5' 'Golden Steel'\n",
      " 'S5.5L' 'Red Rice 3' 'GN708T' 'GN151' 'MI 2C' 'E6' 'V182' 'MI 4S'\n",
      " 'GN700T' 'MI 5' 'GN5001S' 'E7' 'Fenghua 3' 'GN100' 'X805' 'GN137' 'V185'\n",
      " 'Tianjian T1' 'GN9002' 'E6T' 'E5' 'E3' 'GN305' 'S5.1Pro' 'MI 1' 'F303'\n",
      " 'GN708W' 'ELIFE E6 mini' 'ELIFE E7 Mini' 'GN168t' 'GN705T' 'GN135'\n",
      " 'GN810' 'GN139' 'GN878' 'GN105' 'V188' 'M5 Plus' 'GN106' 'GN180' 'M3'\n",
      " 'E8' 'M3S' 'F105' 'W800' 'GN108' 'GN9004' 'GN800' 'GN705' 'Tianjian W808'\n",
      " 'GN5002' 'Tianjian W900S']\n",
      "\n",
      "----------------------------------------------------------------------\n",
      "\n",
      "Phone Brand: Xiaxin\n",
      "\n",
      "['N821' 'N828' 'L855']\n",
      "\n",
      "----------------------------------------------------------------------\n",
      "\n",
      "Phone Brand: Yitong\n",
      "\n",
      "['P1' 'D520' 'I95' 'T890' 'P2' 'D500' 'P21' 'P305' 'T3' 'P51' 'P3' 'I7'\n",
      " 'T860']\n",
      "\n",
      "----------------------------------------------------------------------\n",
      "\n",
      "Phone Brand: Yougo\n",
      "\n",
      "[':UOOGOUT1' 'M6']\n",
      "\n",
      "----------------------------------------------------------------------\n",
      "\n",
      "Phone Brand: Youmi\n",
      "\n",
      "['3' 'R1' 'UIMI3' 'UIMI4']\n",
      "\n",
      "----------------------------------------------------------------------\n",
      "\n",
      "Phone Brand: Youyu\n",
      "\n",
      "['KDOOR X5-Y12']\n",
      "\n",
      "----------------------------------------------------------------------\n",
      "\n",
      "Phone Brand: Yuxin\n",
      "\n",
      "['T50' 'Red Pepper X1' 'Red chilli' 'Red Pepper XM' 'Red Pepper Note'\n",
      " 'Pepper X3' 'Pepper M2' '红辣椒任性版 Plus' 'Pepper 9' 'Chili S1' 'Pepper 5'\n",
      " '小辣椒 4' '红辣椒NX Plus' '小辣椒 6' '小辣椒 3' '小辣椒 7' '小辣椒 M3' 'Little Pepper X4'\n",
      " 'Red Pepper Note3']\n",
      "\n",
      "----------------------------------------------------------------------\n",
      "\n",
      "Phone Brand: ZUK\n",
      "\n",
      "['Z1']\n",
      "\n",
      "----------------------------------------------------------------------\n",
      "\n",
      "Phone Brand: vivo\n",
      "\n",
      "['Y13' 'X6 L' 'Y35' 'Xperia SL' 'Y17T' 'X710L' 'X5M' 'Xperia Z1' 'X5Max+'\n",
      " 'X5L' 'X3L' 'Xperia TX' 'Y11IT' 'X5Pro' 'X5V' 'X3T' 'Y20T' 'Y27' 'X1ST'\n",
      " 'Y622' 'X5Max' 'Xplay3S' 'Y13iL' 'Y613F' 'Y23L' 'Y927' 'X3S' 'Y15'\n",
      " 'Xperia S' 'S7I' 'Y33' 'Xperia Z5' 'Xplay' 'Y937' 'S7T' 'Xperia Z3 mini'\n",
      " 'X5SL' 'Y29L' 'Xperia arc S' 'Y11' 'Xperia Neo' 'Y13L' 'Y28L' 'Y22IL'\n",
      " 'Y928' 'Xperia Z2' 'Y11IW' 'X3F' 'Y913' 'Y923' 'Y37' 'X6 Plus D' 'S7'\n",
      " 'X6 Plus' 'S12' 'Y1' 'Y18L' 'X6 D' 'Y19T' 'Y13T' 'S11T' 'Xperia C' 'Y22L'\n",
      " 'Y51' 'Xperia Z' 'Y613' 'Xperia C3' 'Xperia acro S' 'X3V' 'X6' 'Y3T'\n",
      " 'E1T' 'Xperia T' 'X1' 'E1' 'X1S' 'Xperia P' 'S9' 'V1' 'S3+' 'Y17W'\n",
      " 'Xshot' 'Xperia Z Ultra' 'Xperia Z3' 'Xperia SP' 'Xperia ion' 'S6'\n",
      " 'Xperia T2 Ultra' 'Y22' 'E5' 'Y627' 'Xperia Z3+ Dual' 'Y623' 'S9T' 'Y628'\n",
      " 'Y31' 'Xperia U' 'Xperia ZR ' 'Xperia ZL' 'Xperia Z1 炫彩版' 'S6T' 'S3'\n",
      " 'Xperia M2' 'Xperia ZR' 'Xperia ray' 'Xperia Z5 Premium' 'E3' 'Xplay5'\n",
      " 'X10i' 'Xperia J']\n",
      "\n",
      "----------------------------------------------------------------------\n",
      "\n"
     ]
    }
   ],
   "source": [
    "for brand, group in df_phone_brand_device_model.groupby('phone_brand'):\n",
    "    print(\"Phone Brand: {}\\n\".format(brand))\n",
    "    print(group['device_model'].unique())\n",
    "    print('\\n' + '-'*70 + '\\n')"
   ]
  },
  {
   "cell_type": "code",
   "execution_count": null,
   "id": "ada9fc54-f038-4b89-9db3-f72cb4a9ecc0",
   "metadata": {},
   "outputs": [],
   "source": []
  }
 ],
 "metadata": {
  "kernelspec": {
   "display_name": "Python 3 (ipykernel)",
   "language": "python",
   "name": "python3"
  },
  "language_info": {
   "codemirror_mode": {
    "name": "ipython",
    "version": 3
   },
   "file_extension": ".py",
   "mimetype": "text/x-python",
   "name": "python",
   "nbconvert_exporter": "python",
   "pygments_lexer": "ipython3",
   "version": "3.9.9"
  },
  "widgets": {
   "application/vnd.jupyter.widget-state+json": {
    "state": {
     "03d7434a71464f2bac4a21fd425458d4": {
      "model_module": "@jupyter-widgets/controls",
      "model_module_version": "1.5.0",
      "model_name": "DescriptionStyleModel",
      "state": {
       "description_width": ""
      }
     },
     "044c2621b9ad479ea41782b5ddd46c92": {
      "model_module": "@jupyter-widgets/base",
      "model_module_version": "1.2.0",
      "model_name": "LayoutModel",
      "state": {}
     },
     "0525788f09194b99a745cc32be9b777d": {
      "model_module": "@jupyter-widgets/controls",
      "model_module_version": "1.5.0",
      "model_name": "HBoxModel",
      "state": {
       "children": [
        "IPY_MODEL_5a97d7f1c97b4a0d8a1c3c7b8f7ce824",
        "IPY_MODEL_9f5fc79aef064b5e97545f9f61c8ab5f",
        "IPY_MODEL_fba3060611e14781bf5fe537c7c818c6"
       ],
       "layout": "IPY_MODEL_044c2621b9ad479ea41782b5ddd46c92"
      }
     },
     "0fefe97f86a340009c6bba07adc11ce0": {
      "model_module": "@jupyter-widgets/controls",
      "model_module_version": "1.5.0",
      "model_name": "DescriptionStyleModel",
      "state": {
       "description_width": ""
      }
     },
     "19d7d53244cb43a3979aa16171c38222": {
      "model_module": "@jupyter-widgets/controls",
      "model_module_version": "1.5.0",
      "model_name": "DescriptionStyleModel",
      "state": {
       "description_width": ""
      }
     },
     "19e6cad0f73341bf940bef001dad15ec": {
      "model_module": "@jupyter-widgets/controls",
      "model_module_version": "1.5.0",
      "model_name": "HTMLModel",
      "state": {
       "layout": "IPY_MODEL_a0e17ab983344049b9682b338bb51458",
       "style": "IPY_MODEL_3921643a15ff48c7a13d0eb3023c7a1b",
       "value": "Render HTML: 100%"
      }
     },
     "1a0fece622204f869b6bcbe854ddd2eb": {
      "model_module": "@jupyter-widgets/controls",
      "model_module_version": "1.5.0",
      "model_name": "DescriptionStyleModel",
      "state": {
       "description_width": ""
      }
     },
     "1ef632ec93b74f428af55c424ed0577e": {
      "model_module": "@jupyter-widgets/base",
      "model_module_version": "1.2.0",
      "model_name": "LayoutModel",
      "state": {}
     },
     "200a21315a7d40b488298ab4687b41aa": {
      "model_module": "@jupyter-widgets/controls",
      "model_module_version": "1.5.0",
      "model_name": "HTMLModel",
      "state": {
       "layout": "IPY_MODEL_fd9f520df5744d9186f637b9070c318b",
       "style": "IPY_MODEL_612202f3a2dc40ee868728ee2d11ab85",
       "value": " 1/1 [00:00&lt;00:00, 103.94it/s]"
      }
     },
     "20f0fd8b14904c8f954a2faa39cfaf68": {
      "model_module": "@jupyter-widgets/controls",
      "model_module_version": "1.5.0",
      "model_name": "HBoxModel",
      "state": {
       "children": [
        "IPY_MODEL_19e6cad0f73341bf940bef001dad15ec",
        "IPY_MODEL_dc73f4d7adc948b1a346ac35484b1b9c",
        "IPY_MODEL_6f5120f9f05346e78f47d208226bcd0d"
       ],
       "layout": "IPY_MODEL_c2866f83dc7949528546f1bc8923f381"
      }
     },
     "2b77036f06264cf48c9092bffcf94d43": {
      "model_module": "@jupyter-widgets/controls",
      "model_module_version": "1.5.0",
      "model_name": "ProgressStyleModel",
      "state": {
       "description_width": ""
      }
     },
     "2bb03572eefb42939fc75f1f7226899f": {
      "model_module": "@jupyter-widgets/controls",
      "model_module_version": "1.5.0",
      "model_name": "DescriptionStyleModel",
      "state": {
       "description_width": ""
      }
     },
     "2df4a12a52c64cb69d4a0fcf10d25af9": {
      "model_module": "@jupyter-widgets/controls",
      "model_module_version": "1.5.0",
      "model_name": "HTMLModel",
      "state": {
       "layout": "IPY_MODEL_b62d522cefa84bdb96b77f1be35833f7",
       "style": "IPY_MODEL_d3cad67dfdbf47b593e0257bdb2578ea",
       "value": "Generate report structure: 100%"
      }
     },
     "2e0f71fe696f43ae81b4e97147172ddc": {
      "model_module": "@jupyter-widgets/controls",
      "model_module_version": "1.5.0",
      "model_name": "HBoxModel",
      "state": {
       "children": [
        "IPY_MODEL_ce12da35e6b14ec0bc691c51d2d65157",
        "IPY_MODEL_63904e402de64d8b8485d9fb9a89218a",
        "IPY_MODEL_8c21c4526c7f4240855872ae48443138"
       ],
       "layout": "IPY_MODEL_caf06b5f7dd642d3b102e2729e140f6f"
      }
     },
     "35bd6e4e31bd42959ef5dc03aea904d0": {
      "model_module": "@jupyter-widgets/controls",
      "model_module_version": "1.5.0",
      "model_name": "FloatProgressModel",
      "state": {
       "bar_style": "success",
       "layout": "IPY_MODEL_456bf39664944d98b6050a29e7a2927a",
       "max": 1,
       "style": "IPY_MODEL_c24b50a6d026425283249a51bdce8583",
       "value": 1
      }
     },
     "36d1174e9b8a48b2a00282be0e63b01e": {
      "model_module": "@jupyter-widgets/controls",
      "model_module_version": "1.5.0",
      "model_name": "DescriptionStyleModel",
      "state": {
       "description_width": ""
      }
     },
     "38c29c4af67044f8835e02c34c950f8c": {
      "model_module": "@jupyter-widgets/base",
      "model_module_version": "1.2.0",
      "model_name": "LayoutModel",
      "state": {}
     },
     "38c2cdb2612d4d09af308df130ebc05c": {
      "model_module": "@jupyter-widgets/controls",
      "model_module_version": "1.5.0",
      "model_name": "DescriptionStyleModel",
      "state": {
       "description_width": ""
      }
     },
     "3921643a15ff48c7a13d0eb3023c7a1b": {
      "model_module": "@jupyter-widgets/controls",
      "model_module_version": "1.5.0",
      "model_name": "DescriptionStyleModel",
      "state": {
       "description_width": ""
      }
     },
     "39557398c6bd481cab8ae893c28e1f6a": {
      "model_module": "@jupyter-widgets/controls",
      "model_module_version": "1.5.0",
      "model_name": "DescriptionStyleModel",
      "state": {
       "description_width": ""
      }
     },
     "4344f31df75f45c6bdccda3ba3b611e0": {
      "model_module": "@jupyter-widgets/controls",
      "model_module_version": "1.5.0",
      "model_name": "ProgressStyleModel",
      "state": {
       "description_width": ""
      }
     },
     "456bf39664944d98b6050a29e7a2927a": {
      "model_module": "@jupyter-widgets/base",
      "model_module_version": "1.2.0",
      "model_name": "LayoutModel",
      "state": {}
     },
     "499be76364f54539933be447cc1b68f0": {
      "model_module": "@jupyter-widgets/controls",
      "model_module_version": "1.5.0",
      "model_name": "HBoxModel",
      "state": {
       "children": [
        "IPY_MODEL_f52c292050d94d49978ae4fb2f180ef3",
        "IPY_MODEL_35bd6e4e31bd42959ef5dc03aea904d0",
        "IPY_MODEL_200a21315a7d40b488298ab4687b41aa"
       ],
       "layout": "IPY_MODEL_6eded54cb7084b4d9837a8c8aee28e22"
      }
     },
     "4e318a6787dd47739679ab23b713a389": {
      "model_module": "@jupyter-widgets/base",
      "model_module_version": "1.2.0",
      "model_name": "LayoutModel",
      "state": {}
     },
     "524b1fd58489425e9857b07196963474": {
      "model_module": "@jupyter-widgets/base",
      "model_module_version": "1.2.0",
      "model_name": "LayoutModel",
      "state": {}
     },
     "540865b94d6b49abbdad79e239714177": {
      "model_module": "@jupyter-widgets/controls",
      "model_module_version": "1.5.0",
      "model_name": "ProgressStyleModel",
      "state": {
       "description_width": ""
      }
     },
     "5710eb1f62b14ff9a75927a99d6aad79": {
      "model_module": "@jupyter-widgets/base",
      "model_module_version": "1.2.0",
      "model_name": "LayoutModel",
      "state": {}
     },
     "5a97d7f1c97b4a0d8a1c3c7b8f7ce824": {
      "model_module": "@jupyter-widgets/controls",
      "model_module_version": "1.5.0",
      "model_name": "HTMLModel",
      "state": {
       "layout": "IPY_MODEL_7319a6eb43a14f63b7e3aa98dd9b5170",
       "style": "IPY_MODEL_85f5f5a0fd5a44f987d8659cd41da439",
       "value": "Summarize dataset: 100%"
      }
     },
     "5e4523b151de459c92dbd5e8504965c2": {
      "model_module": "@jupyter-widgets/base",
      "model_module_version": "1.2.0",
      "model_name": "LayoutModel",
      "state": {}
     },
     "5f59c50b9c8341c4b0497fb3ae0078e6": {
      "model_module": "@jupyter-widgets/base",
      "model_module_version": "1.2.0",
      "model_name": "LayoutModel",
      "state": {}
     },
     "612202f3a2dc40ee868728ee2d11ab85": {
      "model_module": "@jupyter-widgets/controls",
      "model_module_version": "1.5.0",
      "model_name": "DescriptionStyleModel",
      "state": {
       "description_width": ""
      }
     },
     "63904e402de64d8b8485d9fb9a89218a": {
      "model_module": "@jupyter-widgets/controls",
      "model_module_version": "1.5.0",
      "model_name": "FloatProgressModel",
      "state": {
       "bar_style": "success",
       "layout": "IPY_MODEL_524b1fd58489425e9857b07196963474",
       "max": 1,
       "style": "IPY_MODEL_72ed25a181004b108b09e29dfabbc69c",
       "value": 1
      }
     },
     "6adde94aa16b4d27a9a809d4924c3084": {
      "model_module": "@jupyter-widgets/controls",
      "model_module_version": "1.5.0",
      "model_name": "HTMLModel",
      "state": {
       "layout": "IPY_MODEL_98ce26506ef945a08add5fc6adc5e291",
       "style": "IPY_MODEL_0fefe97f86a340009c6bba07adc11ce0",
       "value": " 1/1 [00:02&lt;00:00,  2.12s/it]"
      }
     },
     "6eded54cb7084b4d9837a8c8aee28e22": {
      "model_module": "@jupyter-widgets/base",
      "model_module_version": "1.2.0",
      "model_name": "LayoutModel",
      "state": {}
     },
     "6f5120f9f05346e78f47d208226bcd0d": {
      "model_module": "@jupyter-widgets/controls",
      "model_module_version": "1.5.0",
      "model_name": "HTMLModel",
      "state": {
       "layout": "IPY_MODEL_5710eb1f62b14ff9a75927a99d6aad79",
       "style": "IPY_MODEL_1a0fece622204f869b6bcbe854ddd2eb",
       "value": " 1/1 [00:00&lt;00:00,  1.88it/s]"
      }
     },
     "72ed25a181004b108b09e29dfabbc69c": {
      "model_module": "@jupyter-widgets/controls",
      "model_module_version": "1.5.0",
      "model_name": "ProgressStyleModel",
      "state": {
       "description_width": ""
      }
     },
     "7319a6eb43a14f63b7e3aa98dd9b5170": {
      "model_module": "@jupyter-widgets/base",
      "model_module_version": "1.2.0",
      "model_name": "LayoutModel",
      "state": {}
     },
     "770bdbcec5644372827286637d6e4e8f": {
      "model_module": "@jupyter-widgets/controls",
      "model_module_version": "1.5.0",
      "model_name": "HBoxModel",
      "state": {
       "children": [
        "IPY_MODEL_f79a5891893042a58af5d5b3003ce8fe",
        "IPY_MODEL_be87e3af0920411db84753b1fd95373d",
        "IPY_MODEL_b962dd2531414953b88eb49fac837fc2"
       ],
       "layout": "IPY_MODEL_5f59c50b9c8341c4b0497fb3ae0078e6"
      }
     },
     "78e2cf9a4a094b2faa101fadefcae1a2": {
      "model_module": "@jupyter-widgets/controls",
      "model_module_version": "1.5.0",
      "model_name": "ProgressStyleModel",
      "state": {
       "description_width": ""
      }
     },
     "7a4c59ccdec54740a1289766aaa31b44": {
      "model_module": "@jupyter-widgets/controls",
      "model_module_version": "1.5.0",
      "model_name": "HBoxModel",
      "state": {
       "children": [
        "IPY_MODEL_2df4a12a52c64cb69d4a0fcf10d25af9",
        "IPY_MODEL_abbde0ddd0d742de9d74b9105793184b",
        "IPY_MODEL_6adde94aa16b4d27a9a809d4924c3084"
       ],
       "layout": "IPY_MODEL_4e318a6787dd47739679ab23b713a389"
      }
     },
     "7e95466aa7d44d06b26d1b784d0f7903": {
      "model_module": "@jupyter-widgets/base",
      "model_module_version": "1.2.0",
      "model_name": "LayoutModel",
      "state": {}
     },
     "810646486bc84abdb31406fea5320894": {
      "model_module": "@jupyter-widgets/base",
      "model_module_version": "1.2.0",
      "model_name": "LayoutModel",
      "state": {}
     },
     "8368cb8e2d5c4a7c861e40d177b40d7e": {
      "model_module": "@jupyter-widgets/base",
      "model_module_version": "1.2.0",
      "model_name": "LayoutModel",
      "state": {}
     },
     "85f5f5a0fd5a44f987d8659cd41da439": {
      "model_module": "@jupyter-widgets/controls",
      "model_module_version": "1.5.0",
      "model_name": "DescriptionStyleModel",
      "state": {
       "description_width": ""
      }
     },
     "8877698df95541778e63101c3701d9e5": {
      "model_module": "@jupyter-widgets/base",
      "model_module_version": "1.2.0",
      "model_name": "LayoutModel",
      "state": {}
     },
     "890b7a0a9a2445068cec4717ef9dc792": {
      "model_module": "@jupyter-widgets/controls",
      "model_module_version": "1.5.0",
      "model_name": "HTMLModel",
      "state": {
       "layout": "IPY_MODEL_8e1d5aef05a0487e9a69987acd5678c8",
       "style": "IPY_MODEL_03d7434a71464f2bac4a21fd425458d4",
       "value": " 1/1 [00:01&lt;00:00,  1.96s/it]"
      }
     },
     "8c21c4526c7f4240855872ae48443138": {
      "model_module": "@jupyter-widgets/controls",
      "model_module_version": "1.5.0",
      "model_name": "HTMLModel",
      "state": {
       "layout": "IPY_MODEL_8368cb8e2d5c4a7c861e40d177b40d7e",
       "style": "IPY_MODEL_36d1174e9b8a48b2a00282be0e63b01e",
       "value": " 1/1 [00:00&lt;00:00, 112.02it/s]"
      }
     },
     "8e1d5aef05a0487e9a69987acd5678c8": {
      "model_module": "@jupyter-widgets/base",
      "model_module_version": "1.2.0",
      "model_name": "LayoutModel",
      "state": {}
     },
     "90a3a2696ec044a893bf7a5b5c07cdfc": {
      "model_module": "@jupyter-widgets/base",
      "model_module_version": "1.2.0",
      "model_name": "LayoutModel",
      "state": {}
     },
     "9250fa0730b54d7bb81f68f5caa9cc72": {
      "model_module": "@jupyter-widgets/controls",
      "model_module_version": "1.5.0",
      "model_name": "DescriptionStyleModel",
      "state": {
       "description_width": ""
      }
     },
     "98ce26506ef945a08add5fc6adc5e291": {
      "model_module": "@jupyter-widgets/base",
      "model_module_version": "1.2.0",
      "model_name": "LayoutModel",
      "state": {}
     },
     "9a8904e5b4db46e1b477bdb14de0bb26": {
      "model_module": "@jupyter-widgets/base",
      "model_module_version": "1.2.0",
      "model_name": "LayoutModel",
      "state": {}
     },
     "9f5fc79aef064b5e97545f9f61c8ab5f": {
      "model_module": "@jupyter-widgets/controls",
      "model_module_version": "1.5.0",
      "model_name": "FloatProgressModel",
      "state": {
       "bar_style": "success",
       "layout": "IPY_MODEL_38c29c4af67044f8835e02c34c950f8c",
       "max": 5,
       "style": "IPY_MODEL_2b77036f06264cf48c9092bffcf94d43",
       "value": 5
      }
     },
     "a0e17ab983344049b9682b338bb51458": {
      "model_module": "@jupyter-widgets/base",
      "model_module_version": "1.2.0",
      "model_name": "LayoutModel",
      "state": {}
     },
     "a184d73b42d143f2b6f7b1fa03cc9a53": {
      "model_module": "@jupyter-widgets/base",
      "model_module_version": "1.2.0",
      "model_name": "LayoutModel",
      "state": {}
     },
     "abbde0ddd0d742de9d74b9105793184b": {
      "model_module": "@jupyter-widgets/controls",
      "model_module_version": "1.5.0",
      "model_name": "FloatProgressModel",
      "state": {
       "bar_style": "success",
       "layout": "IPY_MODEL_a184d73b42d143f2b6f7b1fa03cc9a53",
       "max": 1,
       "style": "IPY_MODEL_c597bf9e93b6442d86bfeedd73e36dc6",
       "value": 1
      }
     },
     "ad5e84c30d6a40738375933dfd1a5b8f": {
      "model_module": "@jupyter-widgets/controls",
      "model_module_version": "1.5.0",
      "model_name": "DescriptionStyleModel",
      "state": {
       "description_width": ""
      }
     },
     "b0c9dd9490564e9c84a33cb12398b996": {
      "model_module": "@jupyter-widgets/base",
      "model_module_version": "1.2.0",
      "model_name": "LayoutModel",
      "state": {}
     },
     "b3c017de75d14f7bb3261874ebc66a79": {
      "model_module": "@jupyter-widgets/controls",
      "model_module_version": "1.5.0",
      "model_name": "HBoxModel",
      "state": {
       "children": [
        "IPY_MODEL_d226590fee1847fe8ce993d58a428a59",
        "IPY_MODEL_b92b23385497444bb60bf1c1f7d18d7f",
        "IPY_MODEL_dc309dc99aa04b0f9d9bbe90b402b7cd"
       ],
       "layout": "IPY_MODEL_810646486bc84abdb31406fea5320894"
      }
     },
     "b62d522cefa84bdb96b77f1be35833f7": {
      "model_module": "@jupyter-widgets/base",
      "model_module_version": "1.2.0",
      "model_name": "LayoutModel",
      "state": {}
     },
     "b88320c9eef2408abfe52fb054f98d8b": {
      "model_module": "@jupyter-widgets/controls",
      "model_module_version": "1.5.0",
      "model_name": "FloatProgressModel",
      "state": {
       "bar_style": "success",
       "layout": "IPY_MODEL_d3864bcfa27a46c69089dadd5dca5a0a",
       "max": 1,
       "style": "IPY_MODEL_78e2cf9a4a094b2faa101fadefcae1a2",
       "value": 1
      }
     },
     "b92b23385497444bb60bf1c1f7d18d7f": {
      "model_module": "@jupyter-widgets/controls",
      "model_module_version": "1.5.0",
      "model_name": "FloatProgressModel",
      "state": {
       "bar_style": "success",
       "layout": "IPY_MODEL_ddc684bdc4b44428a50247f0d67fed18",
       "max": 1,
       "style": "IPY_MODEL_dd78d04f8a304f27b94565eb8a6470c5",
       "value": 1
      }
     },
     "b962dd2531414953b88eb49fac837fc2": {
      "model_module": "@jupyter-widgets/controls",
      "model_module_version": "1.5.0",
      "model_name": "HTMLModel",
      "state": {
       "layout": "IPY_MODEL_fb3c55776bae49e8a31619e6ff0869cc",
       "style": "IPY_MODEL_38c2cdb2612d4d09af308df130ebc05c",
       "value": " 37/37 [00:05&lt;00:00,  4.59it/s, Completed]"
      }
     },
     "be87e3af0920411db84753b1fd95373d": {
      "model_module": "@jupyter-widgets/controls",
      "model_module_version": "1.5.0",
      "model_name": "FloatProgressModel",
      "state": {
       "bar_style": "success",
       "layout": "IPY_MODEL_cbfc925a76b4407fbf7cfd51a984a169",
       "max": 5,
       "style": "IPY_MODEL_540865b94d6b49abbdad79e239714177",
       "value": 5
      }
     },
     "c24b50a6d026425283249a51bdce8583": {
      "model_module": "@jupyter-widgets/controls",
      "model_module_version": "1.5.0",
      "model_name": "ProgressStyleModel",
      "state": {
       "description_width": ""
      }
     },
     "c2866f83dc7949528546f1bc8923f381": {
      "model_module": "@jupyter-widgets/base",
      "model_module_version": "1.2.0",
      "model_name": "LayoutModel",
      "state": {}
     },
     "c597bf9e93b6442d86bfeedd73e36dc6": {
      "model_module": "@jupyter-widgets/controls",
      "model_module_version": "1.5.0",
      "model_name": "ProgressStyleModel",
      "state": {
       "description_width": ""
      }
     },
     "caf06b5f7dd642d3b102e2729e140f6f": {
      "model_module": "@jupyter-widgets/base",
      "model_module_version": "1.2.0",
      "model_name": "LayoutModel",
      "state": {}
     },
     "cb3f467c67ce4ee393346e8573423f74": {
      "model_module": "@jupyter-widgets/controls",
      "model_module_version": "1.5.0",
      "model_name": "DescriptionStyleModel",
      "state": {
       "description_width": ""
      }
     },
     "cbfc925a76b4407fbf7cfd51a984a169": {
      "model_module": "@jupyter-widgets/base",
      "model_module_version": "1.2.0",
      "model_name": "LayoutModel",
      "state": {}
     },
     "cd139754c2214dc4919f5144f236e9a5": {
      "model_module": "@jupyter-widgets/controls",
      "model_module_version": "1.5.0",
      "model_name": "DescriptionStyleModel",
      "state": {
       "description_width": ""
      }
     },
     "ce12da35e6b14ec0bc691c51d2d65157": {
      "model_module": "@jupyter-widgets/controls",
      "model_module_version": "1.5.0",
      "model_name": "HTMLModel",
      "state": {
       "layout": "IPY_MODEL_1ef632ec93b74f428af55c424ed0577e",
       "style": "IPY_MODEL_cd139754c2214dc4919f5144f236e9a5",
       "value": "Export report to file: 100%"
      }
     },
     "d226590fee1847fe8ce993d58a428a59": {
      "model_module": "@jupyter-widgets/controls",
      "model_module_version": "1.5.0",
      "model_name": "HTMLModel",
      "state": {
       "layout": "IPY_MODEL_8877698df95541778e63101c3701d9e5",
       "style": "IPY_MODEL_39557398c6bd481cab8ae893c28e1f6a",
       "value": "Render HTML: 100%"
      }
     },
     "d3864bcfa27a46c69089dadd5dca5a0a": {
      "model_module": "@jupyter-widgets/base",
      "model_module_version": "1.2.0",
      "model_name": "LayoutModel",
      "state": {}
     },
     "d3cad67dfdbf47b593e0257bdb2578ea": {
      "model_module": "@jupyter-widgets/controls",
      "model_module_version": "1.5.0",
      "model_name": "DescriptionStyleModel",
      "state": {
       "description_width": ""
      }
     },
     "d4eff53334f8490db7adfe1943892ffc": {
      "model_module": "@jupyter-widgets/controls",
      "model_module_version": "1.5.0",
      "model_name": "HBoxModel",
      "state": {
       "children": [
        "IPY_MODEL_e4e97d17463047b1929ef10adc35b120",
        "IPY_MODEL_b88320c9eef2408abfe52fb054f98d8b",
        "IPY_MODEL_890b7a0a9a2445068cec4717ef9dc792"
       ],
       "layout": "IPY_MODEL_7e95466aa7d44d06b26d1b784d0f7903"
      }
     },
     "dc1feee2afac4a8698503ed60f1208ed": {
      "model_module": "@jupyter-widgets/base",
      "model_module_version": "1.2.0",
      "model_name": "LayoutModel",
      "state": {}
     },
     "dc309dc99aa04b0f9d9bbe90b402b7cd": {
      "model_module": "@jupyter-widgets/controls",
      "model_module_version": "1.5.0",
      "model_name": "HTMLModel",
      "state": {
       "layout": "IPY_MODEL_b0c9dd9490564e9c84a33cb12398b996",
       "style": "IPY_MODEL_9250fa0730b54d7bb81f68f5caa9cc72",
       "value": " 1/1 [00:00&lt;00:00,  1.55it/s]"
      }
     },
     "dc73f4d7adc948b1a346ac35484b1b9c": {
      "model_module": "@jupyter-widgets/controls",
      "model_module_version": "1.5.0",
      "model_name": "FloatProgressModel",
      "state": {
       "bar_style": "success",
       "layout": "IPY_MODEL_9a8904e5b4db46e1b477bdb14de0bb26",
       "max": 1,
       "style": "IPY_MODEL_4344f31df75f45c6bdccda3ba3b611e0",
       "value": 1
      }
     },
     "dd78d04f8a304f27b94565eb8a6470c5": {
      "model_module": "@jupyter-widgets/controls",
      "model_module_version": "1.5.0",
      "model_name": "ProgressStyleModel",
      "state": {
       "description_width": ""
      }
     },
     "ddc684bdc4b44428a50247f0d67fed18": {
      "model_module": "@jupyter-widgets/base",
      "model_module_version": "1.2.0",
      "model_name": "LayoutModel",
      "state": {}
     },
     "e4e97d17463047b1929ef10adc35b120": {
      "model_module": "@jupyter-widgets/controls",
      "model_module_version": "1.5.0",
      "model_name": "HTMLModel",
      "state": {
       "layout": "IPY_MODEL_90a3a2696ec044a893bf7a5b5c07cdfc",
       "style": "IPY_MODEL_cb3f467c67ce4ee393346e8573423f74",
       "value": "Generate report structure: 100%"
      }
     },
     "f52c292050d94d49978ae4fb2f180ef3": {
      "model_module": "@jupyter-widgets/controls",
      "model_module_version": "1.5.0",
      "model_name": "HTMLModel",
      "state": {
       "layout": "IPY_MODEL_f68621c8b1314c738dc19a59a26214b2",
       "style": "IPY_MODEL_19d7d53244cb43a3979aa16171c38222",
       "value": "Export report to file: 100%"
      }
     },
     "f68621c8b1314c738dc19a59a26214b2": {
      "model_module": "@jupyter-widgets/base",
      "model_module_version": "1.2.0",
      "model_name": "LayoutModel",
      "state": {}
     },
     "f79a5891893042a58af5d5b3003ce8fe": {
      "model_module": "@jupyter-widgets/controls",
      "model_module_version": "1.5.0",
      "model_name": "HTMLModel",
      "state": {
       "layout": "IPY_MODEL_5e4523b151de459c92dbd5e8504965c2",
       "style": "IPY_MODEL_2bb03572eefb42939fc75f1f7226899f",
       "value": "Summarize dataset: 100%"
      }
     },
     "fb3c55776bae49e8a31619e6ff0869cc": {
      "model_module": "@jupyter-widgets/base",
      "model_module_version": "1.2.0",
      "model_name": "LayoutModel",
      "state": {}
     },
     "fba3060611e14781bf5fe537c7c818c6": {
      "model_module": "@jupyter-widgets/controls",
      "model_module_version": "1.5.0",
      "model_name": "HTMLModel",
      "state": {
       "layout": "IPY_MODEL_dc1feee2afac4a8698503ed60f1208ed",
       "style": "IPY_MODEL_ad5e84c30d6a40738375933dfd1a5b8f",
       "value": " 37/37 [00:37&lt;00:00,  1.67s/it, Completed]"
      }
     },
     "fd9f520df5744d9186f637b9070c318b": {
      "model_module": "@jupyter-widgets/base",
      "model_module_version": "1.2.0",
      "model_name": "LayoutModel",
      "state": {}
     }
    },
    "version_major": 2,
    "version_minor": 0
   }
  }
 },
 "nbformat": 4,
 "nbformat_minor": 5
}
